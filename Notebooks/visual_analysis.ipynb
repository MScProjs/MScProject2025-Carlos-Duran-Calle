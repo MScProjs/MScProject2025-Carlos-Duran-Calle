{
 "cells": [
  {
   "cell_type": "code",
   "execution_count": 1,
   "id": "f677511c",
   "metadata": {},
   "outputs": [
    {
     "name": "stdout",
     "output_type": "stream",
     "text": [
      "✅ Setup complete - ready to analyze!\n",
      "📁 Working directory: c:\\Dissertation_Term3\\MScProject\\Notebooks\n",
      "📊 Available variables: gender, region, highest_education, imd_band, age_band, disability\n"
     ]
    }
   ],
   "source": [
    "# =============================================================================\n",
    "# CELL 1: Setup (Always Run First)\n",
    "# =============================================================================\n",
    "\n",
    "# Add Python_files directory to path\n",
    "import sys\n",
    "import os\n",
    "sys.path.append(os.path.join('..', 'Python_files'))\n",
    "\n",
    "# Import all required modules\n",
    "import pandas as pd\n",
    "import numpy as np\n",
    "import warnings\n",
    "warnings.filterwarnings('ignore')\n",
    "\n",
    "# Import custom modules\n",
    "from data_loader import load_and_validate\n",
    "from data_processor import process_all_data\n",
    "from analysis_engine import run_complete_analysis, create_cross_tables\n",
    "from visualization import (\n",
    "    create_plotly_regression_plot, \n",
    "    create_student_segments_plot,\n",
    "    plot_all_cross_tables,\n",
    "    create_all_visualizations\n",
    ")\n",
    "from config_file import VARIABLE_CONFIGS, RESULT_CODE_MAPPING, CATEGORICAL_VARS\n",
    "\n",
    "print(\"✅ Setup complete - ready to analyze!\")\n",
    "print(f\"📁 Working directory: {os.getcwd()}\")\n",
    "print(f\"📊 Available variables: {', '.join(CATEGORICAL_VARS)}\")"
   ]
  },
  {
   "cell_type": "code",
   "execution_count": 2,
   "id": "813b0588",
   "metadata": {},
   "outputs": [
    {
     "name": "stdout",
     "output_type": "stream",
     "text": [
      "🔄 Loading data...\n",
      "============================================================\n",
      "LOADING STUDENT ASSESSMENT DATA\n",
      "============================================================\n",
      "Loading data from: ..\\Data\n",
      "✓ Loaded assessments.csv: (206, 6)\n",
      "✓ Loaded courses.csv: (22, 3)\n",
      "✓ Loaded studentAssessment.csv: (173912, 5)\n",
      "✓ Loaded studentInfo.csv: (32593, 12)\n",
      "✓ Loaded studentRegistration.csv: (32593, 5)\n",
      "✓ Loaded studentVle.csv: (10655280, 6)\n",
      "✓ Loaded vle.csv: (6364, 6)\n",
      "\n",
      "Validating data structure...\n",
      "✓ assessments has all required columns\n",
      "✓ student_assessment has all required columns\n",
      "✓ student_registration has all required columns\n",
      "✓ student_vle has all required columns\n",
      "✓ student_info has all required columns\n",
      "\n",
      "✓ All data validation checks passed\n",
      "\n",
      "============================================================\n",
      "DATA SUMMARY\n",
      "============================================================\n",
      "\n",
      "ASSESSMENTS:\n",
      "  Shape: (206, 6)\n",
      "  Columns: ['code_module', 'code_presentation', 'id_assessment', 'assessment_type', 'date', 'weight']\n",
      "  Missing values: 11\n",
      "\n",
      "COURSES:\n",
      "  Shape: (22, 3)\n",
      "  Columns: ['code_module', 'code_presentation', 'module_presentation_length']\n",
      "  Missing values: None\n",
      "\n",
      "STUDENT ASSESSMENT:\n",
      "  Shape: (173912, 5)\n",
      "  Columns: ['id_assessment', 'id_student', 'date_submitted', 'is_banked', 'score']\n",
      "  Missing values: 173\n",
      "\n",
      "STUDENT INFO:\n",
      "  Shape: (32593, 12)\n",
      "  Columns: ['code_module', 'code_presentation', 'id_student', 'gender', 'region', 'highest_education', 'imd_band', 'age_band', 'num_of_prev_attempts', 'studied_credits', 'disability', 'final_result']\n",
      "  Missing values: 1111\n",
      "\n",
      "STUDENT REGISTRATION:\n",
      "  Shape: (32593, 5)\n",
      "  Columns: ['code_module', 'code_presentation', 'id_student', 'date_registration', 'date_unregistration']\n",
      "  Missing values: 22566\n",
      "\n",
      "STUDENT VLE:\n",
      "  Shape: (10655280, 6)\n",
      "  Columns: ['code_module', 'code_presentation', 'id_student', 'id_site', 'date', 'sum_click']\n",
      "  Missing values: None\n",
      "\n",
      "VLE:\n",
      "  Shape: (6364, 6)\n",
      "  Columns: ['id_site', 'code_module', 'code_presentation', 'activity_type', 'week_from', 'week_to']\n",
      "  Missing values: 10486\n",
      "\n",
      "🔄 Processing data...\n",
      "\n",
      "============================================================\n",
      "STARTING DATA PROCESSING PIPELINE\n",
      "============================================================\n",
      "Finding first assessments...\n",
      "  Found 106 TMA assessments\n",
      "✓ Found 22 first assessments across 22 courses\n",
      "Filtering active students...\n",
      "  Students before filtering: 32,593\n",
      "✓ Active students after filtering: 27,725\n",
      "⚠ Found 6 students with missing registration dates\n",
      "Merging assessment scores...\n",
      "  Students with scores: 24,155\n",
      "  Students without scores: 3,570\n",
      "✓ Merged assessment scores for 27,725 students\n",
      "Calculating VLE engagement...\n",
      "  Total VLE interactions before filtering: 10,567,484\n",
      "  VLE interactions before first assessment: 2,587,468\n",
      "  Students with no VLE activity: 981\n",
      "✓ Calculated VLE engagement for 27,725 students\n",
      "Creating engagement features...\n",
      "  Students with excellent scores (>= 70): 16,687\n",
      "  Students active in VLE: 9,870\n",
      "  Overall engaged students: 19,176\n",
      "✓ Created engagement features\n",
      "Merging student demographic information...\n",
      "  Warning: 1029 missing demographic values found\n",
      "✓ Final merged dataset: (27725, 24)\n",
      "  Final result distribution:\n",
      "    Pass: 12,361 (44.6%)\n",
      "    Fail: 7,044 (25.4%)\n",
      "    Withdrawn: 5,296 (19.1%)\n",
      "    Distinction: 3,024 (10.9%)\n",
      "\n",
      "============================================================\n",
      "DATA PROCESSING COMPLETED SUCCESSFULLY\n",
      "============================================================\n",
      "Final dataset shape: (27725, 24)\n",
      "Columns: 24\n",
      "Memory usage: 17.7 MB\n",
      "\n",
      "✅ Ready! Dataset: 27,725 students × 24 features\n",
      "\n",
      "📊 QUICK OVERVIEW:\n",
      "   • Score range: 0 - 100\n",
      "   • VLE clicks range: 0 - 7,129\n",
      "   • High performers: 16,687 (60.2%)\n",
      "   • Active in VLE: 9,870 (35.6%)\n"
     ]
    }
   ],
   "source": [
    "# =============================================================================\n",
    "# CELL 2: Quick Load and Process (Run Once)\n",
    "# =============================================================================\n",
    "\n",
    "# Load and process all data in one step\n",
    "print(\"🔄 Loading data...\")\n",
    "data, is_valid = load_and_validate()\n",
    "\n",
    "if is_valid:\n",
    "    print(\"\\n🔄 Processing data...\")\n",
    "    processed_data = process_all_data(data)\n",
    "    print(f\"\\n✅ Ready! Dataset: {processed_data.shape[0]:,} students × {processed_data.shape[1]} features\")\n",
    "    \n",
    "    # Quick data overview\n",
    "    print(f\"\\n📊 QUICK OVERVIEW:\")\n",
    "    print(f\"   • Score range: {processed_data['score'].min():.0f} - {processed_data['score'].max():.0f}\")\n",
    "    print(f\"   • VLE clicks range: {processed_data['total_click_vle'].min()} - {processed_data['total_click_vle'].max():,}\")\n",
    "    print(f\"   • High performers: {(processed_data['excellent_Score'] == 1).sum():,} ({(processed_data['excellent_Score'] == 1).mean()*100:.1f}%)\")\n",
    "    print(f\"   • Active in VLE: {(processed_data['active_in_VLE'] == 1).sum():,} ({(processed_data['active_in_VLE'] == 1).mean()*100:.1f}%)\")\n",
    "else:\n",
    "    print(\"❌ Data loading failed. Please check your Data folder and files.\")\n"
   ]
  },
  {
   "cell_type": "code",
   "execution_count": 3,
   "id": "546445ac",
   "metadata": {},
   "outputs": [
    {
     "name": "stdout",
     "output_type": "stream",
     "text": [
      "📋 PROCESSED DATASET OVERVIEW\n",
      "   Shape: (27725, 24)\n",
      "   Memory: 17.7 MB\n",
      "\n",
      "📝 Columns: ['code_module', 'code_presentation', 'id_student', 'date_registration', 'date_unregistration', 'id_assessment', 'date_first_assessment', 'date_submitted', 'is_banked', 'score', 'total_click_vle', 'average_click_vle', 'excellent_Score', 'active_in_VLE', 'student_engagementt', 'gender', 'region', 'highest_education', 'imd_band', 'age_band', 'studied_credits', 'disability', 'final_result', 'final_result_code']\n",
      "\n",
      "📊 FIRST 10 ROWS:\n"
     ]
    },
    {
     "data": {
      "text/html": [
       "<div>\n",
       "<style scoped>\n",
       "    .dataframe tbody tr th:only-of-type {\n",
       "        vertical-align: middle;\n",
       "    }\n",
       "\n",
       "    .dataframe tbody tr th {\n",
       "        vertical-align: top;\n",
       "    }\n",
       "\n",
       "    .dataframe thead th {\n",
       "        text-align: right;\n",
       "    }\n",
       "</style>\n",
       "<table border=\"1\" class=\"dataframe\">\n",
       "  <thead>\n",
       "    <tr style=\"text-align: right;\">\n",
       "      <th></th>\n",
       "      <th>code_module</th>\n",
       "      <th>code_presentation</th>\n",
       "      <th>id_student</th>\n",
       "      <th>date_registration</th>\n",
       "      <th>date_unregistration</th>\n",
       "      <th>id_assessment</th>\n",
       "      <th>date_first_assessment</th>\n",
       "      <th>date_submitted</th>\n",
       "      <th>is_banked</th>\n",
       "      <th>score</th>\n",
       "      <th>...</th>\n",
       "      <th>student_engagementt</th>\n",
       "      <th>gender</th>\n",
       "      <th>region</th>\n",
       "      <th>highest_education</th>\n",
       "      <th>imd_band</th>\n",
       "      <th>age_band</th>\n",
       "      <th>studied_credits</th>\n",
       "      <th>disability</th>\n",
       "      <th>final_result</th>\n",
       "      <th>final_result_code</th>\n",
       "    </tr>\n",
       "  </thead>\n",
       "  <tbody>\n",
       "    <tr>\n",
       "      <th>0</th>\n",
       "      <td>AAA</td>\n",
       "      <td>2013J</td>\n",
       "      <td>11391</td>\n",
       "      <td>-159.0</td>\n",
       "      <td>NaN</td>\n",
       "      <td>1752</td>\n",
       "      <td>19</td>\n",
       "      <td>18.0</td>\n",
       "      <td>0.0</td>\n",
       "      <td>78.0</td>\n",
       "      <td>...</td>\n",
       "      <td>1</td>\n",
       "      <td>M</td>\n",
       "      <td>East Anglian Region</td>\n",
       "      <td>HE Qualification</td>\n",
       "      <td>90-100%</td>\n",
       "      <td>55&lt;=</td>\n",
       "      <td>240</td>\n",
       "      <td>N</td>\n",
       "      <td>Pass</td>\n",
       "      <td>2</td>\n",
       "    </tr>\n",
       "    <tr>\n",
       "      <th>1</th>\n",
       "      <td>AAA</td>\n",
       "      <td>2013J</td>\n",
       "      <td>28400</td>\n",
       "      <td>-53.0</td>\n",
       "      <td>NaN</td>\n",
       "      <td>1752</td>\n",
       "      <td>19</td>\n",
       "      <td>22.0</td>\n",
       "      <td>0.0</td>\n",
       "      <td>70.0</td>\n",
       "      <td>...</td>\n",
       "      <td>1</td>\n",
       "      <td>F</td>\n",
       "      <td>Scotland</td>\n",
       "      <td>HE Qualification</td>\n",
       "      <td>20-30%</td>\n",
       "      <td>35-55</td>\n",
       "      <td>60</td>\n",
       "      <td>N</td>\n",
       "      <td>Pass</td>\n",
       "      <td>2</td>\n",
       "    </tr>\n",
       "    <tr>\n",
       "      <th>2</th>\n",
       "      <td>AAA</td>\n",
       "      <td>2013J</td>\n",
       "      <td>31604</td>\n",
       "      <td>-52.0</td>\n",
       "      <td>NaN</td>\n",
       "      <td>1752</td>\n",
       "      <td>19</td>\n",
       "      <td>17.0</td>\n",
       "      <td>0.0</td>\n",
       "      <td>72.0</td>\n",
       "      <td>...</td>\n",
       "      <td>1</td>\n",
       "      <td>F</td>\n",
       "      <td>South East Region</td>\n",
       "      <td>A Level or Equivalent</td>\n",
       "      <td>50-60%</td>\n",
       "      <td>35-55</td>\n",
       "      <td>60</td>\n",
       "      <td>N</td>\n",
       "      <td>Pass</td>\n",
       "      <td>2</td>\n",
       "    </tr>\n",
       "    <tr>\n",
       "      <th>3</th>\n",
       "      <td>AAA</td>\n",
       "      <td>2013J</td>\n",
       "      <td>32885</td>\n",
       "      <td>-176.0</td>\n",
       "      <td>NaN</td>\n",
       "      <td>1752</td>\n",
       "      <td>19</td>\n",
       "      <td>26.0</td>\n",
       "      <td>0.0</td>\n",
       "      <td>69.0</td>\n",
       "      <td>...</td>\n",
       "      <td>1</td>\n",
       "      <td>F</td>\n",
       "      <td>West Midlands Region</td>\n",
       "      <td>Lower Than A Level</td>\n",
       "      <td>50-60%</td>\n",
       "      <td>0-35</td>\n",
       "      <td>60</td>\n",
       "      <td>N</td>\n",
       "      <td>Pass</td>\n",
       "      <td>2</td>\n",
       "    </tr>\n",
       "    <tr>\n",
       "      <th>4</th>\n",
       "      <td>AAA</td>\n",
       "      <td>2013J</td>\n",
       "      <td>38053</td>\n",
       "      <td>-110.0</td>\n",
       "      <td>NaN</td>\n",
       "      <td>1752</td>\n",
       "      <td>19</td>\n",
       "      <td>19.0</td>\n",
       "      <td>0.0</td>\n",
       "      <td>79.0</td>\n",
       "      <td>...</td>\n",
       "      <td>1</td>\n",
       "      <td>M</td>\n",
       "      <td>Wales</td>\n",
       "      <td>A Level or Equivalent</td>\n",
       "      <td>80-90%</td>\n",
       "      <td>35-55</td>\n",
       "      <td>60</td>\n",
       "      <td>N</td>\n",
       "      <td>Pass</td>\n",
       "      <td>2</td>\n",
       "    </tr>\n",
       "    <tr>\n",
       "      <th>5</th>\n",
       "      <td>AAA</td>\n",
       "      <td>2013J</td>\n",
       "      <td>45462</td>\n",
       "      <td>-67.0</td>\n",
       "      <td>NaN</td>\n",
       "      <td>1752</td>\n",
       "      <td>19</td>\n",
       "      <td>20.0</td>\n",
       "      <td>0.0</td>\n",
       "      <td>70.0</td>\n",
       "      <td>...</td>\n",
       "      <td>1</td>\n",
       "      <td>M</td>\n",
       "      <td>Scotland</td>\n",
       "      <td>HE Qualification</td>\n",
       "      <td>30-40%</td>\n",
       "      <td>0-35</td>\n",
       "      <td>60</td>\n",
       "      <td>N</td>\n",
       "      <td>Pass</td>\n",
       "      <td>2</td>\n",
       "    </tr>\n",
       "    <tr>\n",
       "      <th>6</th>\n",
       "      <td>AAA</td>\n",
       "      <td>2013J</td>\n",
       "      <td>45642</td>\n",
       "      <td>-29.0</td>\n",
       "      <td>NaN</td>\n",
       "      <td>1752</td>\n",
       "      <td>19</td>\n",
       "      <td>18.0</td>\n",
       "      <td>0.0</td>\n",
       "      <td>72.0</td>\n",
       "      <td>...</td>\n",
       "      <td>1</td>\n",
       "      <td>F</td>\n",
       "      <td>North Western Region</td>\n",
       "      <td>A Level or Equivalent</td>\n",
       "      <td>90-100%</td>\n",
       "      <td>0-35</td>\n",
       "      <td>120</td>\n",
       "      <td>N</td>\n",
       "      <td>Pass</td>\n",
       "      <td>2</td>\n",
       "    </tr>\n",
       "    <tr>\n",
       "      <th>7</th>\n",
       "      <td>AAA</td>\n",
       "      <td>2013J</td>\n",
       "      <td>52130</td>\n",
       "      <td>-33.0</td>\n",
       "      <td>NaN</td>\n",
       "      <td>1752</td>\n",
       "      <td>19</td>\n",
       "      <td>19.0</td>\n",
       "      <td>0.0</td>\n",
       "      <td>72.0</td>\n",
       "      <td>...</td>\n",
       "      <td>1</td>\n",
       "      <td>F</td>\n",
       "      <td>East Anglian Region</td>\n",
       "      <td>A Level or Equivalent</td>\n",
       "      <td>70-80%</td>\n",
       "      <td>0-35</td>\n",
       "      <td>90</td>\n",
       "      <td>N</td>\n",
       "      <td>Pass</td>\n",
       "      <td>2</td>\n",
       "    </tr>\n",
       "    <tr>\n",
       "      <th>8</th>\n",
       "      <td>AAA</td>\n",
       "      <td>2013J</td>\n",
       "      <td>53025</td>\n",
       "      <td>-179.0</td>\n",
       "      <td>NaN</td>\n",
       "      <td>1752</td>\n",
       "      <td>19</td>\n",
       "      <td>9.0</td>\n",
       "      <td>0.0</td>\n",
       "      <td>71.0</td>\n",
       "      <td>...</td>\n",
       "      <td>1</td>\n",
       "      <td>M</td>\n",
       "      <td>North Region</td>\n",
       "      <td>Post Graduate Qualification</td>\n",
       "      <td>NaN</td>\n",
       "      <td>55&lt;=</td>\n",
       "      <td>60</td>\n",
       "      <td>N</td>\n",
       "      <td>Pass</td>\n",
       "      <td>2</td>\n",
       "    </tr>\n",
       "    <tr>\n",
       "      <th>9</th>\n",
       "      <td>AAA</td>\n",
       "      <td>2013J</td>\n",
       "      <td>57506</td>\n",
       "      <td>-103.0</td>\n",
       "      <td>NaN</td>\n",
       "      <td>1752</td>\n",
       "      <td>19</td>\n",
       "      <td>18.0</td>\n",
       "      <td>0.0</td>\n",
       "      <td>68.0</td>\n",
       "      <td>...</td>\n",
       "      <td>1</td>\n",
       "      <td>M</td>\n",
       "      <td>South Region</td>\n",
       "      <td>Lower Than A Level</td>\n",
       "      <td>70-80%</td>\n",
       "      <td>35-55</td>\n",
       "      <td>60</td>\n",
       "      <td>N</td>\n",
       "      <td>Pass</td>\n",
       "      <td>2</td>\n",
       "    </tr>\n",
       "  </tbody>\n",
       "</table>\n",
       "<p>10 rows × 24 columns</p>\n",
       "</div>"
      ],
      "text/plain": [
       "  code_module code_presentation  id_student  date_registration  \\\n",
       "0         AAA             2013J       11391             -159.0   \n",
       "1         AAA             2013J       28400              -53.0   \n",
       "2         AAA             2013J       31604              -52.0   \n",
       "3         AAA             2013J       32885             -176.0   \n",
       "4         AAA             2013J       38053             -110.0   \n",
       "5         AAA             2013J       45462              -67.0   \n",
       "6         AAA             2013J       45642              -29.0   \n",
       "7         AAA             2013J       52130              -33.0   \n",
       "8         AAA             2013J       53025             -179.0   \n",
       "9         AAA             2013J       57506             -103.0   \n",
       "\n",
       "   date_unregistration  id_assessment  date_first_assessment  date_submitted  \\\n",
       "0                  NaN           1752                     19            18.0   \n",
       "1                  NaN           1752                     19            22.0   \n",
       "2                  NaN           1752                     19            17.0   \n",
       "3                  NaN           1752                     19            26.0   \n",
       "4                  NaN           1752                     19            19.0   \n",
       "5                  NaN           1752                     19            20.0   \n",
       "6                  NaN           1752                     19            18.0   \n",
       "7                  NaN           1752                     19            19.0   \n",
       "8                  NaN           1752                     19             9.0   \n",
       "9                  NaN           1752                     19            18.0   \n",
       "\n",
       "   is_banked  score  ...  student_engagementt  gender                region  \\\n",
       "0        0.0   78.0  ...                    1       M   East Anglian Region   \n",
       "1        0.0   70.0  ...                    1       F              Scotland   \n",
       "2        0.0   72.0  ...                    1       F     South East Region   \n",
       "3        0.0   69.0  ...                    1       F  West Midlands Region   \n",
       "4        0.0   79.0  ...                    1       M                 Wales   \n",
       "5        0.0   70.0  ...                    1       M              Scotland   \n",
       "6        0.0   72.0  ...                    1       F  North Western Region   \n",
       "7        0.0   72.0  ...                    1       F   East Anglian Region   \n",
       "8        0.0   71.0  ...                    1       M          North Region   \n",
       "9        0.0   68.0  ...                    1       M          South Region   \n",
       "\n",
       "             highest_education  imd_band age_band studied_credits disability  \\\n",
       "0             HE Qualification   90-100%     55<=             240          N   \n",
       "1             HE Qualification    20-30%    35-55              60          N   \n",
       "2        A Level or Equivalent    50-60%    35-55              60          N   \n",
       "3           Lower Than A Level    50-60%     0-35              60          N   \n",
       "4        A Level or Equivalent    80-90%    35-55              60          N   \n",
       "5             HE Qualification    30-40%     0-35              60          N   \n",
       "6        A Level or Equivalent   90-100%     0-35             120          N   \n",
       "7        A Level or Equivalent    70-80%     0-35              90          N   \n",
       "8  Post Graduate Qualification       NaN     55<=              60          N   \n",
       "9           Lower Than A Level    70-80%    35-55              60          N   \n",
       "\n",
       "  final_result final_result_code  \n",
       "0         Pass                 2  \n",
       "1         Pass                 2  \n",
       "2         Pass                 2  \n",
       "3         Pass                 2  \n",
       "4         Pass                 2  \n",
       "5         Pass                 2  \n",
       "6         Pass                 2  \n",
       "7         Pass                 2  \n",
       "8         Pass                 2  \n",
       "9         Pass                 2  \n",
       "\n",
       "[10 rows x 24 columns]"
      ]
     },
     "metadata": {},
     "output_type": "display_data"
    },
    {
     "name": "stdout",
     "output_type": "stream",
     "text": [
      "\n",
      "📈 KEY STATISTICS:\n"
     ]
    },
    {
     "data": {
      "text/html": [
       "<div>\n",
       "<style scoped>\n",
       "    .dataframe tbody tr th:only-of-type {\n",
       "        vertical-align: middle;\n",
       "    }\n",
       "\n",
       "    .dataframe tbody tr th {\n",
       "        vertical-align: top;\n",
       "    }\n",
       "\n",
       "    .dataframe thead th {\n",
       "        text-align: right;\n",
       "    }\n",
       "</style>\n",
       "<table border=\"1\" class=\"dataframe\">\n",
       "  <thead>\n",
       "    <tr style=\"text-align: right;\">\n",
       "      <th></th>\n",
       "      <th>score</th>\n",
       "      <th>total_click_vle</th>\n",
       "      <th>average_click_vle</th>\n",
       "      <th>excellent_Score</th>\n",
       "      <th>active_in_VLE</th>\n",
       "    </tr>\n",
       "  </thead>\n",
       "  <tbody>\n",
       "    <tr>\n",
       "      <th>count</th>\n",
       "      <td>27725.000000</td>\n",
       "      <td>27725.000000</td>\n",
       "      <td>27725.000000</td>\n",
       "      <td>27725.000000</td>\n",
       "      <td>27725.000000</td>\n",
       "    </tr>\n",
       "    <tr>\n",
       "      <th>mean</th>\n",
       "      <td>64.635564</td>\n",
       "      <td>329.356213</td>\n",
       "      <td>329.353133</td>\n",
       "      <td>0.601876</td>\n",
       "      <td>0.355996</td>\n",
       "    </tr>\n",
       "    <tr>\n",
       "      <th>std</th>\n",
       "      <td>31.174086</td>\n",
       "      <td>388.209551</td>\n",
       "      <td>152.890566</td>\n",
       "      <td>0.489520</td>\n",
       "      <td>0.478823</td>\n",
       "    </tr>\n",
       "    <tr>\n",
       "      <th>min</th>\n",
       "      <td>0.000000</td>\n",
       "      <td>0.000000</td>\n",
       "      <td>106.300000</td>\n",
       "      <td>0.000000</td>\n",
       "      <td>0.000000</td>\n",
       "    </tr>\n",
       "    <tr>\n",
       "      <th>25%</th>\n",
       "      <td>57.000000</td>\n",
       "      <td>85.000000</td>\n",
       "      <td>162.400000</td>\n",
       "      <td>0.000000</td>\n",
       "      <td>0.000000</td>\n",
       "    </tr>\n",
       "    <tr>\n",
       "      <th>50%</th>\n",
       "      <td>75.000000</td>\n",
       "      <td>215.000000</td>\n",
       "      <td>337.400000</td>\n",
       "      <td>1.000000</td>\n",
       "      <td>0.000000</td>\n",
       "    </tr>\n",
       "    <tr>\n",
       "      <th>75%</th>\n",
       "      <td>86.000000</td>\n",
       "      <td>442.000000</td>\n",
       "      <td>482.100000</td>\n",
       "      <td>1.000000</td>\n",
       "      <td>1.000000</td>\n",
       "    </tr>\n",
       "    <tr>\n",
       "      <th>max</th>\n",
       "      <td>100.000000</td>\n",
       "      <td>7129.000000</td>\n",
       "      <td>559.600000</td>\n",
       "      <td>1.000000</td>\n",
       "      <td>1.000000</td>\n",
       "    </tr>\n",
       "  </tbody>\n",
       "</table>\n",
       "</div>"
      ],
      "text/plain": [
       "              score  total_click_vle  average_click_vle  excellent_Score  \\\n",
       "count  27725.000000     27725.000000       27725.000000     27725.000000   \n",
       "mean      64.635564       329.356213         329.353133         0.601876   \n",
       "std       31.174086       388.209551         152.890566         0.489520   \n",
       "min        0.000000         0.000000         106.300000         0.000000   \n",
       "25%       57.000000        85.000000         162.400000         0.000000   \n",
       "50%       75.000000       215.000000         337.400000         1.000000   \n",
       "75%       86.000000       442.000000         482.100000         1.000000   \n",
       "max      100.000000      7129.000000         559.600000         1.000000   \n",
       "\n",
       "       active_in_VLE  \n",
       "count   27725.000000  \n",
       "mean        0.355996  \n",
       "std         0.478823  \n",
       "min         0.000000  \n",
       "25%         0.000000  \n",
       "50%         0.000000  \n",
       "75%         1.000000  \n",
       "max         1.000000  "
      ]
     },
     "metadata": {},
     "output_type": "display_data"
    },
    {
     "name": "stdout",
     "output_type": "stream",
     "text": [
      "\n",
      "🎯 FINAL RESULTS DISTRIBUTION:\n",
      "   Distinction : 3,024 (10.9%)\n",
      "   Fail        : 7,044 (25.4%)\n",
      "   Pass        : 12,361 (44.6%)\n",
      "   Withdrawn   : 5,296 (19.1%)\n"
     ]
    }
   ],
   "source": [
    "# =============================================================================\n",
    "# CELL 3: Show Processed Data\n",
    "# =============================================================================\n",
    "\n",
    "# Display the processed dataset\n",
    "print(f\"📋 PROCESSED DATASET OVERVIEW\")\n",
    "print(f\"   Shape: {processed_data.shape}\")\n",
    "print(f\"   Memory: {processed_data.memory_usage(deep=True).sum() / 1024**2:.1f} MB\")\n",
    "print(f\"\\n📝 Columns: {list(processed_data.columns)}\")\n",
    "\n",
    "print(\"\\n📊 FIRST 10 ROWS:\")\n",
    "display(processed_data.head(10))\n",
    "\n",
    "print(\"\\n📈 KEY STATISTICS:\")\n",
    "key_cols = ['score', 'total_click_vle', 'average_click_vle', 'excellent_Score', 'active_in_VLE']\n",
    "display(processed_data[key_cols].describe())\n",
    "\n",
    "print(\"\\n🎯 FINAL RESULTS DISTRIBUTION:\")\n",
    "result_counts = processed_data['final_result'].value_counts().sort_index()\n",
    "for result, count in result_counts.items():\n",
    "    pct = count / len(processed_data) * 100\n",
    "    print(f\"   {result:12}: {count:,} ({pct:.1f}%)\")"
   ]
  },
  {
   "cell_type": "code",
   "execution_count": 4,
   "id": "97f83e03",
   "metadata": {},
   "outputs": [
    {
     "name": "stdout",
     "output_type": "stream",
     "text": [
      "📊 Creating cross-tabulation tables...\n",
      "Creating cross-tabulation tables...\n",
      "  Creating cross table for: gender\n",
      "    Categories: 2, Outcomes: 3\n",
      "  Creating cross table for: region\n",
      "    Categories: 13, Outcomes: 3\n",
      "  Creating cross table for: highest_education\n",
      "    Categories: 5, Outcomes: 3\n",
      "  Creating cross table for: imd_band\n",
      "    Categories: 10, Outcomes: 3\n",
      "  Creating cross table for: age_band\n",
      "    Categories: 3, Outcomes: 3\n",
      "  Creating cross table for: disability\n",
      "    Categories: 2, Outcomes: 3\n",
      "✓ Created 6 cross-tabulation tables\n",
      "\n",
      "📋 CROSS-TABULATION TABLES:\n",
      "   (Proportions by row - shows outcome distribution within each category)\n",
      "   Columns: 0=Withdrawn, 1=Fail, 2=Pass/Distinction\n",
      "\n",
      "\n",
      "🔍 GENDER:\n",
      "------------------------------------------------------------\n"
     ]
    },
    {
     "data": {
      "text/html": [
       "<div>\n",
       "<style scoped>\n",
       "    .dataframe tbody tr th:only-of-type {\n",
       "        vertical-align: middle;\n",
       "    }\n",
       "\n",
       "    .dataframe tbody tr th {\n",
       "        vertical-align: top;\n",
       "    }\n",
       "\n",
       "    .dataframe thead th {\n",
       "        text-align: right;\n",
       "    }\n",
       "</style>\n",
       "<table border=\"1\" class=\"dataframe\">\n",
       "  <thead>\n",
       "    <tr style=\"text-align: right;\">\n",
       "      <th>final_result_code</th>\n",
       "      <th>0</th>\n",
       "      <th>1</th>\n",
       "      <th>2</th>\n",
       "    </tr>\n",
       "    <tr>\n",
       "      <th>gender</th>\n",
       "      <th></th>\n",
       "      <th></th>\n",
       "      <th></th>\n",
       "    </tr>\n",
       "  </thead>\n",
       "  <tbody>\n",
       "    <tr>\n",
       "      <th>F</th>\n",
       "      <td>0.18</td>\n",
       "      <td>0.248</td>\n",
       "      <td>0.571</td>\n",
       "    </tr>\n",
       "    <tr>\n",
       "      <th>M</th>\n",
       "      <td>0.20</td>\n",
       "      <td>0.259</td>\n",
       "      <td>0.541</td>\n",
       "    </tr>\n",
       "  </tbody>\n",
       "</table>\n",
       "</div>"
      ],
      "text/plain": [
       "final_result_code     0      1      2\n",
       "gender                               \n",
       "F                  0.18  0.248  0.571\n",
       "M                  0.20  0.259  0.541"
      ]
     },
     "metadata": {},
     "output_type": "display_data"
    },
    {
     "name": "stdout",
     "output_type": "stream",
     "text": [
      "📊 Sample sizes:\n",
      "   F: 12,478 students\n",
      "   M: 15,247 students\n",
      "\n",
      "\n",
      "🔍 REGION:\n",
      "------------------------------------------------------------\n"
     ]
    },
    {
     "data": {
      "text/html": [
       "<div>\n",
       "<style scoped>\n",
       "    .dataframe tbody tr th:only-of-type {\n",
       "        vertical-align: middle;\n",
       "    }\n",
       "\n",
       "    .dataframe tbody tr th {\n",
       "        vertical-align: top;\n",
       "    }\n",
       "\n",
       "    .dataframe thead th {\n",
       "        text-align: right;\n",
       "    }\n",
       "</style>\n",
       "<table border=\"1\" class=\"dataframe\">\n",
       "  <thead>\n",
       "    <tr style=\"text-align: right;\">\n",
       "      <th>final_result_code</th>\n",
       "      <th>0</th>\n",
       "      <th>1</th>\n",
       "      <th>2</th>\n",
       "    </tr>\n",
       "    <tr>\n",
       "      <th>region</th>\n",
       "      <th></th>\n",
       "      <th></th>\n",
       "      <th></th>\n",
       "    </tr>\n",
       "  </thead>\n",
       "  <tbody>\n",
       "    <tr>\n",
       "      <th>East Anglian Region</th>\n",
       "      <td>0.175</td>\n",
       "      <td>0.247</td>\n",
       "      <td>0.579</td>\n",
       "    </tr>\n",
       "    <tr>\n",
       "      <th>East Midlands Region</th>\n",
       "      <td>0.204</td>\n",
       "      <td>0.238</td>\n",
       "      <td>0.558</td>\n",
       "    </tr>\n",
       "    <tr>\n",
       "      <th>Ireland</th>\n",
       "      <td>0.185</td>\n",
       "      <td>0.233</td>\n",
       "      <td>0.581</td>\n",
       "    </tr>\n",
       "    <tr>\n",
       "      <th>London Region</th>\n",
       "      <td>0.193</td>\n",
       "      <td>0.285</td>\n",
       "      <td>0.523</td>\n",
       "    </tr>\n",
       "    <tr>\n",
       "      <th>North Region</th>\n",
       "      <td>0.194</td>\n",
       "      <td>0.211</td>\n",
       "      <td>0.595</td>\n",
       "    </tr>\n",
       "    <tr>\n",
       "      <th>North Western Region</th>\n",
       "      <td>0.205</td>\n",
       "      <td>0.299</td>\n",
       "      <td>0.496</td>\n",
       "    </tr>\n",
       "    <tr>\n",
       "      <th>Scotland</th>\n",
       "      <td>0.197</td>\n",
       "      <td>0.270</td>\n",
       "      <td>0.534</td>\n",
       "    </tr>\n",
       "    <tr>\n",
       "      <th>South East Region</th>\n",
       "      <td>0.177</td>\n",
       "      <td>0.211</td>\n",
       "      <td>0.612</td>\n",
       "    </tr>\n",
       "    <tr>\n",
       "      <th>South Region</th>\n",
       "      <td>0.180</td>\n",
       "      <td>0.206</td>\n",
       "      <td>0.614</td>\n",
       "    </tr>\n",
       "    <tr>\n",
       "      <th>South West Region</th>\n",
       "      <td>0.189</td>\n",
       "      <td>0.224</td>\n",
       "      <td>0.587</td>\n",
       "    </tr>\n",
       "    <tr>\n",
       "      <th>Wales</th>\n",
       "      <td>0.183</td>\n",
       "      <td>0.324</td>\n",
       "      <td>0.492</td>\n",
       "    </tr>\n",
       "    <tr>\n",
       "      <th>West Midlands Region</th>\n",
       "      <td>0.209</td>\n",
       "      <td>0.261</td>\n",
       "      <td>0.530</td>\n",
       "    </tr>\n",
       "    <tr>\n",
       "      <th>Yorkshire Region</th>\n",
       "      <td>0.192</td>\n",
       "      <td>0.268</td>\n",
       "      <td>0.540</td>\n",
       "    </tr>\n",
       "  </tbody>\n",
       "</table>\n",
       "</div>"
      ],
      "text/plain": [
       "final_result_code         0      1      2\n",
       "region                                   \n",
       "East Anglian Region   0.175  0.247  0.579\n",
       "East Midlands Region  0.204  0.238  0.558\n",
       "Ireland               0.185  0.233  0.581\n",
       "London Region         0.193  0.285  0.523\n",
       "North Region          0.194  0.211  0.595\n",
       "North Western Region  0.205  0.299  0.496\n",
       "Scotland              0.197  0.270  0.534\n",
       "South East Region     0.177  0.211  0.612\n",
       "South Region          0.180  0.206  0.614\n",
       "South West Region     0.189  0.224  0.587\n",
       "Wales                 0.183  0.324  0.492\n",
       "West Midlands Region  0.209  0.261  0.530\n",
       "Yorkshire Region      0.192  0.268  0.540"
      ]
     },
     "metadata": {},
     "output_type": "display_data"
    },
    {
     "name": "stdout",
     "output_type": "stream",
     "text": [
      "📊 Sample sizes:\n",
      "   East Anglian Region: 2,828 students\n",
      "   East Midlands Region: 1,938 students\n",
      "   Ireland: 1,118 students\n",
      "   London Region: 2,606 students\n",
      "   North Region: 1,547 students\n",
      "   North Western Region: 2,355 students\n",
      "   Scotland: 3,160 students\n",
      "   South East Region: 1,776 students\n",
      "   South Region: 2,639 students\n",
      "   South West Region: 2,068 students\n",
      "   Wales: 1,913 students\n",
      "   West Midlands Region: 2,109 students\n",
      "   Yorkshire Region: 1,668 students\n",
      "\n",
      "\n",
      "🔍 HIGHEST EDUCATION:\n",
      "------------------------------------------------------------\n"
     ]
    },
    {
     "data": {
      "text/html": [
       "<div>\n",
       "<style scoped>\n",
       "    .dataframe tbody tr th:only-of-type {\n",
       "        vertical-align: middle;\n",
       "    }\n",
       "\n",
       "    .dataframe tbody tr th {\n",
       "        vertical-align: top;\n",
       "    }\n",
       "\n",
       "    .dataframe thead th {\n",
       "        text-align: right;\n",
       "    }\n",
       "</style>\n",
       "<table border=\"1\" class=\"dataframe\">\n",
       "  <thead>\n",
       "    <tr style=\"text-align: right;\">\n",
       "      <th>final_result_code</th>\n",
       "      <th>0</th>\n",
       "      <th>1</th>\n",
       "      <th>2</th>\n",
       "    </tr>\n",
       "    <tr>\n",
       "      <th>highest_education</th>\n",
       "      <th></th>\n",
       "      <th></th>\n",
       "      <th></th>\n",
       "    </tr>\n",
       "  </thead>\n",
       "  <tbody>\n",
       "    <tr>\n",
       "      <th>A Level or Equivalent</th>\n",
       "      <td>0.173</td>\n",
       "      <td>0.223</td>\n",
       "      <td>0.604</td>\n",
       "    </tr>\n",
       "    <tr>\n",
       "      <th>HE Qualification</th>\n",
       "      <td>0.173</td>\n",
       "      <td>0.189</td>\n",
       "      <td>0.638</td>\n",
       "    </tr>\n",
       "    <tr>\n",
       "      <th>Lower Than A Level</th>\n",
       "      <td>0.217</td>\n",
       "      <td>0.314</td>\n",
       "      <td>0.469</td>\n",
       "    </tr>\n",
       "    <tr>\n",
       "      <th>No Formal quals</th>\n",
       "      <td>0.256</td>\n",
       "      <td>0.357</td>\n",
       "      <td>0.387</td>\n",
       "    </tr>\n",
       "    <tr>\n",
       "      <th>Post Graduate Qualification</th>\n",
       "      <td>0.173</td>\n",
       "      <td>0.118</td>\n",
       "      <td>0.709</td>\n",
       "    </tr>\n",
       "  </tbody>\n",
       "</table>\n",
       "</div>"
      ],
      "text/plain": [
       "final_result_code                0      1      2\n",
       "highest_education                               \n",
       "A Level or Equivalent        0.173  0.223  0.604\n",
       "HE Qualification             0.173  0.189  0.638\n",
       "Lower Than A Level           0.217  0.314  0.469\n",
       "No Formal quals              0.256  0.357  0.387\n",
       "Post Graduate Qualification  0.173  0.118  0.709"
      ]
     },
     "metadata": {},
     "output_type": "display_data"
    },
    {
     "name": "stdout",
     "output_type": "stream",
     "text": [
      "📊 Sample sizes:\n",
      "   A Level or Equivalent: 12,104 students\n",
      "   HE Qualification: 4,166 students\n",
      "   Lower Than A Level: 10,900 students\n",
      "   No Formal quals: 266 students\n",
      "   Post Graduate Qualification: 289 students\n",
      "\n",
      "\n",
      "🔍 IMD BAND:\n",
      "------------------------------------------------------------\n"
     ]
    },
    {
     "data": {
      "text/html": [
       "<div>\n",
       "<style scoped>\n",
       "    .dataframe tbody tr th:only-of-type {\n",
       "        vertical-align: middle;\n",
       "    }\n",
       "\n",
       "    .dataframe tbody tr th {\n",
       "        vertical-align: top;\n",
       "    }\n",
       "\n",
       "    .dataframe thead th {\n",
       "        text-align: right;\n",
       "    }\n",
       "</style>\n",
       "<table border=\"1\" class=\"dataframe\">\n",
       "  <thead>\n",
       "    <tr style=\"text-align: right;\">\n",
       "      <th>final_result_code</th>\n",
       "      <th>0</th>\n",
       "      <th>1</th>\n",
       "      <th>2</th>\n",
       "    </tr>\n",
       "    <tr>\n",
       "      <th>imd_band</th>\n",
       "      <th></th>\n",
       "      <th></th>\n",
       "      <th></th>\n",
       "    </tr>\n",
       "  </thead>\n",
       "  <tbody>\n",
       "    <tr>\n",
       "      <th>0-10%</th>\n",
       "      <td>0.220</td>\n",
       "      <td>0.343</td>\n",
       "      <td>0.436</td>\n",
       "    </tr>\n",
       "    <tr>\n",
       "      <th>10-20</th>\n",
       "      <td>0.205</td>\n",
       "      <td>0.319</td>\n",
       "      <td>0.476</td>\n",
       "    </tr>\n",
       "    <tr>\n",
       "      <th>20-30%</th>\n",
       "      <td>0.226</td>\n",
       "      <td>0.279</td>\n",
       "      <td>0.495</td>\n",
       "    </tr>\n",
       "    <tr>\n",
       "      <th>30-40%</th>\n",
       "      <td>0.190</td>\n",
       "      <td>0.260</td>\n",
       "      <td>0.550</td>\n",
       "    </tr>\n",
       "    <tr>\n",
       "      <th>40-50%</th>\n",
       "      <td>0.192</td>\n",
       "      <td>0.254</td>\n",
       "      <td>0.554</td>\n",
       "    </tr>\n",
       "    <tr>\n",
       "      <th>50-60%</th>\n",
       "      <td>0.180</td>\n",
       "      <td>0.258</td>\n",
       "      <td>0.562</td>\n",
       "    </tr>\n",
       "    <tr>\n",
       "      <th>60-70%</th>\n",
       "      <td>0.189</td>\n",
       "      <td>0.213</td>\n",
       "      <td>0.597</td>\n",
       "    </tr>\n",
       "    <tr>\n",
       "      <th>70-80%</th>\n",
       "      <td>0.180</td>\n",
       "      <td>0.236</td>\n",
       "      <td>0.584</td>\n",
       "    </tr>\n",
       "    <tr>\n",
       "      <th>80-90%</th>\n",
       "      <td>0.169</td>\n",
       "      <td>0.207</td>\n",
       "      <td>0.624</td>\n",
       "    </tr>\n",
       "    <tr>\n",
       "      <th>90-100%</th>\n",
       "      <td>0.163</td>\n",
       "      <td>0.188</td>\n",
       "      <td>0.650</td>\n",
       "    </tr>\n",
       "  </tbody>\n",
       "</table>\n",
       "</div>"
      ],
      "text/plain": [
       "final_result_code      0      1      2\n",
       "imd_band                              \n",
       "0-10%              0.220  0.343  0.436\n",
       "10-20              0.205  0.319  0.476\n",
       "20-30%             0.226  0.279  0.495\n",
       "30-40%             0.190  0.260  0.550\n",
       "40-50%             0.192  0.254  0.554\n",
       "50-60%             0.180  0.258  0.562\n",
       "60-70%             0.189  0.213  0.597\n",
       "70-80%             0.180  0.236  0.584\n",
       "80-90%             0.169  0.207  0.624\n",
       "90-100%            0.163  0.188  0.650"
      ]
     },
     "metadata": {},
     "output_type": "display_data"
    },
    {
     "name": "stdout",
     "output_type": "stream",
     "text": [
      "📊 Sample sizes:\n",
      "   0-10%: 2,667 students\n",
      "   10-20: 2,853 students\n",
      "   20-30%: 3,009 students\n",
      "   30-40%: 3,018 students\n",
      "   40-50%: 2,740 students\n",
      "   50-60%: 2,711 students\n",
      "   60-70%: 2,524 students\n",
      "   70-80%: 2,538 students\n",
      "   80-90%: 2,391 students\n",
      "   90-100%: 2,245 students\n",
      "\n",
      "\n",
      "🔍 AGE BAND:\n",
      "------------------------------------------------------------\n"
     ]
    },
    {
     "data": {
      "text/html": [
       "<div>\n",
       "<style scoped>\n",
       "    .dataframe tbody tr th:only-of-type {\n",
       "        vertical-align: middle;\n",
       "    }\n",
       "\n",
       "    .dataframe tbody tr th {\n",
       "        vertical-align: top;\n",
       "    }\n",
       "\n",
       "    .dataframe thead th {\n",
       "        text-align: right;\n",
       "    }\n",
       "</style>\n",
       "<table border=\"1\" class=\"dataframe\">\n",
       "  <thead>\n",
       "    <tr style=\"text-align: right;\">\n",
       "      <th>final_result_code</th>\n",
       "      <th>0</th>\n",
       "      <th>1</th>\n",
       "      <th>2</th>\n",
       "    </tr>\n",
       "    <tr>\n",
       "      <th>age_band</th>\n",
       "      <th></th>\n",
       "      <th></th>\n",
       "      <th></th>\n",
       "    </tr>\n",
       "  </thead>\n",
       "  <tbody>\n",
       "    <tr>\n",
       "      <th>0-35</th>\n",
       "      <td>0.195</td>\n",
       "      <td>0.270</td>\n",
       "      <td>0.535</td>\n",
       "    </tr>\n",
       "    <tr>\n",
       "      <th>35-55</th>\n",
       "      <td>0.182</td>\n",
       "      <td>0.218</td>\n",
       "      <td>0.600</td>\n",
       "    </tr>\n",
       "    <tr>\n",
       "      <th>55&lt;=</th>\n",
       "      <td>0.169</td>\n",
       "      <td>0.149</td>\n",
       "      <td>0.682</td>\n",
       "    </tr>\n",
       "  </tbody>\n",
       "</table>\n",
       "</div>"
      ],
      "text/plain": [
       "final_result_code      0      1      2\n",
       "age_band                              \n",
       "0-35               0.195  0.270  0.535\n",
       "35-55              0.182  0.218  0.600\n",
       "55<=               0.169  0.149  0.682"
      ]
     },
     "metadata": {},
     "output_type": "display_data"
    },
    {
     "name": "stdout",
     "output_type": "stream",
     "text": [
      "📊 Sample sizes:\n",
      "   0-35: 19,327 students\n",
      "   35-55: 8,203 students\n",
      "   55<=: 195 students\n",
      "\n",
      "\n",
      "🔍 DISABILITY:\n",
      "------------------------------------------------------------\n"
     ]
    },
    {
     "data": {
      "text/html": [
       "<div>\n",
       "<style scoped>\n",
       "    .dataframe tbody tr th:only-of-type {\n",
       "        vertical-align: middle;\n",
       "    }\n",
       "\n",
       "    .dataframe tbody tr th {\n",
       "        vertical-align: top;\n",
       "    }\n",
       "\n",
       "    .dataframe thead th {\n",
       "        text-align: right;\n",
       "    }\n",
       "</style>\n",
       "<table border=\"1\" class=\"dataframe\">\n",
       "  <thead>\n",
       "    <tr style=\"text-align: right;\">\n",
       "      <th>final_result_code</th>\n",
       "      <th>0</th>\n",
       "      <th>1</th>\n",
       "      <th>2</th>\n",
       "    </tr>\n",
       "    <tr>\n",
       "      <th>disability</th>\n",
       "      <th></th>\n",
       "      <th></th>\n",
       "      <th></th>\n",
       "    </tr>\n",
       "  </thead>\n",
       "  <tbody>\n",
       "    <tr>\n",
       "      <th>N</th>\n",
       "      <td>0.182</td>\n",
       "      <td>0.252</td>\n",
       "      <td>0.565</td>\n",
       "    </tr>\n",
       "    <tr>\n",
       "      <th>Y</th>\n",
       "      <td>0.273</td>\n",
       "      <td>0.270</td>\n",
       "      <td>0.458</td>\n",
       "    </tr>\n",
       "  </tbody>\n",
       "</table>\n",
       "</div>"
      ],
      "text/plain": [
       "final_result_code      0      1      2\n",
       "disability                            \n",
       "N                  0.182  0.252  0.565\n",
       "Y                  0.273  0.270  0.458"
      ]
     },
     "metadata": {},
     "output_type": "display_data"
    },
    {
     "name": "stdout",
     "output_type": "stream",
     "text": [
      "📊 Sample sizes:\n",
      "   N: 25,087 students\n",
      "   Y: 2,638 students\n",
      "\n"
     ]
    }
   ],
   "source": [
    "# =============================================================================\n",
    "# CELL 4: Create Cross-Tabulation Tables\n",
    "# =============================================================================\n",
    "\n",
    "# Create and display cross tables\n",
    "print(\"📊 Creating cross-tabulation tables...\")\n",
    "cross_tables = create_cross_tables(processed_data)\n",
    "\n",
    "print(\"\\n📋 CROSS-TABULATION TABLES:\")\n",
    "print(\"   (Proportions by row - shows outcome distribution within each category)\")\n",
    "print(\"   Columns: 0=Withdrawn, 1=Fail, 2=Pass/Distinction\\n\")\n",
    "\n",
    "# Display all cross tables with sample sizes\n",
    "for var_name, table in cross_tables.items():\n",
    "    print(f\"\\n🔍 {var_name.upper().replace('_', ' ')}:\")\n",
    "    print(\"-\" * 60)\n",
    "    display(table)\n",
    "    \n",
    "    # Show sample sizes\n",
    "    sample_sizes = processed_data[var_name].value_counts().sort_index()\n",
    "    print(\"📊 Sample sizes:\")\n",
    "    for category, count in sample_sizes.items():\n",
    "        print(f\"   {category}: {count:,} students\")\n",
    "    print()"
   ]
  },
  {
   "cell_type": "code",
   "execution_count": 5,
   "id": "6083f2b2",
   "metadata": {},
   "outputs": [
    {
     "name": "stdout",
     "output_type": "stream",
     "text": [
      "📊 Cross table for IMD BAND:\n",
      "==================================================\n"
     ]
    },
    {
     "data": {
      "text/html": [
       "<div>\n",
       "<style scoped>\n",
       "    .dataframe tbody tr th:only-of-type {\n",
       "        vertical-align: middle;\n",
       "    }\n",
       "\n",
       "    .dataframe tbody tr th {\n",
       "        vertical-align: top;\n",
       "    }\n",
       "\n",
       "    .dataframe thead th {\n",
       "        text-align: right;\n",
       "    }\n",
       "</style>\n",
       "<table border=\"1\" class=\"dataframe\">\n",
       "  <thead>\n",
       "    <tr style=\"text-align: right;\">\n",
       "      <th>final_result_code</th>\n",
       "      <th>0</th>\n",
       "      <th>1</th>\n",
       "      <th>2</th>\n",
       "    </tr>\n",
       "    <tr>\n",
       "      <th>imd_band</th>\n",
       "      <th></th>\n",
       "      <th></th>\n",
       "      <th></th>\n",
       "    </tr>\n",
       "  </thead>\n",
       "  <tbody>\n",
       "    <tr>\n",
       "      <th>0-10%</th>\n",
       "      <td>0.220</td>\n",
       "      <td>0.343</td>\n",
       "      <td>0.436</td>\n",
       "    </tr>\n",
       "    <tr>\n",
       "      <th>10-20</th>\n",
       "      <td>0.205</td>\n",
       "      <td>0.319</td>\n",
       "      <td>0.476</td>\n",
       "    </tr>\n",
       "    <tr>\n",
       "      <th>20-30%</th>\n",
       "      <td>0.226</td>\n",
       "      <td>0.279</td>\n",
       "      <td>0.495</td>\n",
       "    </tr>\n",
       "    <tr>\n",
       "      <th>30-40%</th>\n",
       "      <td>0.190</td>\n",
       "      <td>0.260</td>\n",
       "      <td>0.550</td>\n",
       "    </tr>\n",
       "    <tr>\n",
       "      <th>40-50%</th>\n",
       "      <td>0.192</td>\n",
       "      <td>0.254</td>\n",
       "      <td>0.554</td>\n",
       "    </tr>\n",
       "    <tr>\n",
       "      <th>50-60%</th>\n",
       "      <td>0.180</td>\n",
       "      <td>0.258</td>\n",
       "      <td>0.562</td>\n",
       "    </tr>\n",
       "    <tr>\n",
       "      <th>60-70%</th>\n",
       "      <td>0.189</td>\n",
       "      <td>0.213</td>\n",
       "      <td>0.597</td>\n",
       "    </tr>\n",
       "    <tr>\n",
       "      <th>70-80%</th>\n",
       "      <td>0.180</td>\n",
       "      <td>0.236</td>\n",
       "      <td>0.584</td>\n",
       "    </tr>\n",
       "    <tr>\n",
       "      <th>80-90%</th>\n",
       "      <td>0.169</td>\n",
       "      <td>0.207</td>\n",
       "      <td>0.624</td>\n",
       "    </tr>\n",
       "    <tr>\n",
       "      <th>90-100%</th>\n",
       "      <td>0.163</td>\n",
       "      <td>0.188</td>\n",
       "      <td>0.650</td>\n",
       "    </tr>\n",
       "  </tbody>\n",
       "</table>\n",
       "</div>"
      ],
      "text/plain": [
       "final_result_code      0      1      2\n",
       "imd_band                              \n",
       "0-10%              0.220  0.343  0.436\n",
       "10-20              0.205  0.319  0.476\n",
       "20-30%             0.226  0.279  0.495\n",
       "30-40%             0.190  0.260  0.550\n",
       "40-50%             0.192  0.254  0.554\n",
       "50-60%             0.180  0.258  0.562\n",
       "60-70%             0.189  0.213  0.597\n",
       "70-80%             0.180  0.236  0.584\n",
       "80-90%             0.169  0.207  0.624\n",
       "90-100%            0.163  0.188  0.650"
      ]
     },
     "metadata": {},
     "output_type": "display_data"
    },
    {
     "name": "stdout",
     "output_type": "stream",
     "text": [
      "\n",
      "💡 INTERPRETATION:\n",
      "   • Highest pass rate: 90-100% (65.0%)\n",
      "   • Highest withdrawal rate: 20-30% (22.6%)\n"
     ]
    }
   ],
   "source": [
    "# =============================================================================\n",
    "# CELL 5: Show Specific Cross Table\n",
    "# =============================================================================\n",
    "\n",
    "# Choose which cross table to display\n",
    "# Options: 'gender', 'age_band', 'disability', 'highest_education', 'imd_band', 'region'\n",
    "variable_to_show = 'imd_band'  # ⚙️ CHANGE THIS to see different variables\n",
    "\n",
    "if variable_to_show in cross_tables:\n",
    "    print(f\"📊 Cross table for {variable_to_show.upper().replace('_', ' ')}:\")\n",
    "    print(\"=\" * 50)\n",
    "    display(cross_tables[variable_to_show])\n",
    "    \n",
    "    # Show interpretation\n",
    "    print(\"\\n💡 INTERPRETATION:\")\n",
    "    table = cross_tables[variable_to_show]\n",
    "    best_category = table[2].idxmax()  # Category with highest pass rate\n",
    "    worst_category = table[0].idxmax()  # Category with highest withdrawal rate\n",
    "    print(f\"   • Highest pass rate: {best_category} ({table.loc[best_category, 2]:.1%})\")\n",
    "    print(f\"   • Highest withdrawal rate: {worst_category} ({table.loc[worst_category, 0]:.1%})\")\n",
    "else:\n",
    "    print(f\"❌ Variable '{variable_to_show}' not found.\")\n",
    "    print(f\"📝 Available variables: {list(cross_tables.keys())}\")"
   ]
  },
  {
   "cell_type": "code",
   "execution_count": 6,
   "id": "63a4a748",
   "metadata": {},
   "outputs": [
    {
     "name": "stdout",
     "output_type": "stream",
     "text": [
      "📈 Creating plot for Imd Band...\n",
      "\n",
      "📊 REGRESSION STATISTICS:\n",
      "    Withdrawn: R² = 0.819, Slope = -0.0006 (📉 Negative, 💪 Strong)\n",
      "         Fail: R² = 0.909, Slope = -0.0015 (📉 Negative, 💪 Strong)\n",
      "         Pass: R² = 0.948, Slope = +0.0022 (📈 Positive, 💪 Strong)\n"
     ]
    },
    {
     "data": {
      "application/vnd.plotly.v1+json": {
       "config": {
        "plotlyServerURL": "https://plot.ly"
       },
       "data": [
        {
         "hovertemplate": "<b>%{text}</b><br>Income Deprivation Band (% midpoint): %{x}<br>Proportion: %{y:.3f}<br>Result: Withdrawn<extra></extra>",
         "marker": {
          "color": "#1f77b4",
          "opacity": 0.8,
          "size": 12
         },
         "mode": "markers",
         "name": "Withdrawn data",
         "text": [
          "0-10%",
          "10-20%",
          "20-30%",
          "30-40%",
          "40-50%",
          "50-60%",
          "60-70%",
          "70-80%",
          "80-90%",
          "90-100%"
         ],
         "type": "scatter",
         "x": [
          5,
          15,
          25,
          35,
          45,
          55,
          65,
          75,
          85,
          95
         ],
         "y": {
          "bdata": "KVyPwvUozD89CtejcD3KPyGwcmiR7cw/UrgehetRyD/6fmq8dJPIPwrXo3A9Csc//tR46SYxyD8K16NwPQrHP28Sg8DKocU/d76fGi/dxD8=",
          "dtype": "f8"
         }
        },
        {
         "hovertemplate": "Withdrawn Trend Line<br>R² = 0.819<br>Slope = -0.0006<extra></extra>",
         "line": {
          "color": "#1f77b4",
          "width": 3
         },
         "mode": "lines",
         "name": "Withdrawn fit (R² = 0.819, slope = -0.0006)",
         "type": "scatter",
         "x": [
          5,
          15,
          25,
          35,
          45,
          55,
          65,
          75,
          85,
          95
         ],
         "y": {
          "bdata": "57Zwl2cGzD9SCYEk0z3LP71bkbE+dco/J66hPqqsyT+SALLLFeTIP/xSwliBG8g/Z6XS5exSxz/S9+JyWIrGPzxK8//DwcU/p5wDjS/5xD8=",
          "dtype": "f8"
         }
        },
        {
         "hovertemplate": "<b>%{text}</b><br>Income Deprivation Band (% midpoint): %{x}<br>Proportion: %{y:.3f}<br>Result: Fail<extra></extra>",
         "marker": {
          "color": "#d62728",
          "opacity": 0.8,
          "size": 12
         },
         "mode": "markers",
         "name": "Fail data",
         "text": [
          "0-10%",
          "10-20%",
          "20-30%",
          "30-40%",
          "40-50%",
          "50-60%",
          "60-70%",
          "70-80%",
          "80-90%",
          "90-100%"
         ],
         "type": "scatter",
         "x": [
          5,
          15,
          25,
          35,
          45,
          55,
          65,
          75,
          85,
          95
         ],
         "y": {
          "bdata": "wcqhRbbz1T/RItv5fmrUP0Jg5dAi29E/pHA9Ctej0D+oxks3iUHQP1CNl24Sg9A/3SQGgZVDyz9oke18PzXOP+XQItv5fso/qvHSTWIQyD8=",
          "dtype": "f8"
         }
        },
        {
         "hovertemplate": "Fail Trend Line<br>R² = 0.909<br>Slope = -0.0015<extra></extra>",
         "line": {
          "color": "#d62728",
          "width": 3
         },
         "mode": "lines",
         "name": "Fail fit (R² = 0.909, slope = -0.0015)",
         "type": "scatter",
         "x": [
          5,
          15,
          25,
          35,
          45,
          55,
          65,
          75,
          85,
          95
         ],
         "y": {
          "bdata": "/Oce5lTI1D9dDkvRAs3TP740d7yw0dI/Hlujp17W0T9/gc+SDNvQP8BP9/t0v88/gZxP0tDIzT9C6aeoLNLLPwQ2AH+I28k/xYJYVeTkxz8=",
          "dtype": "f8"
         }
        },
        {
         "hovertemplate": "<b>%{text}</b><br>Income Deprivation Band (% midpoint): %{x}<br>Proportion: %{y:.3f}<br>Result: Pass<extra></extra>",
         "marker": {
          "color": "#2ca02c",
          "opacity": 0.8,
          "size": 12
         },
         "mode": "markers",
         "name": "Pass data",
         "text": [
          "0-10%",
          "10-20%",
          "20-30%",
          "30-40%",
          "40-50%",
          "50-60%",
          "60-70%",
          "70-80%",
          "80-90%",
          "90-100%"
         ],
         "type": "scatter",
         "x": [
          5,
          15,
          25,
          35,
          45,
          55,
          65,
          75,
          85,
          95
         ],
         "y": {
          "bdata": "gZVDi2zn2z8QWDm0yHbeP65H4XoUrt8/mpmZmZmZ4T/ufD81XrrhP5ZDi2zn++E/tMh2vp8a4z/jpZvEILDiPyuHFtnO9+M/zczMzMzM5D8=",
          "dtype": "f8"
         }
        },
        {
         "hovertemplate": "Pass Trend Line<br>R² = 0.948<br>Slope = 0.0022<extra></extra>",
         "line": {
          "color": "#2ca02c",
          "width": 3
         },
         "mode": "lines",
         "name": "Pass fit (R² = 0.948, slope = 0.0022)",
         "type": "scatter",
         "x": [
          5,
          15,
          25,
          35,
          45,
          55,
          65,
          75,
          85,
          95
         ],
         "y": {
          "bdata": "kjP1BSAs3T+WhSWhOY3eP5vXVTxT7t8/0BTDa7an4D/TPVs5Q1jhP9Vm8wbQCOI/2I+L1Fy54j/auCOi6WnjP9zhu292GuQ/3wpUPQPL5D8=",
          "dtype": "f8"
         }
        }
       ],
       "layout": {
        "height": 600,
        "legend": {
         "bgcolor": "rgba(255,255,255,0.9)",
         "bordercolor": "#ddd",
         "borderwidth": 1,
         "font": {
          "size": 10
         },
         "x": 0.02,
         "y": 0.98
        },
        "margin": {
         "b": 80,
         "l": 80,
         "r": 50,
         "t": 60
        },
        "paper_bgcolor": "white",
        "plot_bgcolor": "white",
        "template": {
         "data": {
          "bar": [
           {
            "error_x": {
             "color": "#2a3f5f"
            },
            "error_y": {
             "color": "#2a3f5f"
            },
            "marker": {
             "line": {
              "color": "#E5ECF6",
              "width": 0.5
             },
             "pattern": {
              "fillmode": "overlay",
              "size": 10,
              "solidity": 0.2
             }
            },
            "type": "bar"
           }
          ],
          "barpolar": [
           {
            "marker": {
             "line": {
              "color": "#E5ECF6",
              "width": 0.5
             },
             "pattern": {
              "fillmode": "overlay",
              "size": 10,
              "solidity": 0.2
             }
            },
            "type": "barpolar"
           }
          ],
          "carpet": [
           {
            "aaxis": {
             "endlinecolor": "#2a3f5f",
             "gridcolor": "white",
             "linecolor": "white",
             "minorgridcolor": "white",
             "startlinecolor": "#2a3f5f"
            },
            "baxis": {
             "endlinecolor": "#2a3f5f",
             "gridcolor": "white",
             "linecolor": "white",
             "minorgridcolor": "white",
             "startlinecolor": "#2a3f5f"
            },
            "type": "carpet"
           }
          ],
          "choropleth": [
           {
            "colorbar": {
             "outlinewidth": 0,
             "ticks": ""
            },
            "type": "choropleth"
           }
          ],
          "contour": [
           {
            "colorbar": {
             "outlinewidth": 0,
             "ticks": ""
            },
            "colorscale": [
             [
              0,
              "#0d0887"
             ],
             [
              0.1111111111111111,
              "#46039f"
             ],
             [
              0.2222222222222222,
              "#7201a8"
             ],
             [
              0.3333333333333333,
              "#9c179e"
             ],
             [
              0.4444444444444444,
              "#bd3786"
             ],
             [
              0.5555555555555556,
              "#d8576b"
             ],
             [
              0.6666666666666666,
              "#ed7953"
             ],
             [
              0.7777777777777778,
              "#fb9f3a"
             ],
             [
              0.8888888888888888,
              "#fdca26"
             ],
             [
              1,
              "#f0f921"
             ]
            ],
            "type": "contour"
           }
          ],
          "contourcarpet": [
           {
            "colorbar": {
             "outlinewidth": 0,
             "ticks": ""
            },
            "type": "contourcarpet"
           }
          ],
          "heatmap": [
           {
            "colorbar": {
             "outlinewidth": 0,
             "ticks": ""
            },
            "colorscale": [
             [
              0,
              "#0d0887"
             ],
             [
              0.1111111111111111,
              "#46039f"
             ],
             [
              0.2222222222222222,
              "#7201a8"
             ],
             [
              0.3333333333333333,
              "#9c179e"
             ],
             [
              0.4444444444444444,
              "#bd3786"
             ],
             [
              0.5555555555555556,
              "#d8576b"
             ],
             [
              0.6666666666666666,
              "#ed7953"
             ],
             [
              0.7777777777777778,
              "#fb9f3a"
             ],
             [
              0.8888888888888888,
              "#fdca26"
             ],
             [
              1,
              "#f0f921"
             ]
            ],
            "type": "heatmap"
           }
          ],
          "histogram": [
           {
            "marker": {
             "pattern": {
              "fillmode": "overlay",
              "size": 10,
              "solidity": 0.2
             }
            },
            "type": "histogram"
           }
          ],
          "histogram2d": [
           {
            "colorbar": {
             "outlinewidth": 0,
             "ticks": ""
            },
            "colorscale": [
             [
              0,
              "#0d0887"
             ],
             [
              0.1111111111111111,
              "#46039f"
             ],
             [
              0.2222222222222222,
              "#7201a8"
             ],
             [
              0.3333333333333333,
              "#9c179e"
             ],
             [
              0.4444444444444444,
              "#bd3786"
             ],
             [
              0.5555555555555556,
              "#d8576b"
             ],
             [
              0.6666666666666666,
              "#ed7953"
             ],
             [
              0.7777777777777778,
              "#fb9f3a"
             ],
             [
              0.8888888888888888,
              "#fdca26"
             ],
             [
              1,
              "#f0f921"
             ]
            ],
            "type": "histogram2d"
           }
          ],
          "histogram2dcontour": [
           {
            "colorbar": {
             "outlinewidth": 0,
             "ticks": ""
            },
            "colorscale": [
             [
              0,
              "#0d0887"
             ],
             [
              0.1111111111111111,
              "#46039f"
             ],
             [
              0.2222222222222222,
              "#7201a8"
             ],
             [
              0.3333333333333333,
              "#9c179e"
             ],
             [
              0.4444444444444444,
              "#bd3786"
             ],
             [
              0.5555555555555556,
              "#d8576b"
             ],
             [
              0.6666666666666666,
              "#ed7953"
             ],
             [
              0.7777777777777778,
              "#fb9f3a"
             ],
             [
              0.8888888888888888,
              "#fdca26"
             ],
             [
              1,
              "#f0f921"
             ]
            ],
            "type": "histogram2dcontour"
           }
          ],
          "mesh3d": [
           {
            "colorbar": {
             "outlinewidth": 0,
             "ticks": ""
            },
            "type": "mesh3d"
           }
          ],
          "parcoords": [
           {
            "line": {
             "colorbar": {
              "outlinewidth": 0,
              "ticks": ""
             }
            },
            "type": "parcoords"
           }
          ],
          "pie": [
           {
            "automargin": true,
            "type": "pie"
           }
          ],
          "scatter": [
           {
            "fillpattern": {
             "fillmode": "overlay",
             "size": 10,
             "solidity": 0.2
            },
            "type": "scatter"
           }
          ],
          "scatter3d": [
           {
            "line": {
             "colorbar": {
              "outlinewidth": 0,
              "ticks": ""
             }
            },
            "marker": {
             "colorbar": {
              "outlinewidth": 0,
              "ticks": ""
             }
            },
            "type": "scatter3d"
           }
          ],
          "scattercarpet": [
           {
            "marker": {
             "colorbar": {
              "outlinewidth": 0,
              "ticks": ""
             }
            },
            "type": "scattercarpet"
           }
          ],
          "scattergeo": [
           {
            "marker": {
             "colorbar": {
              "outlinewidth": 0,
              "ticks": ""
             }
            },
            "type": "scattergeo"
           }
          ],
          "scattergl": [
           {
            "marker": {
             "colorbar": {
              "outlinewidth": 0,
              "ticks": ""
             }
            },
            "type": "scattergl"
           }
          ],
          "scattermap": [
           {
            "marker": {
             "colorbar": {
              "outlinewidth": 0,
              "ticks": ""
             }
            },
            "type": "scattermap"
           }
          ],
          "scattermapbox": [
           {
            "marker": {
             "colorbar": {
              "outlinewidth": 0,
              "ticks": ""
             }
            },
            "type": "scattermapbox"
           }
          ],
          "scatterpolar": [
           {
            "marker": {
             "colorbar": {
              "outlinewidth": 0,
              "ticks": ""
             }
            },
            "type": "scatterpolar"
           }
          ],
          "scatterpolargl": [
           {
            "marker": {
             "colorbar": {
              "outlinewidth": 0,
              "ticks": ""
             }
            },
            "type": "scatterpolargl"
           }
          ],
          "scatterternary": [
           {
            "marker": {
             "colorbar": {
              "outlinewidth": 0,
              "ticks": ""
             }
            },
            "type": "scatterternary"
           }
          ],
          "surface": [
           {
            "colorbar": {
             "outlinewidth": 0,
             "ticks": ""
            },
            "colorscale": [
             [
              0,
              "#0d0887"
             ],
             [
              0.1111111111111111,
              "#46039f"
             ],
             [
              0.2222222222222222,
              "#7201a8"
             ],
             [
              0.3333333333333333,
              "#9c179e"
             ],
             [
              0.4444444444444444,
              "#bd3786"
             ],
             [
              0.5555555555555556,
              "#d8576b"
             ],
             [
              0.6666666666666666,
              "#ed7953"
             ],
             [
              0.7777777777777778,
              "#fb9f3a"
             ],
             [
              0.8888888888888888,
              "#fdca26"
             ],
             [
              1,
              "#f0f921"
             ]
            ],
            "type": "surface"
           }
          ],
          "table": [
           {
            "cells": {
             "fill": {
              "color": "#EBF0F8"
             },
             "line": {
              "color": "white"
             }
            },
            "header": {
             "fill": {
              "color": "#C8D4E3"
             },
             "line": {
              "color": "white"
             }
            },
            "type": "table"
           }
          ]
         },
         "layout": {
          "annotationdefaults": {
           "arrowcolor": "#2a3f5f",
           "arrowhead": 0,
           "arrowwidth": 1
          },
          "autotypenumbers": "strict",
          "coloraxis": {
           "colorbar": {
            "outlinewidth": 0,
            "ticks": ""
           }
          },
          "colorscale": {
           "diverging": [
            [
             0,
             "#8e0152"
            ],
            [
             0.1,
             "#c51b7d"
            ],
            [
             0.2,
             "#de77ae"
            ],
            [
             0.3,
             "#f1b6da"
            ],
            [
             0.4,
             "#fde0ef"
            ],
            [
             0.5,
             "#f7f7f7"
            ],
            [
             0.6,
             "#e6f5d0"
            ],
            [
             0.7,
             "#b8e186"
            ],
            [
             0.8,
             "#7fbc41"
            ],
            [
             0.9,
             "#4d9221"
            ],
            [
             1,
             "#276419"
            ]
           ],
           "sequential": [
            [
             0,
             "#0d0887"
            ],
            [
             0.1111111111111111,
             "#46039f"
            ],
            [
             0.2222222222222222,
             "#7201a8"
            ],
            [
             0.3333333333333333,
             "#9c179e"
            ],
            [
             0.4444444444444444,
             "#bd3786"
            ],
            [
             0.5555555555555556,
             "#d8576b"
            ],
            [
             0.6666666666666666,
             "#ed7953"
            ],
            [
             0.7777777777777778,
             "#fb9f3a"
            ],
            [
             0.8888888888888888,
             "#fdca26"
            ],
            [
             1,
             "#f0f921"
            ]
           ],
           "sequentialminus": [
            [
             0,
             "#0d0887"
            ],
            [
             0.1111111111111111,
             "#46039f"
            ],
            [
             0.2222222222222222,
             "#7201a8"
            ],
            [
             0.3333333333333333,
             "#9c179e"
            ],
            [
             0.4444444444444444,
             "#bd3786"
            ],
            [
             0.5555555555555556,
             "#d8576b"
            ],
            [
             0.6666666666666666,
             "#ed7953"
            ],
            [
             0.7777777777777778,
             "#fb9f3a"
            ],
            [
             0.8888888888888888,
             "#fdca26"
            ],
            [
             1,
             "#f0f921"
            ]
           ]
          },
          "colorway": [
           "#636efa",
           "#EF553B",
           "#00cc96",
           "#ab63fa",
           "#FFA15A",
           "#19d3f3",
           "#FF6692",
           "#B6E880",
           "#FF97FF",
           "#FECB52"
          ],
          "font": {
           "color": "#2a3f5f"
          },
          "geo": {
           "bgcolor": "white",
           "lakecolor": "white",
           "landcolor": "#E5ECF6",
           "showlakes": true,
           "showland": true,
           "subunitcolor": "white"
          },
          "hoverlabel": {
           "align": "left"
          },
          "hovermode": "closest",
          "mapbox": {
           "style": "light"
          },
          "paper_bgcolor": "white",
          "plot_bgcolor": "#E5ECF6",
          "polar": {
           "angularaxis": {
            "gridcolor": "white",
            "linecolor": "white",
            "ticks": ""
           },
           "bgcolor": "#E5ECF6",
           "radialaxis": {
            "gridcolor": "white",
            "linecolor": "white",
            "ticks": ""
           }
          },
          "scene": {
           "xaxis": {
            "backgroundcolor": "#E5ECF6",
            "gridcolor": "white",
            "gridwidth": 2,
            "linecolor": "white",
            "showbackground": true,
            "ticks": "",
            "zerolinecolor": "white"
           },
           "yaxis": {
            "backgroundcolor": "#E5ECF6",
            "gridcolor": "white",
            "gridwidth": 2,
            "linecolor": "white",
            "showbackground": true,
            "ticks": "",
            "zerolinecolor": "white"
           },
           "zaxis": {
            "backgroundcolor": "#E5ECF6",
            "gridcolor": "white",
            "gridwidth": 2,
            "linecolor": "white",
            "showbackground": true,
            "ticks": "",
            "zerolinecolor": "white"
           }
          },
          "shapedefaults": {
           "line": {
            "color": "#2a3f5f"
           }
          },
          "ternary": {
           "aaxis": {
            "gridcolor": "white",
            "linecolor": "white",
            "ticks": ""
           },
           "baxis": {
            "gridcolor": "white",
            "linecolor": "white",
            "ticks": ""
           },
           "bgcolor": "#E5ECF6",
           "caxis": {
            "gridcolor": "white",
            "linecolor": "white",
            "ticks": ""
           }
          },
          "title": {
           "x": 0.05
          },
          "xaxis": {
           "automargin": true,
           "gridcolor": "white",
           "linecolor": "white",
           "ticks": "",
           "title": {
            "standoff": 15
           },
           "zerolinecolor": "white",
           "zerolinewidth": 2
          },
          "yaxis": {
           "automargin": true,
           "gridcolor": "white",
           "linecolor": "white",
           "ticks": "",
           "title": {
            "standoff": 15
           },
           "zerolinecolor": "white",
           "zerolinewidth": 2
          }
         }
        },
        "title": {
         "font": {
          "color": "#333",
          "size": 16
         },
         "text": "Linear Regression: Student Outcomes - Imd Band"
        },
        "width": 900,
        "xaxis": {
         "gridcolor": "#e0e0e0",
         "title": {
          "text": "Income Deprivation Band (% midpoint)"
         }
        },
        "yaxis": {
         "gridcolor": "#e0e0e0",
         "range": [
          0,
          0.7150000000000001
         ],
         "title": {
          "text": "Proportion"
         }
        }
       }
      }
     },
     "metadata": {},
     "output_type": "display_data"
    }
   ],
   "source": [
    "# =============================================================================\n",
    "# CELL 6: Create Individual Plot\n",
    "# =============================================================================\n",
    "\n",
    "# Create a plot for a specific variable\n",
    "# Options: 'gender', 'age_band', 'disability', 'highest_education', 'imd_band', 'region'\n",
    "variable_to_plot = 'imd_band'  # ⚙️ CHANGE THIS to plot different variables\n",
    "\n",
    "if variable_to_plot in cross_tables and variable_to_plot in VARIABLE_CONFIGS:\n",
    "    print(f\"📈 Creating plot for {variable_to_plot.replace('_', ' ').title()}...\")\n",
    "    \n",
    "    cross_table = cross_tables[variable_to_plot]\n",
    "    config = VARIABLE_CONFIGS[variable_to_plot]\n",
    "    \n",
    "    # Handle special cases\n",
    "    if variable_to_plot == 'region':\n",
    "        sorted_regions = sorted(cross_table.index.tolist())\n",
    "        cross_table = cross_table.reindex(sorted_regions)\n",
    "        x_values = list(range(len(sorted_regions)))\n",
    "        categories = sorted_regions\n",
    "    elif variable_to_plot == 'highest_education' and 'order' in config:\n",
    "        cross_table = cross_table.reindex(config['order'])\n",
    "        x_values = config['x_values']\n",
    "        categories = config['categories']\n",
    "    else:\n",
    "        x_values = config['x_values']\n",
    "        categories = config['categories']\n",
    "    \n",
    "    # Create and show the plot\n",
    "    fig = create_plotly_regression_plot(\n",
    "        cross_table,\n",
    "        variable_to_plot.replace('_', ' ').title(),\n",
    "        x_values,\n",
    "        config['x_label'],\n",
    "        categories\n",
    "    )\n",
    "    \n",
    "    # Show regression stats\n",
    "    print(\"\\n📊 REGRESSION STATISTICS:\")\n",
    "    from analysis_engine import calculate_linear_regression\n",
    "    for col in cross_table.columns:\n",
    "        y_values = cross_table[col].values\n",
    "        regression = calculate_linear_regression(x_values, y_values)\n",
    "        result_name = RESULT_CODE_MAPPING.get(col, f'Code {col}')\n",
    "        trend = \"📈 Positive\" if regression['slope'] > 0 else \"📉 Negative\"\n",
    "        strength = \"💪 Strong\" if regression['r_squared'] > 0.7 else \"🔸 Moderate\" if regression['r_squared'] > 0.3 else \"🔹 Weak\"\n",
    "        print(f\"   {result_name:>10}: R² = {regression['r_squared']:.3f}, Slope = {regression['slope']:+.4f} ({trend}, {strength})\")\n",
    "    \n",
    "    fig.show()\n",
    "    \n",
    "else:\n",
    "    print(f\"❌ Variable '{variable_to_plot}' not available for plotting.\")\n",
    "    print(f\"📝 Available variables: {list(cross_tables.keys())}\")"
   ]
  },
  {
   "cell_type": "code",
   "execution_count": 10,
   "id": "21f0ed9b",
   "metadata": {},
   "outputs": [
    {
     "name": "stdout",
     "output_type": "stream",
     "text": [
      "🔬 COMPREHENSIVE LINEAR REGRESSION ANALYSIS\n",
      "======================================================================\n",
      "This analysis examines linear relationships between all demographic\n",
      "variables and student outcomes (Withdrawn=0, Fail=1, Pass=2).\n",
      "\n",
      "📊 CREATING PLOTS WITH STATISTICAL ANALYSIS:\n",
      "------------------------------------------------------------\n",
      "\n",
      "1. 📈 Gender:\n",
      "   ---------------------------------------------\n",
      "   📊 Regression Statistics:\n",
      "        Withdrawn: R² = 1.000 | Slope = +0.0200 | 💪 Strong 📈 Positive\n",
      "             Fail: R² = 1.000 | Slope = +0.0110 | 💪 Strong 📈 Positive\n",
      "             Pass: R² = 1.000 | Slope = -0.0300 | 💪 Strong 📉 Negative\n",
      "   ✅ Plot created successfully\n"
     ]
    },
    {
     "data": {
      "application/vnd.plotly.v1+json": {
       "config": {
        "plotlyServerURL": "https://plot.ly"
       },
       "data": [
        {
         "hovertemplate": "<b>%{text}</b><br>Gender (Female=0, Male=1): %{x}<br>Proportion: %{y:.3f}<br>Result: Withdrawn<extra></extra>",
         "marker": {
          "color": "#1f77b4",
          "opacity": 0.8,
          "size": 12
         },
         "mode": "markers",
         "name": "Withdrawn data",
         "text": [
          "Female",
          "Male"
         ],
         "type": "scatter",
         "x": [
          0,
          1
         ],
         "y": {
          "bdata": "CtejcD0Kxz+amZmZmZnJPw==",
          "dtype": "f8"
         }
        },
        {
         "hovertemplate": "Withdrawn Trend Line<br>R² = 1.000<br>Slope = 0.0200<extra></extra>",
         "line": {
          "color": "#1f77b4",
          "width": 3
         },
         "mode": "lines",
         "name": "Withdrawn fit (R² = 1.000, slope = 0.0200)",
         "type": "scatter",
         "x": [
          0,
          1
         ],
         "y": {
          "bdata": "CtejcD0Kxz+amZmZmZnJPw==",
          "dtype": "f8"
         }
        },
        {
         "hovertemplate": "<b>%{text}</b><br>Gender (Female=0, Male=1): %{x}<br>Proportion: %{y:.3f}<br>Result: Fail<extra></extra>",
         "marker": {
          "color": "#d62728",
          "opacity": 0.8,
          "size": 12
         },
         "mode": "markers",
         "name": "Fail data",
         "text": [
          "Female",
          "Male"
         ],
         "type": "scatter",
         "x": [
          0,
          1
         ],
         "y": {
          "bdata": "WDm0yHa+zz/6fmq8dJPQPw==",
          "dtype": "f8"
         }
        },
        {
         "hovertemplate": "Fail Trend Line<br>R² = 1.000<br>Slope = 0.0110<extra></extra>",
         "line": {
          "color": "#d62728",
          "width": 3
         },
         "mode": "lines",
         "name": "Fail fit (R² = 1.000, slope = 0.0110)",
         "type": "scatter",
         "x": [
          0,
          1
         ],
         "y": {
          "bdata": "WDm0yHa+zz/6fmq8dJPQPw==",
          "dtype": "f8"
         }
        },
        {
         "hovertemplate": "<b>%{text}</b><br>Gender (Female=0, Male=1): %{x}<br>Proportion: %{y:.3f}<br>Result: Pass<extra></extra>",
         "marker": {
          "color": "#2ca02c",
          "opacity": 0.8,
          "size": 12
         },
         "mode": "markers",
         "name": "Pass data",
         "text": [
          "Female",
          "Male"
         ],
         "type": "scatter",
         "x": [
          0,
          1
         ],
         "y": {
          "bdata": "EoPAyqFF4j8dWmQ730/hPw==",
          "dtype": "f8"
         }
        },
        {
         "hovertemplate": "Pass Trend Line<br>R² = 1.000<br>Slope = -0.0300<extra></extra>",
         "line": {
          "color": "#2ca02c",
          "width": 3
         },
         "mode": "lines",
         "name": "Pass fit (R² = 1.000, slope = -0.0300)",
         "type": "scatter",
         "x": [
          0,
          1
         ],
         "y": {
          "bdata": "EoPAyqFF4j8dWmQ730/hPw==",
          "dtype": "f8"
         }
        }
       ],
       "layout": {
        "height": 600,
        "legend": {
         "bgcolor": "rgba(255,255,255,0.9)",
         "bordercolor": "#ddd",
         "borderwidth": 1,
         "font": {
          "size": 10
         },
         "x": 0.02,
         "y": 0.98
        },
        "margin": {
         "b": 80,
         "l": 80,
         "r": 50,
         "t": 60
        },
        "paper_bgcolor": "white",
        "plot_bgcolor": "white",
        "template": {
         "data": {
          "bar": [
           {
            "error_x": {
             "color": "#2a3f5f"
            },
            "error_y": {
             "color": "#2a3f5f"
            },
            "marker": {
             "line": {
              "color": "#E5ECF6",
              "width": 0.5
             },
             "pattern": {
              "fillmode": "overlay",
              "size": 10,
              "solidity": 0.2
             }
            },
            "type": "bar"
           }
          ],
          "barpolar": [
           {
            "marker": {
             "line": {
              "color": "#E5ECF6",
              "width": 0.5
             },
             "pattern": {
              "fillmode": "overlay",
              "size": 10,
              "solidity": 0.2
             }
            },
            "type": "barpolar"
           }
          ],
          "carpet": [
           {
            "aaxis": {
             "endlinecolor": "#2a3f5f",
             "gridcolor": "white",
             "linecolor": "white",
             "minorgridcolor": "white",
             "startlinecolor": "#2a3f5f"
            },
            "baxis": {
             "endlinecolor": "#2a3f5f",
             "gridcolor": "white",
             "linecolor": "white",
             "minorgridcolor": "white",
             "startlinecolor": "#2a3f5f"
            },
            "type": "carpet"
           }
          ],
          "choropleth": [
           {
            "colorbar": {
             "outlinewidth": 0,
             "ticks": ""
            },
            "type": "choropleth"
           }
          ],
          "contour": [
           {
            "colorbar": {
             "outlinewidth": 0,
             "ticks": ""
            },
            "colorscale": [
             [
              0,
              "#0d0887"
             ],
             [
              0.1111111111111111,
              "#46039f"
             ],
             [
              0.2222222222222222,
              "#7201a8"
             ],
             [
              0.3333333333333333,
              "#9c179e"
             ],
             [
              0.4444444444444444,
              "#bd3786"
             ],
             [
              0.5555555555555556,
              "#d8576b"
             ],
             [
              0.6666666666666666,
              "#ed7953"
             ],
             [
              0.7777777777777778,
              "#fb9f3a"
             ],
             [
              0.8888888888888888,
              "#fdca26"
             ],
             [
              1,
              "#f0f921"
             ]
            ],
            "type": "contour"
           }
          ],
          "contourcarpet": [
           {
            "colorbar": {
             "outlinewidth": 0,
             "ticks": ""
            },
            "type": "contourcarpet"
           }
          ],
          "heatmap": [
           {
            "colorbar": {
             "outlinewidth": 0,
             "ticks": ""
            },
            "colorscale": [
             [
              0,
              "#0d0887"
             ],
             [
              0.1111111111111111,
              "#46039f"
             ],
             [
              0.2222222222222222,
              "#7201a8"
             ],
             [
              0.3333333333333333,
              "#9c179e"
             ],
             [
              0.4444444444444444,
              "#bd3786"
             ],
             [
              0.5555555555555556,
              "#d8576b"
             ],
             [
              0.6666666666666666,
              "#ed7953"
             ],
             [
              0.7777777777777778,
              "#fb9f3a"
             ],
             [
              0.8888888888888888,
              "#fdca26"
             ],
             [
              1,
              "#f0f921"
             ]
            ],
            "type": "heatmap"
           }
          ],
          "histogram": [
           {
            "marker": {
             "pattern": {
              "fillmode": "overlay",
              "size": 10,
              "solidity": 0.2
             }
            },
            "type": "histogram"
           }
          ],
          "histogram2d": [
           {
            "colorbar": {
             "outlinewidth": 0,
             "ticks": ""
            },
            "colorscale": [
             [
              0,
              "#0d0887"
             ],
             [
              0.1111111111111111,
              "#46039f"
             ],
             [
              0.2222222222222222,
              "#7201a8"
             ],
             [
              0.3333333333333333,
              "#9c179e"
             ],
             [
              0.4444444444444444,
              "#bd3786"
             ],
             [
              0.5555555555555556,
              "#d8576b"
             ],
             [
              0.6666666666666666,
              "#ed7953"
             ],
             [
              0.7777777777777778,
              "#fb9f3a"
             ],
             [
              0.8888888888888888,
              "#fdca26"
             ],
             [
              1,
              "#f0f921"
             ]
            ],
            "type": "histogram2d"
           }
          ],
          "histogram2dcontour": [
           {
            "colorbar": {
             "outlinewidth": 0,
             "ticks": ""
            },
            "colorscale": [
             [
              0,
              "#0d0887"
             ],
             [
              0.1111111111111111,
              "#46039f"
             ],
             [
              0.2222222222222222,
              "#7201a8"
             ],
             [
              0.3333333333333333,
              "#9c179e"
             ],
             [
              0.4444444444444444,
              "#bd3786"
             ],
             [
              0.5555555555555556,
              "#d8576b"
             ],
             [
              0.6666666666666666,
              "#ed7953"
             ],
             [
              0.7777777777777778,
              "#fb9f3a"
             ],
             [
              0.8888888888888888,
              "#fdca26"
             ],
             [
              1,
              "#f0f921"
             ]
            ],
            "type": "histogram2dcontour"
           }
          ],
          "mesh3d": [
           {
            "colorbar": {
             "outlinewidth": 0,
             "ticks": ""
            },
            "type": "mesh3d"
           }
          ],
          "parcoords": [
           {
            "line": {
             "colorbar": {
              "outlinewidth": 0,
              "ticks": ""
             }
            },
            "type": "parcoords"
           }
          ],
          "pie": [
           {
            "automargin": true,
            "type": "pie"
           }
          ],
          "scatter": [
           {
            "fillpattern": {
             "fillmode": "overlay",
             "size": 10,
             "solidity": 0.2
            },
            "type": "scatter"
           }
          ],
          "scatter3d": [
           {
            "line": {
             "colorbar": {
              "outlinewidth": 0,
              "ticks": ""
             }
            },
            "marker": {
             "colorbar": {
              "outlinewidth": 0,
              "ticks": ""
             }
            },
            "type": "scatter3d"
           }
          ],
          "scattercarpet": [
           {
            "marker": {
             "colorbar": {
              "outlinewidth": 0,
              "ticks": ""
             }
            },
            "type": "scattercarpet"
           }
          ],
          "scattergeo": [
           {
            "marker": {
             "colorbar": {
              "outlinewidth": 0,
              "ticks": ""
             }
            },
            "type": "scattergeo"
           }
          ],
          "scattergl": [
           {
            "marker": {
             "colorbar": {
              "outlinewidth": 0,
              "ticks": ""
             }
            },
            "type": "scattergl"
           }
          ],
          "scattermap": [
           {
            "marker": {
             "colorbar": {
              "outlinewidth": 0,
              "ticks": ""
             }
            },
            "type": "scattermap"
           }
          ],
          "scattermapbox": [
           {
            "marker": {
             "colorbar": {
              "outlinewidth": 0,
              "ticks": ""
             }
            },
            "type": "scattermapbox"
           }
          ],
          "scatterpolar": [
           {
            "marker": {
             "colorbar": {
              "outlinewidth": 0,
              "ticks": ""
             }
            },
            "type": "scatterpolar"
           }
          ],
          "scatterpolargl": [
           {
            "marker": {
             "colorbar": {
              "outlinewidth": 0,
              "ticks": ""
             }
            },
            "type": "scatterpolargl"
           }
          ],
          "scatterternary": [
           {
            "marker": {
             "colorbar": {
              "outlinewidth": 0,
              "ticks": ""
             }
            },
            "type": "scatterternary"
           }
          ],
          "surface": [
           {
            "colorbar": {
             "outlinewidth": 0,
             "ticks": ""
            },
            "colorscale": [
             [
              0,
              "#0d0887"
             ],
             [
              0.1111111111111111,
              "#46039f"
             ],
             [
              0.2222222222222222,
              "#7201a8"
             ],
             [
              0.3333333333333333,
              "#9c179e"
             ],
             [
              0.4444444444444444,
              "#bd3786"
             ],
             [
              0.5555555555555556,
              "#d8576b"
             ],
             [
              0.6666666666666666,
              "#ed7953"
             ],
             [
              0.7777777777777778,
              "#fb9f3a"
             ],
             [
              0.8888888888888888,
              "#fdca26"
             ],
             [
              1,
              "#f0f921"
             ]
            ],
            "type": "surface"
           }
          ],
          "table": [
           {
            "cells": {
             "fill": {
              "color": "#EBF0F8"
             },
             "line": {
              "color": "white"
             }
            },
            "header": {
             "fill": {
              "color": "#C8D4E3"
             },
             "line": {
              "color": "white"
             }
            },
            "type": "table"
           }
          ]
         },
         "layout": {
          "annotationdefaults": {
           "arrowcolor": "#2a3f5f",
           "arrowhead": 0,
           "arrowwidth": 1
          },
          "autotypenumbers": "strict",
          "coloraxis": {
           "colorbar": {
            "outlinewidth": 0,
            "ticks": ""
           }
          },
          "colorscale": {
           "diverging": [
            [
             0,
             "#8e0152"
            ],
            [
             0.1,
             "#c51b7d"
            ],
            [
             0.2,
             "#de77ae"
            ],
            [
             0.3,
             "#f1b6da"
            ],
            [
             0.4,
             "#fde0ef"
            ],
            [
             0.5,
             "#f7f7f7"
            ],
            [
             0.6,
             "#e6f5d0"
            ],
            [
             0.7,
             "#b8e186"
            ],
            [
             0.8,
             "#7fbc41"
            ],
            [
             0.9,
             "#4d9221"
            ],
            [
             1,
             "#276419"
            ]
           ],
           "sequential": [
            [
             0,
             "#0d0887"
            ],
            [
             0.1111111111111111,
             "#46039f"
            ],
            [
             0.2222222222222222,
             "#7201a8"
            ],
            [
             0.3333333333333333,
             "#9c179e"
            ],
            [
             0.4444444444444444,
             "#bd3786"
            ],
            [
             0.5555555555555556,
             "#d8576b"
            ],
            [
             0.6666666666666666,
             "#ed7953"
            ],
            [
             0.7777777777777778,
             "#fb9f3a"
            ],
            [
             0.8888888888888888,
             "#fdca26"
            ],
            [
             1,
             "#f0f921"
            ]
           ],
           "sequentialminus": [
            [
             0,
             "#0d0887"
            ],
            [
             0.1111111111111111,
             "#46039f"
            ],
            [
             0.2222222222222222,
             "#7201a8"
            ],
            [
             0.3333333333333333,
             "#9c179e"
            ],
            [
             0.4444444444444444,
             "#bd3786"
            ],
            [
             0.5555555555555556,
             "#d8576b"
            ],
            [
             0.6666666666666666,
             "#ed7953"
            ],
            [
             0.7777777777777778,
             "#fb9f3a"
            ],
            [
             0.8888888888888888,
             "#fdca26"
            ],
            [
             1,
             "#f0f921"
            ]
           ]
          },
          "colorway": [
           "#636efa",
           "#EF553B",
           "#00cc96",
           "#ab63fa",
           "#FFA15A",
           "#19d3f3",
           "#FF6692",
           "#B6E880",
           "#FF97FF",
           "#FECB52"
          ],
          "font": {
           "color": "#2a3f5f"
          },
          "geo": {
           "bgcolor": "white",
           "lakecolor": "white",
           "landcolor": "#E5ECF6",
           "showlakes": true,
           "showland": true,
           "subunitcolor": "white"
          },
          "hoverlabel": {
           "align": "left"
          },
          "hovermode": "closest",
          "mapbox": {
           "style": "light"
          },
          "paper_bgcolor": "white",
          "plot_bgcolor": "#E5ECF6",
          "polar": {
           "angularaxis": {
            "gridcolor": "white",
            "linecolor": "white",
            "ticks": ""
           },
           "bgcolor": "#E5ECF6",
           "radialaxis": {
            "gridcolor": "white",
            "linecolor": "white",
            "ticks": ""
           }
          },
          "scene": {
           "xaxis": {
            "backgroundcolor": "#E5ECF6",
            "gridcolor": "white",
            "gridwidth": 2,
            "linecolor": "white",
            "showbackground": true,
            "ticks": "",
            "zerolinecolor": "white"
           },
           "yaxis": {
            "backgroundcolor": "#E5ECF6",
            "gridcolor": "white",
            "gridwidth": 2,
            "linecolor": "white",
            "showbackground": true,
            "ticks": "",
            "zerolinecolor": "white"
           },
           "zaxis": {
            "backgroundcolor": "#E5ECF6",
            "gridcolor": "white",
            "gridwidth": 2,
            "linecolor": "white",
            "showbackground": true,
            "ticks": "",
            "zerolinecolor": "white"
           }
          },
          "shapedefaults": {
           "line": {
            "color": "#2a3f5f"
           }
          },
          "ternary": {
           "aaxis": {
            "gridcolor": "white",
            "linecolor": "white",
            "ticks": ""
           },
           "baxis": {
            "gridcolor": "white",
            "linecolor": "white",
            "ticks": ""
           },
           "bgcolor": "#E5ECF6",
           "caxis": {
            "gridcolor": "white",
            "linecolor": "white",
            "ticks": ""
           }
          },
          "title": {
           "x": 0.05
          },
          "xaxis": {
           "automargin": true,
           "gridcolor": "white",
           "linecolor": "white",
           "ticks": "",
           "title": {
            "standoff": 15
           },
           "zerolinecolor": "white",
           "zerolinewidth": 2
          },
          "yaxis": {
           "automargin": true,
           "gridcolor": "white",
           "linecolor": "white",
           "ticks": "",
           "title": {
            "standoff": 15
           },
           "zerolinecolor": "white",
           "zerolinewidth": 2
          }
         }
        },
        "title": {
         "font": {
          "color": "#333",
          "size": 16
         },
         "text": "Linear Regression: Student Outcomes - Gender"
        },
        "width": 900,
        "xaxis": {
         "gridcolor": "#e0e0e0",
         "title": {
          "text": "Gender (Female=0, Male=1)"
         }
        },
        "yaxis": {
         "gridcolor": "#e0e0e0",
         "range": [
          0,
          0.6281
         ],
         "title": {
          "text": "Proportion"
         }
        }
       }
      }
     },
     "metadata": {},
     "output_type": "display_data"
    },
    {
     "name": "stdout",
     "output_type": "stream",
     "text": [
      "\n",
      "2. 📈 Age Band:\n",
      "   ---------------------------------------------\n",
      "   📊 Regression Statistics:\n",
      "        Withdrawn: R² = 1.000 | Slope = -0.0130 | 💪 Strong 📉 Negative\n",
      "             Fail: R² = 0.993 | Slope = -0.0605 | 💪 Strong 📉 Negative\n",
      "             Pass: R² = 0.996 | Slope = +0.0735 | 💪 Strong 📈 Positive\n",
      "   ✅ Plot created successfully\n"
     ]
    },
    {
     "data": {
      "application/vnd.plotly.v1+json": {
       "config": {
        "plotlyServerURL": "https://plot.ly"
       },
       "data": [
        {
         "hovertemplate": "<b>%{text}</b><br>Age Band (0: 0-35, 1: 35-55, 2: 55+): %{x}<br>Proportion: %{y:.3f}<br>Result: Withdrawn<extra></extra>",
         "marker": {
          "color": "#1f77b4",
          "opacity": 0.8,
          "size": 12
         },
         "mode": "markers",
         "name": "Withdrawn data",
         "text": [
          "0-35",
          "35-55",
          "55+"
         ],
         "type": "scatter",
         "x": [
          0,
          1,
          2
         ],
         "y": {
          "bdata": "9ihcj8L1yD+yne+nxkvHP28Sg8DKocU/",
          "dtype": "f8"
         }
        },
        {
         "hovertemplate": "Withdrawn Trend Line<br>R² = 1.000<br>Slope = -0.0130<extra></extra>",
         "line": {
          "color": "#1f77b4",
          "width": 3
         },
         "mode": "lines",
         "name": "Withdrawn fit (R² = 1.000, slope = -0.0130)",
         "type": "scatter",
         "x": [
          0,
          1,
          2
         ],
         "y": {
          "bdata": "9ihcj8L1yD+yne+nxkvHP28Sg8DKocU/",
          "dtype": "f8"
         }
        },
        {
         "hovertemplate": "<b>%{text}</b><br>Age Band (0: 0-35, 1: 35-55, 2: 55+): %{x}<br>Proportion: %{y:.3f}<br>Result: Fail<extra></extra>",
         "marker": {
          "color": "#d62728",
          "opacity": 0.8,
          "size": 12
         },
         "mode": "markers",
         "name": "Fail data",
         "text": [
          "0-35",
          "35-55",
          "55+"
         ],
         "type": "scatter",
         "x": [
          0,
          1,
          2
         ],
         "y": {
          "bdata": "SOF6FK5H0T+BlUOLbOfLP99PjZduEsM/",
          "dtype": "f8"
         }
        },
        {
         "hovertemplate": "Fail Trend Line<br>R² = 0.993<br>Slope = -0.0605<extra></extra>",
         "line": {
          "color": "#d62728",
          "width": 3
         },
         "mode": "lines",
         "name": "Fail fit (R² = 0.993, slope = -0.0605)",
         "type": "scatter",
         "x": [
          0,
          1,
          2
         ],
         "y": {
          "bdata": "qjj78Bl20T/8N0IZvS3LP6T+jVBGb8M/",
          "dtype": "f8"
         }
        },
        {
         "hovertemplate": "<b>%{text}</b><br>Age Band (0: 0-35, 1: 35-55, 2: 55+): %{x}<br>Proportion: %{y:.3f}<br>Result: Pass<extra></extra>",
         "marker": {
          "color": "#2ca02c",
          "opacity": 0.8,
          "size": 12
         },
         "mode": "markers",
         "name": "Pass data",
         "text": [
          "0-35",
          "35-55",
          "55+"
         ],
         "type": "scatter",
         "x": [
          0,
          1,
          2
         ],
         "y": {
          "bdata": "H4XrUbge4T8zMzMzMzPjP23n+6nx0uU/",
          "dtype": "f8"
         }
        },
        {
         "hovertemplate": "Pass Trend Line<br>R² = 0.996<br>Slope = 0.0735<extra></extra>",
         "line": {
          "color": "#2ca02c",
          "width": 3
         },
         "mode": "lines",
         "name": "Pass fit (R² = 0.996, slope = 0.0735)",
         "type": "scatter",
         "x": [
          0,
          1,
          2
         ],
         "y": {
          "bdata": "blmrY4IH4T+VirMPn2HjP7y7u7u7u+U/",
          "dtype": "f8"
         }
        }
       ],
       "layout": {
        "height": 600,
        "legend": {
         "bgcolor": "rgba(255,255,255,0.9)",
         "bordercolor": "#ddd",
         "borderwidth": 1,
         "font": {
          "size": 10
         },
         "x": 0.02,
         "y": 0.98
        },
        "margin": {
         "b": 80,
         "l": 80,
         "r": 50,
         "t": 60
        },
        "paper_bgcolor": "white",
        "plot_bgcolor": "white",
        "template": {
         "data": {
          "bar": [
           {
            "error_x": {
             "color": "#2a3f5f"
            },
            "error_y": {
             "color": "#2a3f5f"
            },
            "marker": {
             "line": {
              "color": "#E5ECF6",
              "width": 0.5
             },
             "pattern": {
              "fillmode": "overlay",
              "size": 10,
              "solidity": 0.2
             }
            },
            "type": "bar"
           }
          ],
          "barpolar": [
           {
            "marker": {
             "line": {
              "color": "#E5ECF6",
              "width": 0.5
             },
             "pattern": {
              "fillmode": "overlay",
              "size": 10,
              "solidity": 0.2
             }
            },
            "type": "barpolar"
           }
          ],
          "carpet": [
           {
            "aaxis": {
             "endlinecolor": "#2a3f5f",
             "gridcolor": "white",
             "linecolor": "white",
             "minorgridcolor": "white",
             "startlinecolor": "#2a3f5f"
            },
            "baxis": {
             "endlinecolor": "#2a3f5f",
             "gridcolor": "white",
             "linecolor": "white",
             "minorgridcolor": "white",
             "startlinecolor": "#2a3f5f"
            },
            "type": "carpet"
           }
          ],
          "choropleth": [
           {
            "colorbar": {
             "outlinewidth": 0,
             "ticks": ""
            },
            "type": "choropleth"
           }
          ],
          "contour": [
           {
            "colorbar": {
             "outlinewidth": 0,
             "ticks": ""
            },
            "colorscale": [
             [
              0,
              "#0d0887"
             ],
             [
              0.1111111111111111,
              "#46039f"
             ],
             [
              0.2222222222222222,
              "#7201a8"
             ],
             [
              0.3333333333333333,
              "#9c179e"
             ],
             [
              0.4444444444444444,
              "#bd3786"
             ],
             [
              0.5555555555555556,
              "#d8576b"
             ],
             [
              0.6666666666666666,
              "#ed7953"
             ],
             [
              0.7777777777777778,
              "#fb9f3a"
             ],
             [
              0.8888888888888888,
              "#fdca26"
             ],
             [
              1,
              "#f0f921"
             ]
            ],
            "type": "contour"
           }
          ],
          "contourcarpet": [
           {
            "colorbar": {
             "outlinewidth": 0,
             "ticks": ""
            },
            "type": "contourcarpet"
           }
          ],
          "heatmap": [
           {
            "colorbar": {
             "outlinewidth": 0,
             "ticks": ""
            },
            "colorscale": [
             [
              0,
              "#0d0887"
             ],
             [
              0.1111111111111111,
              "#46039f"
             ],
             [
              0.2222222222222222,
              "#7201a8"
             ],
             [
              0.3333333333333333,
              "#9c179e"
             ],
             [
              0.4444444444444444,
              "#bd3786"
             ],
             [
              0.5555555555555556,
              "#d8576b"
             ],
             [
              0.6666666666666666,
              "#ed7953"
             ],
             [
              0.7777777777777778,
              "#fb9f3a"
             ],
             [
              0.8888888888888888,
              "#fdca26"
             ],
             [
              1,
              "#f0f921"
             ]
            ],
            "type": "heatmap"
           }
          ],
          "histogram": [
           {
            "marker": {
             "pattern": {
              "fillmode": "overlay",
              "size": 10,
              "solidity": 0.2
             }
            },
            "type": "histogram"
           }
          ],
          "histogram2d": [
           {
            "colorbar": {
             "outlinewidth": 0,
             "ticks": ""
            },
            "colorscale": [
             [
              0,
              "#0d0887"
             ],
             [
              0.1111111111111111,
              "#46039f"
             ],
             [
              0.2222222222222222,
              "#7201a8"
             ],
             [
              0.3333333333333333,
              "#9c179e"
             ],
             [
              0.4444444444444444,
              "#bd3786"
             ],
             [
              0.5555555555555556,
              "#d8576b"
             ],
             [
              0.6666666666666666,
              "#ed7953"
             ],
             [
              0.7777777777777778,
              "#fb9f3a"
             ],
             [
              0.8888888888888888,
              "#fdca26"
             ],
             [
              1,
              "#f0f921"
             ]
            ],
            "type": "histogram2d"
           }
          ],
          "histogram2dcontour": [
           {
            "colorbar": {
             "outlinewidth": 0,
             "ticks": ""
            },
            "colorscale": [
             [
              0,
              "#0d0887"
             ],
             [
              0.1111111111111111,
              "#46039f"
             ],
             [
              0.2222222222222222,
              "#7201a8"
             ],
             [
              0.3333333333333333,
              "#9c179e"
             ],
             [
              0.4444444444444444,
              "#bd3786"
             ],
             [
              0.5555555555555556,
              "#d8576b"
             ],
             [
              0.6666666666666666,
              "#ed7953"
             ],
             [
              0.7777777777777778,
              "#fb9f3a"
             ],
             [
              0.8888888888888888,
              "#fdca26"
             ],
             [
              1,
              "#f0f921"
             ]
            ],
            "type": "histogram2dcontour"
           }
          ],
          "mesh3d": [
           {
            "colorbar": {
             "outlinewidth": 0,
             "ticks": ""
            },
            "type": "mesh3d"
           }
          ],
          "parcoords": [
           {
            "line": {
             "colorbar": {
              "outlinewidth": 0,
              "ticks": ""
             }
            },
            "type": "parcoords"
           }
          ],
          "pie": [
           {
            "automargin": true,
            "type": "pie"
           }
          ],
          "scatter": [
           {
            "fillpattern": {
             "fillmode": "overlay",
             "size": 10,
             "solidity": 0.2
            },
            "type": "scatter"
           }
          ],
          "scatter3d": [
           {
            "line": {
             "colorbar": {
              "outlinewidth": 0,
              "ticks": ""
             }
            },
            "marker": {
             "colorbar": {
              "outlinewidth": 0,
              "ticks": ""
             }
            },
            "type": "scatter3d"
           }
          ],
          "scattercarpet": [
           {
            "marker": {
             "colorbar": {
              "outlinewidth": 0,
              "ticks": ""
             }
            },
            "type": "scattercarpet"
           }
          ],
          "scattergeo": [
           {
            "marker": {
             "colorbar": {
              "outlinewidth": 0,
              "ticks": ""
             }
            },
            "type": "scattergeo"
           }
          ],
          "scattergl": [
           {
            "marker": {
             "colorbar": {
              "outlinewidth": 0,
              "ticks": ""
             }
            },
            "type": "scattergl"
           }
          ],
          "scattermap": [
           {
            "marker": {
             "colorbar": {
              "outlinewidth": 0,
              "ticks": ""
             }
            },
            "type": "scattermap"
           }
          ],
          "scattermapbox": [
           {
            "marker": {
             "colorbar": {
              "outlinewidth": 0,
              "ticks": ""
             }
            },
            "type": "scattermapbox"
           }
          ],
          "scatterpolar": [
           {
            "marker": {
             "colorbar": {
              "outlinewidth": 0,
              "ticks": ""
             }
            },
            "type": "scatterpolar"
           }
          ],
          "scatterpolargl": [
           {
            "marker": {
             "colorbar": {
              "outlinewidth": 0,
              "ticks": ""
             }
            },
            "type": "scatterpolargl"
           }
          ],
          "scatterternary": [
           {
            "marker": {
             "colorbar": {
              "outlinewidth": 0,
              "ticks": ""
             }
            },
            "type": "scatterternary"
           }
          ],
          "surface": [
           {
            "colorbar": {
             "outlinewidth": 0,
             "ticks": ""
            },
            "colorscale": [
             [
              0,
              "#0d0887"
             ],
             [
              0.1111111111111111,
              "#46039f"
             ],
             [
              0.2222222222222222,
              "#7201a8"
             ],
             [
              0.3333333333333333,
              "#9c179e"
             ],
             [
              0.4444444444444444,
              "#bd3786"
             ],
             [
              0.5555555555555556,
              "#d8576b"
             ],
             [
              0.6666666666666666,
              "#ed7953"
             ],
             [
              0.7777777777777778,
              "#fb9f3a"
             ],
             [
              0.8888888888888888,
              "#fdca26"
             ],
             [
              1,
              "#f0f921"
             ]
            ],
            "type": "surface"
           }
          ],
          "table": [
           {
            "cells": {
             "fill": {
              "color": "#EBF0F8"
             },
             "line": {
              "color": "white"
             }
            },
            "header": {
             "fill": {
              "color": "#C8D4E3"
             },
             "line": {
              "color": "white"
             }
            },
            "type": "table"
           }
          ]
         },
         "layout": {
          "annotationdefaults": {
           "arrowcolor": "#2a3f5f",
           "arrowhead": 0,
           "arrowwidth": 1
          },
          "autotypenumbers": "strict",
          "coloraxis": {
           "colorbar": {
            "outlinewidth": 0,
            "ticks": ""
           }
          },
          "colorscale": {
           "diverging": [
            [
             0,
             "#8e0152"
            ],
            [
             0.1,
             "#c51b7d"
            ],
            [
             0.2,
             "#de77ae"
            ],
            [
             0.3,
             "#f1b6da"
            ],
            [
             0.4,
             "#fde0ef"
            ],
            [
             0.5,
             "#f7f7f7"
            ],
            [
             0.6,
             "#e6f5d0"
            ],
            [
             0.7,
             "#b8e186"
            ],
            [
             0.8,
             "#7fbc41"
            ],
            [
             0.9,
             "#4d9221"
            ],
            [
             1,
             "#276419"
            ]
           ],
           "sequential": [
            [
             0,
             "#0d0887"
            ],
            [
             0.1111111111111111,
             "#46039f"
            ],
            [
             0.2222222222222222,
             "#7201a8"
            ],
            [
             0.3333333333333333,
             "#9c179e"
            ],
            [
             0.4444444444444444,
             "#bd3786"
            ],
            [
             0.5555555555555556,
             "#d8576b"
            ],
            [
             0.6666666666666666,
             "#ed7953"
            ],
            [
             0.7777777777777778,
             "#fb9f3a"
            ],
            [
             0.8888888888888888,
             "#fdca26"
            ],
            [
             1,
             "#f0f921"
            ]
           ],
           "sequentialminus": [
            [
             0,
             "#0d0887"
            ],
            [
             0.1111111111111111,
             "#46039f"
            ],
            [
             0.2222222222222222,
             "#7201a8"
            ],
            [
             0.3333333333333333,
             "#9c179e"
            ],
            [
             0.4444444444444444,
             "#bd3786"
            ],
            [
             0.5555555555555556,
             "#d8576b"
            ],
            [
             0.6666666666666666,
             "#ed7953"
            ],
            [
             0.7777777777777778,
             "#fb9f3a"
            ],
            [
             0.8888888888888888,
             "#fdca26"
            ],
            [
             1,
             "#f0f921"
            ]
           ]
          },
          "colorway": [
           "#636efa",
           "#EF553B",
           "#00cc96",
           "#ab63fa",
           "#FFA15A",
           "#19d3f3",
           "#FF6692",
           "#B6E880",
           "#FF97FF",
           "#FECB52"
          ],
          "font": {
           "color": "#2a3f5f"
          },
          "geo": {
           "bgcolor": "white",
           "lakecolor": "white",
           "landcolor": "#E5ECF6",
           "showlakes": true,
           "showland": true,
           "subunitcolor": "white"
          },
          "hoverlabel": {
           "align": "left"
          },
          "hovermode": "closest",
          "mapbox": {
           "style": "light"
          },
          "paper_bgcolor": "white",
          "plot_bgcolor": "#E5ECF6",
          "polar": {
           "angularaxis": {
            "gridcolor": "white",
            "linecolor": "white",
            "ticks": ""
           },
           "bgcolor": "#E5ECF6",
           "radialaxis": {
            "gridcolor": "white",
            "linecolor": "white",
            "ticks": ""
           }
          },
          "scene": {
           "xaxis": {
            "backgroundcolor": "#E5ECF6",
            "gridcolor": "white",
            "gridwidth": 2,
            "linecolor": "white",
            "showbackground": true,
            "ticks": "",
            "zerolinecolor": "white"
           },
           "yaxis": {
            "backgroundcolor": "#E5ECF6",
            "gridcolor": "white",
            "gridwidth": 2,
            "linecolor": "white",
            "showbackground": true,
            "ticks": "",
            "zerolinecolor": "white"
           },
           "zaxis": {
            "backgroundcolor": "#E5ECF6",
            "gridcolor": "white",
            "gridwidth": 2,
            "linecolor": "white",
            "showbackground": true,
            "ticks": "",
            "zerolinecolor": "white"
           }
          },
          "shapedefaults": {
           "line": {
            "color": "#2a3f5f"
           }
          },
          "ternary": {
           "aaxis": {
            "gridcolor": "white",
            "linecolor": "white",
            "ticks": ""
           },
           "baxis": {
            "gridcolor": "white",
            "linecolor": "white",
            "ticks": ""
           },
           "bgcolor": "#E5ECF6",
           "caxis": {
            "gridcolor": "white",
            "linecolor": "white",
            "ticks": ""
           }
          },
          "title": {
           "x": 0.05
          },
          "xaxis": {
           "automargin": true,
           "gridcolor": "white",
           "linecolor": "white",
           "ticks": "",
           "title": {
            "standoff": 15
           },
           "zerolinecolor": "white",
           "zerolinewidth": 2
          },
          "yaxis": {
           "automargin": true,
           "gridcolor": "white",
           "linecolor": "white",
           "ticks": "",
           "title": {
            "standoff": 15
           },
           "zerolinecolor": "white",
           "zerolinewidth": 2
          }
         }
        },
        "title": {
         "font": {
          "color": "#333",
          "size": 16
         },
         "text": "Linear Regression: Student Outcomes - Age Band"
        },
        "width": 900,
        "xaxis": {
         "gridcolor": "#e0e0e0",
         "title": {
          "text": "Age Band (0: 0-35, 1: 35-55, 2: 55+)"
         }
        },
        "yaxis": {
         "gridcolor": "#e0e0e0",
         "range": [
          0,
          0.7502000000000001
         ],
         "title": {
          "text": "Proportion"
         }
        }
       }
      }
     },
     "metadata": {},
     "output_type": "display_data"
    },
    {
     "name": "stdout",
     "output_type": "stream",
     "text": [
      "\n",
      "3. 📈 Disability:\n",
      "   ---------------------------------------------\n",
      "   📊 Regression Statistics:\n",
      "        Withdrawn: R² = 1.000 | Slope = +0.0910 | 💪 Strong 📈 Positive\n",
      "             Fail: R² = 1.000 | Slope = +0.0180 | 💪 Strong 📈 Positive\n",
      "             Pass: R² = 1.000 | Slope = -0.1070 | 💪 Strong 📉 Negative\n",
      "   ✅ Plot created successfully\n"
     ]
    },
    {
     "data": {
      "application/vnd.plotly.v1+json": {
       "config": {
        "plotlyServerURL": "https://plot.ly"
       },
       "data": [
        {
         "hovertemplate": "<b>%{text}</b><br>Disability Status (No=0, Yes=1): %{x}<br>Proportion: %{y:.3f}<br>Result: Withdrawn<extra></extra>",
         "marker": {
          "color": "#1f77b4",
          "opacity": 0.8,
          "size": 12
         },
         "mode": "markers",
         "name": "Withdrawn data",
         "text": [
          "No",
          "Yes"
         ],
         "type": "scatter",
         "x": [
          0,
          1
         ],
         "y": {
          "bdata": "sp3vp8ZLxz9GtvP91HjRPw==",
          "dtype": "f8"
         }
        },
        {
         "hovertemplate": "Withdrawn Trend Line<br>R² = 1.000<br>Slope = 0.0910<extra></extra>",
         "line": {
          "color": "#1f77b4",
          "width": 3
         },
         "mode": "lines",
         "name": "Withdrawn fit (R² = 1.000, slope = 0.0910)",
         "type": "scatter",
         "x": [
          0,
          1
         ],
         "y": {
          "bdata": "sp3vp8ZLxz9GtvP91HjRPw==",
          "dtype": "f8"
         }
        },
        {
         "hovertemplate": "<b>%{text}</b><br>Disability Status (No=0, Yes=1): %{x}<br>Proportion: %{y:.3f}<br>Result: Fail<extra></extra>",
         "marker": {
          "color": "#d62728",
          "opacity": 0.8,
          "size": 12
         },
         "mode": "markers",
         "name": "Fail data",
         "text": [
          "No",
          "Yes"
         ],
         "type": "scatter",
         "x": [
          0,
          1
         ],
         "y": {
          "bdata": "VOOlm8Qg0D9I4XoUrkfRPw==",
          "dtype": "f8"
         }
        },
        {
         "hovertemplate": "Fail Trend Line<br>R² = 1.000<br>Slope = 0.0180<extra></extra>",
         "line": {
          "color": "#d62728",
          "width": 3
         },
         "mode": "lines",
         "name": "Fail fit (R² = 1.000, slope = 0.0180)",
         "type": "scatter",
         "x": [
          0,
          1
         ],
         "y": {
          "bdata": "VOOlm8Qg0D9I4XoUrkfRPw==",
          "dtype": "f8"
         }
        },
        {
         "hovertemplate": "<b>%{text}</b><br>Disability Status (No=0, Yes=1): %{x}<br>Proportion: %{y:.3f}<br>Result: Pass<extra></extra>",
         "marker": {
          "color": "#2ca02c",
          "opacity": 0.8,
          "size": 12
         },
         "mode": "markers",
         "name": "Pass data",
         "text": [
          "No",
          "Yes"
         ],
         "type": "scatter",
         "x": [
          0,
          1
         ],
         "y": {
          "bdata": "FK5H4XoU4j8dWmQ730/dPw==",
          "dtype": "f8"
         }
        },
        {
         "hovertemplate": "Pass Trend Line<br>R² = 1.000<br>Slope = -0.1070<extra></extra>",
         "line": {
          "color": "#2ca02c",
          "width": 3
         },
         "mode": "lines",
         "name": "Pass fit (R² = 1.000, slope = -0.1070)",
         "type": "scatter",
         "x": [
          0,
          1
         ],
         "y": {
          "bdata": "FK5H4XoU4j8eWmQ730/dPw==",
          "dtype": "f8"
         }
        }
       ],
       "layout": {
        "height": 600,
        "legend": {
         "bgcolor": "rgba(255,255,255,0.9)",
         "bordercolor": "#ddd",
         "borderwidth": 1,
         "font": {
          "size": 10
         },
         "x": 0.02,
         "y": 0.98
        },
        "margin": {
         "b": 80,
         "l": 80,
         "r": 50,
         "t": 60
        },
        "paper_bgcolor": "white",
        "plot_bgcolor": "white",
        "template": {
         "data": {
          "bar": [
           {
            "error_x": {
             "color": "#2a3f5f"
            },
            "error_y": {
             "color": "#2a3f5f"
            },
            "marker": {
             "line": {
              "color": "#E5ECF6",
              "width": 0.5
             },
             "pattern": {
              "fillmode": "overlay",
              "size": 10,
              "solidity": 0.2
             }
            },
            "type": "bar"
           }
          ],
          "barpolar": [
           {
            "marker": {
             "line": {
              "color": "#E5ECF6",
              "width": 0.5
             },
             "pattern": {
              "fillmode": "overlay",
              "size": 10,
              "solidity": 0.2
             }
            },
            "type": "barpolar"
           }
          ],
          "carpet": [
           {
            "aaxis": {
             "endlinecolor": "#2a3f5f",
             "gridcolor": "white",
             "linecolor": "white",
             "minorgridcolor": "white",
             "startlinecolor": "#2a3f5f"
            },
            "baxis": {
             "endlinecolor": "#2a3f5f",
             "gridcolor": "white",
             "linecolor": "white",
             "minorgridcolor": "white",
             "startlinecolor": "#2a3f5f"
            },
            "type": "carpet"
           }
          ],
          "choropleth": [
           {
            "colorbar": {
             "outlinewidth": 0,
             "ticks": ""
            },
            "type": "choropleth"
           }
          ],
          "contour": [
           {
            "colorbar": {
             "outlinewidth": 0,
             "ticks": ""
            },
            "colorscale": [
             [
              0,
              "#0d0887"
             ],
             [
              0.1111111111111111,
              "#46039f"
             ],
             [
              0.2222222222222222,
              "#7201a8"
             ],
             [
              0.3333333333333333,
              "#9c179e"
             ],
             [
              0.4444444444444444,
              "#bd3786"
             ],
             [
              0.5555555555555556,
              "#d8576b"
             ],
             [
              0.6666666666666666,
              "#ed7953"
             ],
             [
              0.7777777777777778,
              "#fb9f3a"
             ],
             [
              0.8888888888888888,
              "#fdca26"
             ],
             [
              1,
              "#f0f921"
             ]
            ],
            "type": "contour"
           }
          ],
          "contourcarpet": [
           {
            "colorbar": {
             "outlinewidth": 0,
             "ticks": ""
            },
            "type": "contourcarpet"
           }
          ],
          "heatmap": [
           {
            "colorbar": {
             "outlinewidth": 0,
             "ticks": ""
            },
            "colorscale": [
             [
              0,
              "#0d0887"
             ],
             [
              0.1111111111111111,
              "#46039f"
             ],
             [
              0.2222222222222222,
              "#7201a8"
             ],
             [
              0.3333333333333333,
              "#9c179e"
             ],
             [
              0.4444444444444444,
              "#bd3786"
             ],
             [
              0.5555555555555556,
              "#d8576b"
             ],
             [
              0.6666666666666666,
              "#ed7953"
             ],
             [
              0.7777777777777778,
              "#fb9f3a"
             ],
             [
              0.8888888888888888,
              "#fdca26"
             ],
             [
              1,
              "#f0f921"
             ]
            ],
            "type": "heatmap"
           }
          ],
          "histogram": [
           {
            "marker": {
             "pattern": {
              "fillmode": "overlay",
              "size": 10,
              "solidity": 0.2
             }
            },
            "type": "histogram"
           }
          ],
          "histogram2d": [
           {
            "colorbar": {
             "outlinewidth": 0,
             "ticks": ""
            },
            "colorscale": [
             [
              0,
              "#0d0887"
             ],
             [
              0.1111111111111111,
              "#46039f"
             ],
             [
              0.2222222222222222,
              "#7201a8"
             ],
             [
              0.3333333333333333,
              "#9c179e"
             ],
             [
              0.4444444444444444,
              "#bd3786"
             ],
             [
              0.5555555555555556,
              "#d8576b"
             ],
             [
              0.6666666666666666,
              "#ed7953"
             ],
             [
              0.7777777777777778,
              "#fb9f3a"
             ],
             [
              0.8888888888888888,
              "#fdca26"
             ],
             [
              1,
              "#f0f921"
             ]
            ],
            "type": "histogram2d"
           }
          ],
          "histogram2dcontour": [
           {
            "colorbar": {
             "outlinewidth": 0,
             "ticks": ""
            },
            "colorscale": [
             [
              0,
              "#0d0887"
             ],
             [
              0.1111111111111111,
              "#46039f"
             ],
             [
              0.2222222222222222,
              "#7201a8"
             ],
             [
              0.3333333333333333,
              "#9c179e"
             ],
             [
              0.4444444444444444,
              "#bd3786"
             ],
             [
              0.5555555555555556,
              "#d8576b"
             ],
             [
              0.6666666666666666,
              "#ed7953"
             ],
             [
              0.7777777777777778,
              "#fb9f3a"
             ],
             [
              0.8888888888888888,
              "#fdca26"
             ],
             [
              1,
              "#f0f921"
             ]
            ],
            "type": "histogram2dcontour"
           }
          ],
          "mesh3d": [
           {
            "colorbar": {
             "outlinewidth": 0,
             "ticks": ""
            },
            "type": "mesh3d"
           }
          ],
          "parcoords": [
           {
            "line": {
             "colorbar": {
              "outlinewidth": 0,
              "ticks": ""
             }
            },
            "type": "parcoords"
           }
          ],
          "pie": [
           {
            "automargin": true,
            "type": "pie"
           }
          ],
          "scatter": [
           {
            "fillpattern": {
             "fillmode": "overlay",
             "size": 10,
             "solidity": 0.2
            },
            "type": "scatter"
           }
          ],
          "scatter3d": [
           {
            "line": {
             "colorbar": {
              "outlinewidth": 0,
              "ticks": ""
             }
            },
            "marker": {
             "colorbar": {
              "outlinewidth": 0,
              "ticks": ""
             }
            },
            "type": "scatter3d"
           }
          ],
          "scattercarpet": [
           {
            "marker": {
             "colorbar": {
              "outlinewidth": 0,
              "ticks": ""
             }
            },
            "type": "scattercarpet"
           }
          ],
          "scattergeo": [
           {
            "marker": {
             "colorbar": {
              "outlinewidth": 0,
              "ticks": ""
             }
            },
            "type": "scattergeo"
           }
          ],
          "scattergl": [
           {
            "marker": {
             "colorbar": {
              "outlinewidth": 0,
              "ticks": ""
             }
            },
            "type": "scattergl"
           }
          ],
          "scattermap": [
           {
            "marker": {
             "colorbar": {
              "outlinewidth": 0,
              "ticks": ""
             }
            },
            "type": "scattermap"
           }
          ],
          "scattermapbox": [
           {
            "marker": {
             "colorbar": {
              "outlinewidth": 0,
              "ticks": ""
             }
            },
            "type": "scattermapbox"
           }
          ],
          "scatterpolar": [
           {
            "marker": {
             "colorbar": {
              "outlinewidth": 0,
              "ticks": ""
             }
            },
            "type": "scatterpolar"
           }
          ],
          "scatterpolargl": [
           {
            "marker": {
             "colorbar": {
              "outlinewidth": 0,
              "ticks": ""
             }
            },
            "type": "scatterpolargl"
           }
          ],
          "scatterternary": [
           {
            "marker": {
             "colorbar": {
              "outlinewidth": 0,
              "ticks": ""
             }
            },
            "type": "scatterternary"
           }
          ],
          "surface": [
           {
            "colorbar": {
             "outlinewidth": 0,
             "ticks": ""
            },
            "colorscale": [
             [
              0,
              "#0d0887"
             ],
             [
              0.1111111111111111,
              "#46039f"
             ],
             [
              0.2222222222222222,
              "#7201a8"
             ],
             [
              0.3333333333333333,
              "#9c179e"
             ],
             [
              0.4444444444444444,
              "#bd3786"
             ],
             [
              0.5555555555555556,
              "#d8576b"
             ],
             [
              0.6666666666666666,
              "#ed7953"
             ],
             [
              0.7777777777777778,
              "#fb9f3a"
             ],
             [
              0.8888888888888888,
              "#fdca26"
             ],
             [
              1,
              "#f0f921"
             ]
            ],
            "type": "surface"
           }
          ],
          "table": [
           {
            "cells": {
             "fill": {
              "color": "#EBF0F8"
             },
             "line": {
              "color": "white"
             }
            },
            "header": {
             "fill": {
              "color": "#C8D4E3"
             },
             "line": {
              "color": "white"
             }
            },
            "type": "table"
           }
          ]
         },
         "layout": {
          "annotationdefaults": {
           "arrowcolor": "#2a3f5f",
           "arrowhead": 0,
           "arrowwidth": 1
          },
          "autotypenumbers": "strict",
          "coloraxis": {
           "colorbar": {
            "outlinewidth": 0,
            "ticks": ""
           }
          },
          "colorscale": {
           "diverging": [
            [
             0,
             "#8e0152"
            ],
            [
             0.1,
             "#c51b7d"
            ],
            [
             0.2,
             "#de77ae"
            ],
            [
             0.3,
             "#f1b6da"
            ],
            [
             0.4,
             "#fde0ef"
            ],
            [
             0.5,
             "#f7f7f7"
            ],
            [
             0.6,
             "#e6f5d0"
            ],
            [
             0.7,
             "#b8e186"
            ],
            [
             0.8,
             "#7fbc41"
            ],
            [
             0.9,
             "#4d9221"
            ],
            [
             1,
             "#276419"
            ]
           ],
           "sequential": [
            [
             0,
             "#0d0887"
            ],
            [
             0.1111111111111111,
             "#46039f"
            ],
            [
             0.2222222222222222,
             "#7201a8"
            ],
            [
             0.3333333333333333,
             "#9c179e"
            ],
            [
             0.4444444444444444,
             "#bd3786"
            ],
            [
             0.5555555555555556,
             "#d8576b"
            ],
            [
             0.6666666666666666,
             "#ed7953"
            ],
            [
             0.7777777777777778,
             "#fb9f3a"
            ],
            [
             0.8888888888888888,
             "#fdca26"
            ],
            [
             1,
             "#f0f921"
            ]
           ],
           "sequentialminus": [
            [
             0,
             "#0d0887"
            ],
            [
             0.1111111111111111,
             "#46039f"
            ],
            [
             0.2222222222222222,
             "#7201a8"
            ],
            [
             0.3333333333333333,
             "#9c179e"
            ],
            [
             0.4444444444444444,
             "#bd3786"
            ],
            [
             0.5555555555555556,
             "#d8576b"
            ],
            [
             0.6666666666666666,
             "#ed7953"
            ],
            [
             0.7777777777777778,
             "#fb9f3a"
            ],
            [
             0.8888888888888888,
             "#fdca26"
            ],
            [
             1,
             "#f0f921"
            ]
           ]
          },
          "colorway": [
           "#636efa",
           "#EF553B",
           "#00cc96",
           "#ab63fa",
           "#FFA15A",
           "#19d3f3",
           "#FF6692",
           "#B6E880",
           "#FF97FF",
           "#FECB52"
          ],
          "font": {
           "color": "#2a3f5f"
          },
          "geo": {
           "bgcolor": "white",
           "lakecolor": "white",
           "landcolor": "#E5ECF6",
           "showlakes": true,
           "showland": true,
           "subunitcolor": "white"
          },
          "hoverlabel": {
           "align": "left"
          },
          "hovermode": "closest",
          "mapbox": {
           "style": "light"
          },
          "paper_bgcolor": "white",
          "plot_bgcolor": "#E5ECF6",
          "polar": {
           "angularaxis": {
            "gridcolor": "white",
            "linecolor": "white",
            "ticks": ""
           },
           "bgcolor": "#E5ECF6",
           "radialaxis": {
            "gridcolor": "white",
            "linecolor": "white",
            "ticks": ""
           }
          },
          "scene": {
           "xaxis": {
            "backgroundcolor": "#E5ECF6",
            "gridcolor": "white",
            "gridwidth": 2,
            "linecolor": "white",
            "showbackground": true,
            "ticks": "",
            "zerolinecolor": "white"
           },
           "yaxis": {
            "backgroundcolor": "#E5ECF6",
            "gridcolor": "white",
            "gridwidth": 2,
            "linecolor": "white",
            "showbackground": true,
            "ticks": "",
            "zerolinecolor": "white"
           },
           "zaxis": {
            "backgroundcolor": "#E5ECF6",
            "gridcolor": "white",
            "gridwidth": 2,
            "linecolor": "white",
            "showbackground": true,
            "ticks": "",
            "zerolinecolor": "white"
           }
          },
          "shapedefaults": {
           "line": {
            "color": "#2a3f5f"
           }
          },
          "ternary": {
           "aaxis": {
            "gridcolor": "white",
            "linecolor": "white",
            "ticks": ""
           },
           "baxis": {
            "gridcolor": "white",
            "linecolor": "white",
            "ticks": ""
           },
           "bgcolor": "#E5ECF6",
           "caxis": {
            "gridcolor": "white",
            "linecolor": "white",
            "ticks": ""
           }
          },
          "title": {
           "x": 0.05
          },
          "xaxis": {
           "automargin": true,
           "gridcolor": "white",
           "linecolor": "white",
           "ticks": "",
           "title": {
            "standoff": 15
           },
           "zerolinecolor": "white",
           "zerolinewidth": 2
          },
          "yaxis": {
           "automargin": true,
           "gridcolor": "white",
           "linecolor": "white",
           "ticks": "",
           "title": {
            "standoff": 15
           },
           "zerolinecolor": "white",
           "zerolinewidth": 2
          }
         }
        },
        "title": {
         "font": {
          "color": "#333",
          "size": 16
         },
         "text": "Linear Regression: Student Outcomes - Disability"
        },
        "width": 900,
        "xaxis": {
         "gridcolor": "#e0e0e0",
         "title": {
          "text": "Disability Status (No=0, Yes=1)"
         }
        },
        "yaxis": {
         "gridcolor": "#e0e0e0",
         "range": [
          0,
          0.6214999999999999
         ],
         "title": {
          "text": "Proportion"
         }
        }
       }
      }
     },
     "metadata": {},
     "output_type": "display_data"
    },
    {
     "name": "stdout",
     "output_type": "stream",
     "text": [
      "\n",
      "4. 📈 Highest Education:\n",
      "   ---------------------------------------------\n",
      "   📊 Regression Statistics:\n",
      "        Withdrawn: R² = 0.788 | Slope = -0.0210 | 💪 Strong 📉 Negative\n",
      "             Fail: R² = 0.984 | Slope = -0.0603 | 💪 Strong 📉 Negative\n",
      "             Pass: R² = 0.966 | Slope = +0.0813 | 💪 Strong 📈 Positive\n",
      "   ✅ Plot created successfully\n"
     ]
    },
    {
     "data": {
      "application/vnd.plotly.v1+json": {
       "config": {
        "plotlyServerURL": "https://plot.ly"
       },
       "data": [
        {
         "hovertemplate": "<b>%{text}</b><br>Education Level (0: No Formal → 4: Post Graduate): %{x}<br>Proportion: %{y:.3f}<br>Result: Withdrawn<extra></extra>",
         "marker": {
          "color": "#1f77b4",
          "opacity": 0.8,
          "size": 12
         },
         "mode": "markers",
         "name": "Withdrawn data",
         "text": [
          "No Formal Qualifications",
          "Lower Than A Level",
          "A Level or Equivalent",
          "Higher Education Qualification",
          "Post Graduate Qualification"
         ],
         "type": "scatter",
         "x": [
          0,
          1,
          2,
          3,
          4
         ],
         "y": {
          "bdata": "/Knx0k1i0D8tsp3vp8bLP76fGi/dJMY/vp8aL90kxj++nxov3STGPw==",
          "dtype": "f8"
         }
        },
        {
         "hovertemplate": "Withdrawn Trend Line<br>R² = 0.788<br>Slope = -0.0210<extra></extra>",
         "line": {
          "color": "#1f77b4",
          "width": 3
         },
         "mode": "lines",
         "name": "Withdrawn fit (R² = 0.788, slope = -0.0210)",
         "type": "scatter",
         "x": [
          0,
          1,
          2,
          3,
          4
         ],
         "y": {
          "bdata": "2qz6XG3Fzj/2Bl+YTBXMPxNhw9MrZck/MLsnDwu1xj9MFYxK6gTEPw==",
          "dtype": "f8"
         }
        },
        {
         "hovertemplate": "<b>%{text}</b><br>Education Level (0: No Formal → 4: Post Graduate): %{x}<br>Proportion: %{y:.3f}<br>Result: Fail<extra></extra>",
         "marker": {
          "color": "#d62728",
          "opacity": 0.8,
          "size": 12
         },
         "mode": "markers",
         "name": "Fail data",
         "text": [
          "No Formal Qualifications",
          "Lower Than A Level",
          "A Level or Equivalent",
          "Higher Education Qualification",
          "Post Graduate Qualification"
         ],
         "type": "scatter",
         "x": [
          0,
          1,
          2,
          3,
          4
         ],
         "y": {
          "bdata": "DAIrhxbZ1j9/arx0kxjUPyUGgZVDi8w//tR46SYxyD9oke18PzW+Pw==",
          "dtype": "f8"
         }
        },
        {
         "hovertemplate": "Fail Trend Line<br>R² = 0.984<br>Slope = -0.0603<extra></extra>",
         "line": {
          "color": "#d62728",
          "width": 3
         },
         "mode": "lines",
         "name": "Fail fit (R² = 0.984, slope = -0.0603)",
         "type": "scatter",
         "x": [
          0,
          1,
          2,
          3,
          4
         ],
         "y": {
          "bdata": "LGUZ4lgX1z8IrBxaZDvTP8rlP6Tfvs4/g3NGlPYGxz94ApoIG56+Pw==",
          "dtype": "f8"
         }
        },
        {
         "hovertemplate": "<b>%{text}</b><br>Education Level (0: No Formal → 4: Post Graduate): %{x}<br>Proportion: %{y:.3f}<br>Result: Pass<extra></extra>",
         "marker": {
          "color": "#2ca02c",
          "opacity": 0.8,
          "size": 12
         },
         "mode": "markers",
         "name": "Pass data",
         "text": [
          "No Formal Qualifications",
          "Lower Than A Level",
          "A Level or Equivalent",
          "Higher Education Qualification",
          "Post Graduate Qualification"
         ],
         "type": "scatter",
         "x": [
          0,
          1,
          2,
          3,
          4
         ],
         "y": {
          "bdata": "+FPjpZvE2D9qvHSTGATeP4cW2c73U+M/0SLb+X5q5D/jpZvEILDmPw==",
          "dtype": "f8"
         }
        },
        {
         "hovertemplate": "Pass Trend Line<br>R² = 0.966<br>Slope = 0.0813<extra></extra>",
         "line": {
          "color": "#2ca02c",
          "width": 3
         },
         "mode": "lines",
         "name": "Pass fit (R² = 0.966, slope = 0.0813)",
         "type": "scatter",
         "x": [
          0,
          1,
          2,
          3,
          4
         ],
         "y": {
          "bdata": "aERpb/CF2T990LNZ9bneP0ku/yH99uE/VHQkl/+Q5D9eukkMAivnPw==",
          "dtype": "f8"
         }
        }
       ],
       "layout": {
        "height": 600,
        "legend": {
         "bgcolor": "rgba(255,255,255,0.9)",
         "bordercolor": "#ddd",
         "borderwidth": 1,
         "font": {
          "size": 10
         },
         "x": 0.02,
         "y": 0.98
        },
        "margin": {
         "b": 80,
         "l": 80,
         "r": 50,
         "t": 60
        },
        "paper_bgcolor": "white",
        "plot_bgcolor": "white",
        "template": {
         "data": {
          "bar": [
           {
            "error_x": {
             "color": "#2a3f5f"
            },
            "error_y": {
             "color": "#2a3f5f"
            },
            "marker": {
             "line": {
              "color": "#E5ECF6",
              "width": 0.5
             },
             "pattern": {
              "fillmode": "overlay",
              "size": 10,
              "solidity": 0.2
             }
            },
            "type": "bar"
           }
          ],
          "barpolar": [
           {
            "marker": {
             "line": {
              "color": "#E5ECF6",
              "width": 0.5
             },
             "pattern": {
              "fillmode": "overlay",
              "size": 10,
              "solidity": 0.2
             }
            },
            "type": "barpolar"
           }
          ],
          "carpet": [
           {
            "aaxis": {
             "endlinecolor": "#2a3f5f",
             "gridcolor": "white",
             "linecolor": "white",
             "minorgridcolor": "white",
             "startlinecolor": "#2a3f5f"
            },
            "baxis": {
             "endlinecolor": "#2a3f5f",
             "gridcolor": "white",
             "linecolor": "white",
             "minorgridcolor": "white",
             "startlinecolor": "#2a3f5f"
            },
            "type": "carpet"
           }
          ],
          "choropleth": [
           {
            "colorbar": {
             "outlinewidth": 0,
             "ticks": ""
            },
            "type": "choropleth"
           }
          ],
          "contour": [
           {
            "colorbar": {
             "outlinewidth": 0,
             "ticks": ""
            },
            "colorscale": [
             [
              0,
              "#0d0887"
             ],
             [
              0.1111111111111111,
              "#46039f"
             ],
             [
              0.2222222222222222,
              "#7201a8"
             ],
             [
              0.3333333333333333,
              "#9c179e"
             ],
             [
              0.4444444444444444,
              "#bd3786"
             ],
             [
              0.5555555555555556,
              "#d8576b"
             ],
             [
              0.6666666666666666,
              "#ed7953"
             ],
             [
              0.7777777777777778,
              "#fb9f3a"
             ],
             [
              0.8888888888888888,
              "#fdca26"
             ],
             [
              1,
              "#f0f921"
             ]
            ],
            "type": "contour"
           }
          ],
          "contourcarpet": [
           {
            "colorbar": {
             "outlinewidth": 0,
             "ticks": ""
            },
            "type": "contourcarpet"
           }
          ],
          "heatmap": [
           {
            "colorbar": {
             "outlinewidth": 0,
             "ticks": ""
            },
            "colorscale": [
             [
              0,
              "#0d0887"
             ],
             [
              0.1111111111111111,
              "#46039f"
             ],
             [
              0.2222222222222222,
              "#7201a8"
             ],
             [
              0.3333333333333333,
              "#9c179e"
             ],
             [
              0.4444444444444444,
              "#bd3786"
             ],
             [
              0.5555555555555556,
              "#d8576b"
             ],
             [
              0.6666666666666666,
              "#ed7953"
             ],
             [
              0.7777777777777778,
              "#fb9f3a"
             ],
             [
              0.8888888888888888,
              "#fdca26"
             ],
             [
              1,
              "#f0f921"
             ]
            ],
            "type": "heatmap"
           }
          ],
          "histogram": [
           {
            "marker": {
             "pattern": {
              "fillmode": "overlay",
              "size": 10,
              "solidity": 0.2
             }
            },
            "type": "histogram"
           }
          ],
          "histogram2d": [
           {
            "colorbar": {
             "outlinewidth": 0,
             "ticks": ""
            },
            "colorscale": [
             [
              0,
              "#0d0887"
             ],
             [
              0.1111111111111111,
              "#46039f"
             ],
             [
              0.2222222222222222,
              "#7201a8"
             ],
             [
              0.3333333333333333,
              "#9c179e"
             ],
             [
              0.4444444444444444,
              "#bd3786"
             ],
             [
              0.5555555555555556,
              "#d8576b"
             ],
             [
              0.6666666666666666,
              "#ed7953"
             ],
             [
              0.7777777777777778,
              "#fb9f3a"
             ],
             [
              0.8888888888888888,
              "#fdca26"
             ],
             [
              1,
              "#f0f921"
             ]
            ],
            "type": "histogram2d"
           }
          ],
          "histogram2dcontour": [
           {
            "colorbar": {
             "outlinewidth": 0,
             "ticks": ""
            },
            "colorscale": [
             [
              0,
              "#0d0887"
             ],
             [
              0.1111111111111111,
              "#46039f"
             ],
             [
              0.2222222222222222,
              "#7201a8"
             ],
             [
              0.3333333333333333,
              "#9c179e"
             ],
             [
              0.4444444444444444,
              "#bd3786"
             ],
             [
              0.5555555555555556,
              "#d8576b"
             ],
             [
              0.6666666666666666,
              "#ed7953"
             ],
             [
              0.7777777777777778,
              "#fb9f3a"
             ],
             [
              0.8888888888888888,
              "#fdca26"
             ],
             [
              1,
              "#f0f921"
             ]
            ],
            "type": "histogram2dcontour"
           }
          ],
          "mesh3d": [
           {
            "colorbar": {
             "outlinewidth": 0,
             "ticks": ""
            },
            "type": "mesh3d"
           }
          ],
          "parcoords": [
           {
            "line": {
             "colorbar": {
              "outlinewidth": 0,
              "ticks": ""
             }
            },
            "type": "parcoords"
           }
          ],
          "pie": [
           {
            "automargin": true,
            "type": "pie"
           }
          ],
          "scatter": [
           {
            "fillpattern": {
             "fillmode": "overlay",
             "size": 10,
             "solidity": 0.2
            },
            "type": "scatter"
           }
          ],
          "scatter3d": [
           {
            "line": {
             "colorbar": {
              "outlinewidth": 0,
              "ticks": ""
             }
            },
            "marker": {
             "colorbar": {
              "outlinewidth": 0,
              "ticks": ""
             }
            },
            "type": "scatter3d"
           }
          ],
          "scattercarpet": [
           {
            "marker": {
             "colorbar": {
              "outlinewidth": 0,
              "ticks": ""
             }
            },
            "type": "scattercarpet"
           }
          ],
          "scattergeo": [
           {
            "marker": {
             "colorbar": {
              "outlinewidth": 0,
              "ticks": ""
             }
            },
            "type": "scattergeo"
           }
          ],
          "scattergl": [
           {
            "marker": {
             "colorbar": {
              "outlinewidth": 0,
              "ticks": ""
             }
            },
            "type": "scattergl"
           }
          ],
          "scattermap": [
           {
            "marker": {
             "colorbar": {
              "outlinewidth": 0,
              "ticks": ""
             }
            },
            "type": "scattermap"
           }
          ],
          "scattermapbox": [
           {
            "marker": {
             "colorbar": {
              "outlinewidth": 0,
              "ticks": ""
             }
            },
            "type": "scattermapbox"
           }
          ],
          "scatterpolar": [
           {
            "marker": {
             "colorbar": {
              "outlinewidth": 0,
              "ticks": ""
             }
            },
            "type": "scatterpolar"
           }
          ],
          "scatterpolargl": [
           {
            "marker": {
             "colorbar": {
              "outlinewidth": 0,
              "ticks": ""
             }
            },
            "type": "scatterpolargl"
           }
          ],
          "scatterternary": [
           {
            "marker": {
             "colorbar": {
              "outlinewidth": 0,
              "ticks": ""
             }
            },
            "type": "scatterternary"
           }
          ],
          "surface": [
           {
            "colorbar": {
             "outlinewidth": 0,
             "ticks": ""
            },
            "colorscale": [
             [
              0,
              "#0d0887"
             ],
             [
              0.1111111111111111,
              "#46039f"
             ],
             [
              0.2222222222222222,
              "#7201a8"
             ],
             [
              0.3333333333333333,
              "#9c179e"
             ],
             [
              0.4444444444444444,
              "#bd3786"
             ],
             [
              0.5555555555555556,
              "#d8576b"
             ],
             [
              0.6666666666666666,
              "#ed7953"
             ],
             [
              0.7777777777777778,
              "#fb9f3a"
             ],
             [
              0.8888888888888888,
              "#fdca26"
             ],
             [
              1,
              "#f0f921"
             ]
            ],
            "type": "surface"
           }
          ],
          "table": [
           {
            "cells": {
             "fill": {
              "color": "#EBF0F8"
             },
             "line": {
              "color": "white"
             }
            },
            "header": {
             "fill": {
              "color": "#C8D4E3"
             },
             "line": {
              "color": "white"
             }
            },
            "type": "table"
           }
          ]
         },
         "layout": {
          "annotationdefaults": {
           "arrowcolor": "#2a3f5f",
           "arrowhead": 0,
           "arrowwidth": 1
          },
          "autotypenumbers": "strict",
          "coloraxis": {
           "colorbar": {
            "outlinewidth": 0,
            "ticks": ""
           }
          },
          "colorscale": {
           "diverging": [
            [
             0,
             "#8e0152"
            ],
            [
             0.1,
             "#c51b7d"
            ],
            [
             0.2,
             "#de77ae"
            ],
            [
             0.3,
             "#f1b6da"
            ],
            [
             0.4,
             "#fde0ef"
            ],
            [
             0.5,
             "#f7f7f7"
            ],
            [
             0.6,
             "#e6f5d0"
            ],
            [
             0.7,
             "#b8e186"
            ],
            [
             0.8,
             "#7fbc41"
            ],
            [
             0.9,
             "#4d9221"
            ],
            [
             1,
             "#276419"
            ]
           ],
           "sequential": [
            [
             0,
             "#0d0887"
            ],
            [
             0.1111111111111111,
             "#46039f"
            ],
            [
             0.2222222222222222,
             "#7201a8"
            ],
            [
             0.3333333333333333,
             "#9c179e"
            ],
            [
             0.4444444444444444,
             "#bd3786"
            ],
            [
             0.5555555555555556,
             "#d8576b"
            ],
            [
             0.6666666666666666,
             "#ed7953"
            ],
            [
             0.7777777777777778,
             "#fb9f3a"
            ],
            [
             0.8888888888888888,
             "#fdca26"
            ],
            [
             1,
             "#f0f921"
            ]
           ],
           "sequentialminus": [
            [
             0,
             "#0d0887"
            ],
            [
             0.1111111111111111,
             "#46039f"
            ],
            [
             0.2222222222222222,
             "#7201a8"
            ],
            [
             0.3333333333333333,
             "#9c179e"
            ],
            [
             0.4444444444444444,
             "#bd3786"
            ],
            [
             0.5555555555555556,
             "#d8576b"
            ],
            [
             0.6666666666666666,
             "#ed7953"
            ],
            [
             0.7777777777777778,
             "#fb9f3a"
            ],
            [
             0.8888888888888888,
             "#fdca26"
            ],
            [
             1,
             "#f0f921"
            ]
           ]
          },
          "colorway": [
           "#636efa",
           "#EF553B",
           "#00cc96",
           "#ab63fa",
           "#FFA15A",
           "#19d3f3",
           "#FF6692",
           "#B6E880",
           "#FF97FF",
           "#FECB52"
          ],
          "font": {
           "color": "#2a3f5f"
          },
          "geo": {
           "bgcolor": "white",
           "lakecolor": "white",
           "landcolor": "#E5ECF6",
           "showlakes": true,
           "showland": true,
           "subunitcolor": "white"
          },
          "hoverlabel": {
           "align": "left"
          },
          "hovermode": "closest",
          "mapbox": {
           "style": "light"
          },
          "paper_bgcolor": "white",
          "plot_bgcolor": "#E5ECF6",
          "polar": {
           "angularaxis": {
            "gridcolor": "white",
            "linecolor": "white",
            "ticks": ""
           },
           "bgcolor": "#E5ECF6",
           "radialaxis": {
            "gridcolor": "white",
            "linecolor": "white",
            "ticks": ""
           }
          },
          "scene": {
           "xaxis": {
            "backgroundcolor": "#E5ECF6",
            "gridcolor": "white",
            "gridwidth": 2,
            "linecolor": "white",
            "showbackground": true,
            "ticks": "",
            "zerolinecolor": "white"
           },
           "yaxis": {
            "backgroundcolor": "#E5ECF6",
            "gridcolor": "white",
            "gridwidth": 2,
            "linecolor": "white",
            "showbackground": true,
            "ticks": "",
            "zerolinecolor": "white"
           },
           "zaxis": {
            "backgroundcolor": "#E5ECF6",
            "gridcolor": "white",
            "gridwidth": 2,
            "linecolor": "white",
            "showbackground": true,
            "ticks": "",
            "zerolinecolor": "white"
           }
          },
          "shapedefaults": {
           "line": {
            "color": "#2a3f5f"
           }
          },
          "ternary": {
           "aaxis": {
            "gridcolor": "white",
            "linecolor": "white",
            "ticks": ""
           },
           "baxis": {
            "gridcolor": "white",
            "linecolor": "white",
            "ticks": ""
           },
           "bgcolor": "#E5ECF6",
           "caxis": {
            "gridcolor": "white",
            "linecolor": "white",
            "ticks": ""
           }
          },
          "title": {
           "x": 0.05
          },
          "xaxis": {
           "automargin": true,
           "gridcolor": "white",
           "linecolor": "white",
           "ticks": "",
           "title": {
            "standoff": 15
           },
           "zerolinecolor": "white",
           "zerolinewidth": 2
          },
          "yaxis": {
           "automargin": true,
           "gridcolor": "white",
           "linecolor": "white",
           "ticks": "",
           "title": {
            "standoff": 15
           },
           "zerolinecolor": "white",
           "zerolinewidth": 2
          }
         }
        },
        "title": {
         "font": {
          "color": "#333",
          "size": 16
         },
         "text": "Linear Regression: Student Outcomes - Highest Education"
        },
        "width": 900,
        "xaxis": {
         "gridcolor": "#e0e0e0",
         "title": {
          "text": "Education Level (0: No Formal → 4: Post Graduate)"
         }
        },
        "yaxis": {
         "gridcolor": "#e0e0e0",
         "range": [
          0,
          0.7799
         ],
         "title": {
          "text": "Proportion"
         }
        }
       }
      }
     },
     "metadata": {},
     "output_type": "display_data"
    },
    {
     "name": "stdout",
     "output_type": "stream",
     "text": [
      "\n",
      "5. 📈 Imd Band:\n",
      "   ---------------------------------------------\n",
      "   📊 Regression Statistics:\n",
      "        Withdrawn: R² = 0.819 | Slope = -0.0006 | 💪 Strong 📉 Negative\n",
      "             Fail: R² = 0.909 | Slope = -0.0015 | 💪 Strong 📉 Negative\n",
      "             Pass: R² = 0.948 | Slope = +0.0022 | 💪 Strong 📈 Positive\n",
      "   ✅ Plot created successfully\n"
     ]
    },
    {
     "data": {
      "application/vnd.plotly.v1+json": {
       "config": {
        "plotlyServerURL": "https://plot.ly"
       },
       "data": [
        {
         "hovertemplate": "<b>%{text}</b><br>Income Deprivation Band (% midpoint): %{x}<br>Proportion: %{y:.3f}<br>Result: Withdrawn<extra></extra>",
         "marker": {
          "color": "#1f77b4",
          "opacity": 0.8,
          "size": 12
         },
         "mode": "markers",
         "name": "Withdrawn data",
         "text": [
          "0-10%",
          "10-20%",
          "20-30%",
          "30-40%",
          "40-50%",
          "50-60%",
          "60-70%",
          "70-80%",
          "80-90%",
          "90-100%"
         ],
         "type": "scatter",
         "x": [
          5,
          15,
          25,
          35,
          45,
          55,
          65,
          75,
          85,
          95
         ],
         "y": {
          "bdata": "KVyPwvUozD89CtejcD3KPyGwcmiR7cw/UrgehetRyD/6fmq8dJPIPwrXo3A9Csc//tR46SYxyD8K16NwPQrHP28Sg8DKocU/d76fGi/dxD8=",
          "dtype": "f8"
         }
        },
        {
         "hovertemplate": "Withdrawn Trend Line<br>R² = 0.819<br>Slope = -0.0006<extra></extra>",
         "line": {
          "color": "#1f77b4",
          "width": 3
         },
         "mode": "lines",
         "name": "Withdrawn fit (R² = 0.819, slope = -0.0006)",
         "type": "scatter",
         "x": [
          5,
          15,
          25,
          35,
          45,
          55,
          65,
          75,
          85,
          95
         ],
         "y": {
          "bdata": "57Zwl2cGzD9SCYEk0z3LP71bkbE+dco/J66hPqqsyT+SALLLFeTIP/xSwliBG8g/Z6XS5exSxz/S9+JyWIrGPzxK8//DwcU/p5wDjS/5xD8=",
          "dtype": "f8"
         }
        },
        {
         "hovertemplate": "<b>%{text}</b><br>Income Deprivation Band (% midpoint): %{x}<br>Proportion: %{y:.3f}<br>Result: Fail<extra></extra>",
         "marker": {
          "color": "#d62728",
          "opacity": 0.8,
          "size": 12
         },
         "mode": "markers",
         "name": "Fail data",
         "text": [
          "0-10%",
          "10-20%",
          "20-30%",
          "30-40%",
          "40-50%",
          "50-60%",
          "60-70%",
          "70-80%",
          "80-90%",
          "90-100%"
         ],
         "type": "scatter",
         "x": [
          5,
          15,
          25,
          35,
          45,
          55,
          65,
          75,
          85,
          95
         ],
         "y": {
          "bdata": "wcqhRbbz1T/RItv5fmrUP0Jg5dAi29E/pHA9Ctej0D+oxks3iUHQP1CNl24Sg9A/3SQGgZVDyz9oke18PzXOP+XQItv5fso/qvHSTWIQyD8=",
          "dtype": "f8"
         }
        },
        {
         "hovertemplate": "Fail Trend Line<br>R² = 0.909<br>Slope = -0.0015<extra></extra>",
         "line": {
          "color": "#d62728",
          "width": 3
         },
         "mode": "lines",
         "name": "Fail fit (R² = 0.909, slope = -0.0015)",
         "type": "scatter",
         "x": [
          5,
          15,
          25,
          35,
          45,
          55,
          65,
          75,
          85,
          95
         ],
         "y": {
          "bdata": "/Oce5lTI1D9dDkvRAs3TP740d7yw0dI/Hlujp17W0T9/gc+SDNvQP8BP9/t0v88/gZxP0tDIzT9C6aeoLNLLPwQ2AH+I28k/xYJYVeTkxz8=",
          "dtype": "f8"
         }
        },
        {
         "hovertemplate": "<b>%{text}</b><br>Income Deprivation Band (% midpoint): %{x}<br>Proportion: %{y:.3f}<br>Result: Pass<extra></extra>",
         "marker": {
          "color": "#2ca02c",
          "opacity": 0.8,
          "size": 12
         },
         "mode": "markers",
         "name": "Pass data",
         "text": [
          "0-10%",
          "10-20%",
          "20-30%",
          "30-40%",
          "40-50%",
          "50-60%",
          "60-70%",
          "70-80%",
          "80-90%",
          "90-100%"
         ],
         "type": "scatter",
         "x": [
          5,
          15,
          25,
          35,
          45,
          55,
          65,
          75,
          85,
          95
         ],
         "y": {
          "bdata": "gZVDi2zn2z8QWDm0yHbeP65H4XoUrt8/mpmZmZmZ4T/ufD81XrrhP5ZDi2zn++E/tMh2vp8a4z/jpZvEILDiPyuHFtnO9+M/zczMzMzM5D8=",
          "dtype": "f8"
         }
        },
        {
         "hovertemplate": "Pass Trend Line<br>R² = 0.948<br>Slope = 0.0022<extra></extra>",
         "line": {
          "color": "#2ca02c",
          "width": 3
         },
         "mode": "lines",
         "name": "Pass fit (R² = 0.948, slope = 0.0022)",
         "type": "scatter",
         "x": [
          5,
          15,
          25,
          35,
          45,
          55,
          65,
          75,
          85,
          95
         ],
         "y": {
          "bdata": "kjP1BSAs3T+WhSWhOY3eP5vXVTxT7t8/0BTDa7an4D/TPVs5Q1jhP9Vm8wbQCOI/2I+L1Fy54j/auCOi6WnjP9zhu292GuQ/3wpUPQPL5D8=",
          "dtype": "f8"
         }
        }
       ],
       "layout": {
        "height": 600,
        "legend": {
         "bgcolor": "rgba(255,255,255,0.9)",
         "bordercolor": "#ddd",
         "borderwidth": 1,
         "font": {
          "size": 10
         },
         "x": 0.02,
         "y": 0.98
        },
        "margin": {
         "b": 80,
         "l": 80,
         "r": 50,
         "t": 60
        },
        "paper_bgcolor": "white",
        "plot_bgcolor": "white",
        "template": {
         "data": {
          "bar": [
           {
            "error_x": {
             "color": "#2a3f5f"
            },
            "error_y": {
             "color": "#2a3f5f"
            },
            "marker": {
             "line": {
              "color": "#E5ECF6",
              "width": 0.5
             },
             "pattern": {
              "fillmode": "overlay",
              "size": 10,
              "solidity": 0.2
             }
            },
            "type": "bar"
           }
          ],
          "barpolar": [
           {
            "marker": {
             "line": {
              "color": "#E5ECF6",
              "width": 0.5
             },
             "pattern": {
              "fillmode": "overlay",
              "size": 10,
              "solidity": 0.2
             }
            },
            "type": "barpolar"
           }
          ],
          "carpet": [
           {
            "aaxis": {
             "endlinecolor": "#2a3f5f",
             "gridcolor": "white",
             "linecolor": "white",
             "minorgridcolor": "white",
             "startlinecolor": "#2a3f5f"
            },
            "baxis": {
             "endlinecolor": "#2a3f5f",
             "gridcolor": "white",
             "linecolor": "white",
             "minorgridcolor": "white",
             "startlinecolor": "#2a3f5f"
            },
            "type": "carpet"
           }
          ],
          "choropleth": [
           {
            "colorbar": {
             "outlinewidth": 0,
             "ticks": ""
            },
            "type": "choropleth"
           }
          ],
          "contour": [
           {
            "colorbar": {
             "outlinewidth": 0,
             "ticks": ""
            },
            "colorscale": [
             [
              0,
              "#0d0887"
             ],
             [
              0.1111111111111111,
              "#46039f"
             ],
             [
              0.2222222222222222,
              "#7201a8"
             ],
             [
              0.3333333333333333,
              "#9c179e"
             ],
             [
              0.4444444444444444,
              "#bd3786"
             ],
             [
              0.5555555555555556,
              "#d8576b"
             ],
             [
              0.6666666666666666,
              "#ed7953"
             ],
             [
              0.7777777777777778,
              "#fb9f3a"
             ],
             [
              0.8888888888888888,
              "#fdca26"
             ],
             [
              1,
              "#f0f921"
             ]
            ],
            "type": "contour"
           }
          ],
          "contourcarpet": [
           {
            "colorbar": {
             "outlinewidth": 0,
             "ticks": ""
            },
            "type": "contourcarpet"
           }
          ],
          "heatmap": [
           {
            "colorbar": {
             "outlinewidth": 0,
             "ticks": ""
            },
            "colorscale": [
             [
              0,
              "#0d0887"
             ],
             [
              0.1111111111111111,
              "#46039f"
             ],
             [
              0.2222222222222222,
              "#7201a8"
             ],
             [
              0.3333333333333333,
              "#9c179e"
             ],
             [
              0.4444444444444444,
              "#bd3786"
             ],
             [
              0.5555555555555556,
              "#d8576b"
             ],
             [
              0.6666666666666666,
              "#ed7953"
             ],
             [
              0.7777777777777778,
              "#fb9f3a"
             ],
             [
              0.8888888888888888,
              "#fdca26"
             ],
             [
              1,
              "#f0f921"
             ]
            ],
            "type": "heatmap"
           }
          ],
          "histogram": [
           {
            "marker": {
             "pattern": {
              "fillmode": "overlay",
              "size": 10,
              "solidity": 0.2
             }
            },
            "type": "histogram"
           }
          ],
          "histogram2d": [
           {
            "colorbar": {
             "outlinewidth": 0,
             "ticks": ""
            },
            "colorscale": [
             [
              0,
              "#0d0887"
             ],
             [
              0.1111111111111111,
              "#46039f"
             ],
             [
              0.2222222222222222,
              "#7201a8"
             ],
             [
              0.3333333333333333,
              "#9c179e"
             ],
             [
              0.4444444444444444,
              "#bd3786"
             ],
             [
              0.5555555555555556,
              "#d8576b"
             ],
             [
              0.6666666666666666,
              "#ed7953"
             ],
             [
              0.7777777777777778,
              "#fb9f3a"
             ],
             [
              0.8888888888888888,
              "#fdca26"
             ],
             [
              1,
              "#f0f921"
             ]
            ],
            "type": "histogram2d"
           }
          ],
          "histogram2dcontour": [
           {
            "colorbar": {
             "outlinewidth": 0,
             "ticks": ""
            },
            "colorscale": [
             [
              0,
              "#0d0887"
             ],
             [
              0.1111111111111111,
              "#46039f"
             ],
             [
              0.2222222222222222,
              "#7201a8"
             ],
             [
              0.3333333333333333,
              "#9c179e"
             ],
             [
              0.4444444444444444,
              "#bd3786"
             ],
             [
              0.5555555555555556,
              "#d8576b"
             ],
             [
              0.6666666666666666,
              "#ed7953"
             ],
             [
              0.7777777777777778,
              "#fb9f3a"
             ],
             [
              0.8888888888888888,
              "#fdca26"
             ],
             [
              1,
              "#f0f921"
             ]
            ],
            "type": "histogram2dcontour"
           }
          ],
          "mesh3d": [
           {
            "colorbar": {
             "outlinewidth": 0,
             "ticks": ""
            },
            "type": "mesh3d"
           }
          ],
          "parcoords": [
           {
            "line": {
             "colorbar": {
              "outlinewidth": 0,
              "ticks": ""
             }
            },
            "type": "parcoords"
           }
          ],
          "pie": [
           {
            "automargin": true,
            "type": "pie"
           }
          ],
          "scatter": [
           {
            "fillpattern": {
             "fillmode": "overlay",
             "size": 10,
             "solidity": 0.2
            },
            "type": "scatter"
           }
          ],
          "scatter3d": [
           {
            "line": {
             "colorbar": {
              "outlinewidth": 0,
              "ticks": ""
             }
            },
            "marker": {
             "colorbar": {
              "outlinewidth": 0,
              "ticks": ""
             }
            },
            "type": "scatter3d"
           }
          ],
          "scattercarpet": [
           {
            "marker": {
             "colorbar": {
              "outlinewidth": 0,
              "ticks": ""
             }
            },
            "type": "scattercarpet"
           }
          ],
          "scattergeo": [
           {
            "marker": {
             "colorbar": {
              "outlinewidth": 0,
              "ticks": ""
             }
            },
            "type": "scattergeo"
           }
          ],
          "scattergl": [
           {
            "marker": {
             "colorbar": {
              "outlinewidth": 0,
              "ticks": ""
             }
            },
            "type": "scattergl"
           }
          ],
          "scattermap": [
           {
            "marker": {
             "colorbar": {
              "outlinewidth": 0,
              "ticks": ""
             }
            },
            "type": "scattermap"
           }
          ],
          "scattermapbox": [
           {
            "marker": {
             "colorbar": {
              "outlinewidth": 0,
              "ticks": ""
             }
            },
            "type": "scattermapbox"
           }
          ],
          "scatterpolar": [
           {
            "marker": {
             "colorbar": {
              "outlinewidth": 0,
              "ticks": ""
             }
            },
            "type": "scatterpolar"
           }
          ],
          "scatterpolargl": [
           {
            "marker": {
             "colorbar": {
              "outlinewidth": 0,
              "ticks": ""
             }
            },
            "type": "scatterpolargl"
           }
          ],
          "scatterternary": [
           {
            "marker": {
             "colorbar": {
              "outlinewidth": 0,
              "ticks": ""
             }
            },
            "type": "scatterternary"
           }
          ],
          "surface": [
           {
            "colorbar": {
             "outlinewidth": 0,
             "ticks": ""
            },
            "colorscale": [
             [
              0,
              "#0d0887"
             ],
             [
              0.1111111111111111,
              "#46039f"
             ],
             [
              0.2222222222222222,
              "#7201a8"
             ],
             [
              0.3333333333333333,
              "#9c179e"
             ],
             [
              0.4444444444444444,
              "#bd3786"
             ],
             [
              0.5555555555555556,
              "#d8576b"
             ],
             [
              0.6666666666666666,
              "#ed7953"
             ],
             [
              0.7777777777777778,
              "#fb9f3a"
             ],
             [
              0.8888888888888888,
              "#fdca26"
             ],
             [
              1,
              "#f0f921"
             ]
            ],
            "type": "surface"
           }
          ],
          "table": [
           {
            "cells": {
             "fill": {
              "color": "#EBF0F8"
             },
             "line": {
              "color": "white"
             }
            },
            "header": {
             "fill": {
              "color": "#C8D4E3"
             },
             "line": {
              "color": "white"
             }
            },
            "type": "table"
           }
          ]
         },
         "layout": {
          "annotationdefaults": {
           "arrowcolor": "#2a3f5f",
           "arrowhead": 0,
           "arrowwidth": 1
          },
          "autotypenumbers": "strict",
          "coloraxis": {
           "colorbar": {
            "outlinewidth": 0,
            "ticks": ""
           }
          },
          "colorscale": {
           "diverging": [
            [
             0,
             "#8e0152"
            ],
            [
             0.1,
             "#c51b7d"
            ],
            [
             0.2,
             "#de77ae"
            ],
            [
             0.3,
             "#f1b6da"
            ],
            [
             0.4,
             "#fde0ef"
            ],
            [
             0.5,
             "#f7f7f7"
            ],
            [
             0.6,
             "#e6f5d0"
            ],
            [
             0.7,
             "#b8e186"
            ],
            [
             0.8,
             "#7fbc41"
            ],
            [
             0.9,
             "#4d9221"
            ],
            [
             1,
             "#276419"
            ]
           ],
           "sequential": [
            [
             0,
             "#0d0887"
            ],
            [
             0.1111111111111111,
             "#46039f"
            ],
            [
             0.2222222222222222,
             "#7201a8"
            ],
            [
             0.3333333333333333,
             "#9c179e"
            ],
            [
             0.4444444444444444,
             "#bd3786"
            ],
            [
             0.5555555555555556,
             "#d8576b"
            ],
            [
             0.6666666666666666,
             "#ed7953"
            ],
            [
             0.7777777777777778,
             "#fb9f3a"
            ],
            [
             0.8888888888888888,
             "#fdca26"
            ],
            [
             1,
             "#f0f921"
            ]
           ],
           "sequentialminus": [
            [
             0,
             "#0d0887"
            ],
            [
             0.1111111111111111,
             "#46039f"
            ],
            [
             0.2222222222222222,
             "#7201a8"
            ],
            [
             0.3333333333333333,
             "#9c179e"
            ],
            [
             0.4444444444444444,
             "#bd3786"
            ],
            [
             0.5555555555555556,
             "#d8576b"
            ],
            [
             0.6666666666666666,
             "#ed7953"
            ],
            [
             0.7777777777777778,
             "#fb9f3a"
            ],
            [
             0.8888888888888888,
             "#fdca26"
            ],
            [
             1,
             "#f0f921"
            ]
           ]
          },
          "colorway": [
           "#636efa",
           "#EF553B",
           "#00cc96",
           "#ab63fa",
           "#FFA15A",
           "#19d3f3",
           "#FF6692",
           "#B6E880",
           "#FF97FF",
           "#FECB52"
          ],
          "font": {
           "color": "#2a3f5f"
          },
          "geo": {
           "bgcolor": "white",
           "lakecolor": "white",
           "landcolor": "#E5ECF6",
           "showlakes": true,
           "showland": true,
           "subunitcolor": "white"
          },
          "hoverlabel": {
           "align": "left"
          },
          "hovermode": "closest",
          "mapbox": {
           "style": "light"
          },
          "paper_bgcolor": "white",
          "plot_bgcolor": "#E5ECF6",
          "polar": {
           "angularaxis": {
            "gridcolor": "white",
            "linecolor": "white",
            "ticks": ""
           },
           "bgcolor": "#E5ECF6",
           "radialaxis": {
            "gridcolor": "white",
            "linecolor": "white",
            "ticks": ""
           }
          },
          "scene": {
           "xaxis": {
            "backgroundcolor": "#E5ECF6",
            "gridcolor": "white",
            "gridwidth": 2,
            "linecolor": "white",
            "showbackground": true,
            "ticks": "",
            "zerolinecolor": "white"
           },
           "yaxis": {
            "backgroundcolor": "#E5ECF6",
            "gridcolor": "white",
            "gridwidth": 2,
            "linecolor": "white",
            "showbackground": true,
            "ticks": "",
            "zerolinecolor": "white"
           },
           "zaxis": {
            "backgroundcolor": "#E5ECF6",
            "gridcolor": "white",
            "gridwidth": 2,
            "linecolor": "white",
            "showbackground": true,
            "ticks": "",
            "zerolinecolor": "white"
           }
          },
          "shapedefaults": {
           "line": {
            "color": "#2a3f5f"
           }
          },
          "ternary": {
           "aaxis": {
            "gridcolor": "white",
            "linecolor": "white",
            "ticks": ""
           },
           "baxis": {
            "gridcolor": "white",
            "linecolor": "white",
            "ticks": ""
           },
           "bgcolor": "#E5ECF6",
           "caxis": {
            "gridcolor": "white",
            "linecolor": "white",
            "ticks": ""
           }
          },
          "title": {
           "x": 0.05
          },
          "xaxis": {
           "automargin": true,
           "gridcolor": "white",
           "linecolor": "white",
           "ticks": "",
           "title": {
            "standoff": 15
           },
           "zerolinecolor": "white",
           "zerolinewidth": 2
          },
          "yaxis": {
           "automargin": true,
           "gridcolor": "white",
           "linecolor": "white",
           "ticks": "",
           "title": {
            "standoff": 15
           },
           "zerolinecolor": "white",
           "zerolinewidth": 2
          }
         }
        },
        "title": {
         "font": {
          "color": "#333",
          "size": 16
         },
         "text": "Linear Regression: Student Outcomes - Imd Band"
        },
        "width": 900,
        "xaxis": {
         "gridcolor": "#e0e0e0",
         "title": {
          "text": "Income Deprivation Band (% midpoint)"
         }
        },
        "yaxis": {
         "gridcolor": "#e0e0e0",
         "range": [
          0,
          0.7150000000000001
         ],
         "title": {
          "text": "Proportion"
         }
        }
       }
      }
     },
     "metadata": {},
     "output_type": "display_data"
    },
    {
     "name": "stdout",
     "output_type": "stream",
     "text": [
      "\n",
      "6. 📈 Region:\n",
      "   ---------------------------------------------\n",
      "   📊 Regression Statistics:\n",
      "        Withdrawn: R² = 0.010 | Slope = +0.0003 | ⚪ Very Weak 📈 Positive\n",
      "             Fail: R² = 0.036 | Slope = +0.0018 | ⚪ Very Weak 📈 Positive\n",
      "             Pass: R² = 0.040 | Slope = -0.0021 | ⚪ Very Weak 📉 Negative\n",
      "   ✅ Plot created successfully\n"
     ]
    },
    {
     "data": {
      "application/vnd.plotly.v1+json": {
       "config": {
        "plotlyServerURL": "https://plot.ly"
       },
       "data": [
        {
         "hovertemplate": "<b>%{text}</b><br>Region (Alphabetical Order): %{x}<br>Proportion: %{y:.3f}<br>Result: Withdrawn<extra></extra>",
         "marker": {
          "color": "#1f77b4",
          "opacity": 0.8,
          "size": 12
         },
         "mode": "markers",
         "name": "Withdrawn data",
         "text": [
          "East Anglian Region",
          "East Midlands Region",
          "Ireland",
          "London Region",
          "North Region",
          "North Western Region",
          "Scotland",
          "South East Region",
          "South Region",
          "South West Region",
          "Wales",
          "West Midlands Region",
          "Yorkshire Region"
         ],
         "type": "scatter",
         "x": [
          0,
          1,
          2,
          3,
          4,
          5,
          6,
          7,
          8,
          9,
          10,
          11,
          12
         ],
         "y": {
          "bdata": "ZmZmZmZmxj/pJjEIrBzKP65H4XoUrsc/TmIQWDm0yD+iRbbz/dTIPz0K16NwPco/nu+nxks3yT8OLbKd76fGPwrXo3A9Csc//tR46SYxyD8GgZVDi2zHP42XbhKDwMo/+n5qvHSTyD8=",
          "dtype": "f8"
         }
        },
        {
         "hovertemplate": "Withdrawn Trend Line<br>R² = 0.010<br>Slope = 0.0003<extra></extra>",
         "line": {
          "color": "#1f77b4",
          "width": 3
         },
         "mode": "lines",
         "name": "Withdrawn fit (R² = 0.010, slope = 0.0003)",
         "type": "scatter",
         "x": [
          0,
          1,
          2,
          3,
          4,
          5,
          6,
          7,
          8,
          9,
          10,
          11,
          12
         ],
         "y": {
          "bdata": "941kNJg7yD+U5cnbxkTIPzE9L4P1Tcg/z5SUKiRXyD9s7PnRUmDIPwlEX3mBacg/ppvEILByyD9D8ynI3nvIP+BKj28Nhcg/fqL0FjyOyD8b+lm+apfIP7hRv2WZoMg/VakkDcipyD8=",
          "dtype": "f8"
         }
        },
        {
         "hovertemplate": "<b>%{text}</b><br>Region (Alphabetical Order): %{x}<br>Proportion: %{y:.3f}<br>Result: Fail<extra></extra>",
         "marker": {
          "color": "#d62728",
          "opacity": 0.8,
          "size": 12
         },
         "mode": "markers",
         "name": "Fail data",
         "text": [
          "East Anglian Region",
          "East Midlands Region",
          "Ireland",
          "London Region",
          "North Region",
          "North Western Region",
          "Scotland",
          "South East Region",
          "South Region",
          "South West Region",
          "Wales",
          "West Midlands Region",
          "Yorkshire Region"
         ],
         "type": "scatter",
         "x": [
          0,
          1,
          2,
          3,
          4,
          5,
          6,
          7,
          8,
          9,
          10,
          11,
          12
         ],
         "y": {
          "bdata": "BFYOLbKdzz8QWDm0yHbOP23n+6nx0s0/PQrXo3A90j81XrpJDALLP4lBYOXQItM/SOF6FK5H0T81XrpJDALLP5HtfD81Xso/eekmMQiszD8j2/l+arzUP05iEFg5tNA/9P3UeOkm0T8=",
          "dtype": "f8"
         }
        },
        {
         "hovertemplate": "Fail Trend Line<br>R² = 0.036<br>Slope = 0.0018<extra></extra>",
         "line": {
          "color": "#d62728",
          "width": 3
         },
         "mode": "lines",
         "name": "Fail fit (R² = 0.036, slope = 0.0018)",
         "type": "scatter",
         "x": [
          0,
          1,
          2,
          3,
          4,
          5,
          6,
          7,
          8,
          9,
          10,
          11,
          12
         ],
         "y": {
          "bdata": "vX0jGQ3mzj9YqgGqYiDPP/PW3zq4Ws8/jgO+yw2Vzz8qMJxcY8/PP2IuvXbcBNA/sEQsPwci0D/+WpsHMj/QP0txCtBcXNA/mYd5mId50D/mnehgspbQPzS0Vynds9A/gsrG8QfR0D8=",
          "dtype": "f8"
         }
        },
        {
         "hovertemplate": "<b>%{text}</b><br>Region (Alphabetical Order): %{x}<br>Proportion: %{y:.3f}<br>Result: Pass<extra></extra>",
         "marker": {
          "color": "#2ca02c",
          "opacity": 0.8,
          "size": 12
         },
         "mode": "markers",
         "name": "Pass data",
         "text": [
          "East Anglian Region",
          "East Midlands Region",
          "Ireland",
          "London Region",
          "North Region",
          "North Western Region",
          "Scotland",
          "South East Region",
          "South Region",
          "South West Region",
          "Wales",
          "West Midlands Region",
          "Yorkshire Region"
         ],
         "type": "scatter",
         "x": [
          0,
          1,
          2,
          3,
          4,
          5,
          6,
          7,
          8,
          9,
          10,
          11,
          12
         ],
         "y": {
          "bdata": "ukkMAiuH4j9CYOXQItvhP2Q730+Nl+I/I9v5fmq84D8K16NwPQrjP1g5tMh2vt8/SgwCK4cW4T8v3SQGgZXjP9nO91PjpeM/YhBYObTI4j+wcmiR7XzfP/YoXI/C9eA/SOF6FK5H4T8=",
          "dtype": "f8"
         }
        },
        {
         "hovertemplate": "Pass Trend Line<br>R² = 0.040<br>Slope = -0.0021<extra></extra>",
         "line": {
          "color": "#2ca02c",
          "width": 3
         },
         "mode": "lines",
         "name": "Pass fit (R² = 0.040, slope = -0.0021)",
         "type": "scatter",
         "x": [
          0,
          1,
          2,
          3,
          4,
          5,
          6,
          7,
          8,
          9,
          10,
          11,
          12
         ],
         "y": {
          "bdata": "8cS/OaY64j8FIB93XSniPxp7frQUGOI/Ltbd8csG4j9DMT0vg/XhP1eMnGw65OE/bOf7qfHS4T+AQlvnqMHhP5SduiRgsOE/qfgZYhef4T+9U3mfzo3hP9Ku2NyFfOE/5gk4Gj1r4T8=",
          "dtype": "f8"
         }
        }
       ],
       "layout": {
        "height": 600,
        "legend": {
         "bgcolor": "rgba(255,255,255,0.9)",
         "bordercolor": "#ddd",
         "borderwidth": 1,
         "font": {
          "size": 10
         },
         "x": 0.02,
         "y": 0.98
        },
        "margin": {
         "b": 80,
         "l": 80,
         "r": 50,
         "t": 60
        },
        "paper_bgcolor": "white",
        "plot_bgcolor": "white",
        "template": {
         "data": {
          "bar": [
           {
            "error_x": {
             "color": "#2a3f5f"
            },
            "error_y": {
             "color": "#2a3f5f"
            },
            "marker": {
             "line": {
              "color": "#E5ECF6",
              "width": 0.5
             },
             "pattern": {
              "fillmode": "overlay",
              "size": 10,
              "solidity": 0.2
             }
            },
            "type": "bar"
           }
          ],
          "barpolar": [
           {
            "marker": {
             "line": {
              "color": "#E5ECF6",
              "width": 0.5
             },
             "pattern": {
              "fillmode": "overlay",
              "size": 10,
              "solidity": 0.2
             }
            },
            "type": "barpolar"
           }
          ],
          "carpet": [
           {
            "aaxis": {
             "endlinecolor": "#2a3f5f",
             "gridcolor": "white",
             "linecolor": "white",
             "minorgridcolor": "white",
             "startlinecolor": "#2a3f5f"
            },
            "baxis": {
             "endlinecolor": "#2a3f5f",
             "gridcolor": "white",
             "linecolor": "white",
             "minorgridcolor": "white",
             "startlinecolor": "#2a3f5f"
            },
            "type": "carpet"
           }
          ],
          "choropleth": [
           {
            "colorbar": {
             "outlinewidth": 0,
             "ticks": ""
            },
            "type": "choropleth"
           }
          ],
          "contour": [
           {
            "colorbar": {
             "outlinewidth": 0,
             "ticks": ""
            },
            "colorscale": [
             [
              0,
              "#0d0887"
             ],
             [
              0.1111111111111111,
              "#46039f"
             ],
             [
              0.2222222222222222,
              "#7201a8"
             ],
             [
              0.3333333333333333,
              "#9c179e"
             ],
             [
              0.4444444444444444,
              "#bd3786"
             ],
             [
              0.5555555555555556,
              "#d8576b"
             ],
             [
              0.6666666666666666,
              "#ed7953"
             ],
             [
              0.7777777777777778,
              "#fb9f3a"
             ],
             [
              0.8888888888888888,
              "#fdca26"
             ],
             [
              1,
              "#f0f921"
             ]
            ],
            "type": "contour"
           }
          ],
          "contourcarpet": [
           {
            "colorbar": {
             "outlinewidth": 0,
             "ticks": ""
            },
            "type": "contourcarpet"
           }
          ],
          "heatmap": [
           {
            "colorbar": {
             "outlinewidth": 0,
             "ticks": ""
            },
            "colorscale": [
             [
              0,
              "#0d0887"
             ],
             [
              0.1111111111111111,
              "#46039f"
             ],
             [
              0.2222222222222222,
              "#7201a8"
             ],
             [
              0.3333333333333333,
              "#9c179e"
             ],
             [
              0.4444444444444444,
              "#bd3786"
             ],
             [
              0.5555555555555556,
              "#d8576b"
             ],
             [
              0.6666666666666666,
              "#ed7953"
             ],
             [
              0.7777777777777778,
              "#fb9f3a"
             ],
             [
              0.8888888888888888,
              "#fdca26"
             ],
             [
              1,
              "#f0f921"
             ]
            ],
            "type": "heatmap"
           }
          ],
          "histogram": [
           {
            "marker": {
             "pattern": {
              "fillmode": "overlay",
              "size": 10,
              "solidity": 0.2
             }
            },
            "type": "histogram"
           }
          ],
          "histogram2d": [
           {
            "colorbar": {
             "outlinewidth": 0,
             "ticks": ""
            },
            "colorscale": [
             [
              0,
              "#0d0887"
             ],
             [
              0.1111111111111111,
              "#46039f"
             ],
             [
              0.2222222222222222,
              "#7201a8"
             ],
             [
              0.3333333333333333,
              "#9c179e"
             ],
             [
              0.4444444444444444,
              "#bd3786"
             ],
             [
              0.5555555555555556,
              "#d8576b"
             ],
             [
              0.6666666666666666,
              "#ed7953"
             ],
             [
              0.7777777777777778,
              "#fb9f3a"
             ],
             [
              0.8888888888888888,
              "#fdca26"
             ],
             [
              1,
              "#f0f921"
             ]
            ],
            "type": "histogram2d"
           }
          ],
          "histogram2dcontour": [
           {
            "colorbar": {
             "outlinewidth": 0,
             "ticks": ""
            },
            "colorscale": [
             [
              0,
              "#0d0887"
             ],
             [
              0.1111111111111111,
              "#46039f"
             ],
             [
              0.2222222222222222,
              "#7201a8"
             ],
             [
              0.3333333333333333,
              "#9c179e"
             ],
             [
              0.4444444444444444,
              "#bd3786"
             ],
             [
              0.5555555555555556,
              "#d8576b"
             ],
             [
              0.6666666666666666,
              "#ed7953"
             ],
             [
              0.7777777777777778,
              "#fb9f3a"
             ],
             [
              0.8888888888888888,
              "#fdca26"
             ],
             [
              1,
              "#f0f921"
             ]
            ],
            "type": "histogram2dcontour"
           }
          ],
          "mesh3d": [
           {
            "colorbar": {
             "outlinewidth": 0,
             "ticks": ""
            },
            "type": "mesh3d"
           }
          ],
          "parcoords": [
           {
            "line": {
             "colorbar": {
              "outlinewidth": 0,
              "ticks": ""
             }
            },
            "type": "parcoords"
           }
          ],
          "pie": [
           {
            "automargin": true,
            "type": "pie"
           }
          ],
          "scatter": [
           {
            "fillpattern": {
             "fillmode": "overlay",
             "size": 10,
             "solidity": 0.2
            },
            "type": "scatter"
           }
          ],
          "scatter3d": [
           {
            "line": {
             "colorbar": {
              "outlinewidth": 0,
              "ticks": ""
             }
            },
            "marker": {
             "colorbar": {
              "outlinewidth": 0,
              "ticks": ""
             }
            },
            "type": "scatter3d"
           }
          ],
          "scattercarpet": [
           {
            "marker": {
             "colorbar": {
              "outlinewidth": 0,
              "ticks": ""
             }
            },
            "type": "scattercarpet"
           }
          ],
          "scattergeo": [
           {
            "marker": {
             "colorbar": {
              "outlinewidth": 0,
              "ticks": ""
             }
            },
            "type": "scattergeo"
           }
          ],
          "scattergl": [
           {
            "marker": {
             "colorbar": {
              "outlinewidth": 0,
              "ticks": ""
             }
            },
            "type": "scattergl"
           }
          ],
          "scattermap": [
           {
            "marker": {
             "colorbar": {
              "outlinewidth": 0,
              "ticks": ""
             }
            },
            "type": "scattermap"
           }
          ],
          "scattermapbox": [
           {
            "marker": {
             "colorbar": {
              "outlinewidth": 0,
              "ticks": ""
             }
            },
            "type": "scattermapbox"
           }
          ],
          "scatterpolar": [
           {
            "marker": {
             "colorbar": {
              "outlinewidth": 0,
              "ticks": ""
             }
            },
            "type": "scatterpolar"
           }
          ],
          "scatterpolargl": [
           {
            "marker": {
             "colorbar": {
              "outlinewidth": 0,
              "ticks": ""
             }
            },
            "type": "scatterpolargl"
           }
          ],
          "scatterternary": [
           {
            "marker": {
             "colorbar": {
              "outlinewidth": 0,
              "ticks": ""
             }
            },
            "type": "scatterternary"
           }
          ],
          "surface": [
           {
            "colorbar": {
             "outlinewidth": 0,
             "ticks": ""
            },
            "colorscale": [
             [
              0,
              "#0d0887"
             ],
             [
              0.1111111111111111,
              "#46039f"
             ],
             [
              0.2222222222222222,
              "#7201a8"
             ],
             [
              0.3333333333333333,
              "#9c179e"
             ],
             [
              0.4444444444444444,
              "#bd3786"
             ],
             [
              0.5555555555555556,
              "#d8576b"
             ],
             [
              0.6666666666666666,
              "#ed7953"
             ],
             [
              0.7777777777777778,
              "#fb9f3a"
             ],
             [
              0.8888888888888888,
              "#fdca26"
             ],
             [
              1,
              "#f0f921"
             ]
            ],
            "type": "surface"
           }
          ],
          "table": [
           {
            "cells": {
             "fill": {
              "color": "#EBF0F8"
             },
             "line": {
              "color": "white"
             }
            },
            "header": {
             "fill": {
              "color": "#C8D4E3"
             },
             "line": {
              "color": "white"
             }
            },
            "type": "table"
           }
          ]
         },
         "layout": {
          "annotationdefaults": {
           "arrowcolor": "#2a3f5f",
           "arrowhead": 0,
           "arrowwidth": 1
          },
          "autotypenumbers": "strict",
          "coloraxis": {
           "colorbar": {
            "outlinewidth": 0,
            "ticks": ""
           }
          },
          "colorscale": {
           "diverging": [
            [
             0,
             "#8e0152"
            ],
            [
             0.1,
             "#c51b7d"
            ],
            [
             0.2,
             "#de77ae"
            ],
            [
             0.3,
             "#f1b6da"
            ],
            [
             0.4,
             "#fde0ef"
            ],
            [
             0.5,
             "#f7f7f7"
            ],
            [
             0.6,
             "#e6f5d0"
            ],
            [
             0.7,
             "#b8e186"
            ],
            [
             0.8,
             "#7fbc41"
            ],
            [
             0.9,
             "#4d9221"
            ],
            [
             1,
             "#276419"
            ]
           ],
           "sequential": [
            [
             0,
             "#0d0887"
            ],
            [
             0.1111111111111111,
             "#46039f"
            ],
            [
             0.2222222222222222,
             "#7201a8"
            ],
            [
             0.3333333333333333,
             "#9c179e"
            ],
            [
             0.4444444444444444,
             "#bd3786"
            ],
            [
             0.5555555555555556,
             "#d8576b"
            ],
            [
             0.6666666666666666,
             "#ed7953"
            ],
            [
             0.7777777777777778,
             "#fb9f3a"
            ],
            [
             0.8888888888888888,
             "#fdca26"
            ],
            [
             1,
             "#f0f921"
            ]
           ],
           "sequentialminus": [
            [
             0,
             "#0d0887"
            ],
            [
             0.1111111111111111,
             "#46039f"
            ],
            [
             0.2222222222222222,
             "#7201a8"
            ],
            [
             0.3333333333333333,
             "#9c179e"
            ],
            [
             0.4444444444444444,
             "#bd3786"
            ],
            [
             0.5555555555555556,
             "#d8576b"
            ],
            [
             0.6666666666666666,
             "#ed7953"
            ],
            [
             0.7777777777777778,
             "#fb9f3a"
            ],
            [
             0.8888888888888888,
             "#fdca26"
            ],
            [
             1,
             "#f0f921"
            ]
           ]
          },
          "colorway": [
           "#636efa",
           "#EF553B",
           "#00cc96",
           "#ab63fa",
           "#FFA15A",
           "#19d3f3",
           "#FF6692",
           "#B6E880",
           "#FF97FF",
           "#FECB52"
          ],
          "font": {
           "color": "#2a3f5f"
          },
          "geo": {
           "bgcolor": "white",
           "lakecolor": "white",
           "landcolor": "#E5ECF6",
           "showlakes": true,
           "showland": true,
           "subunitcolor": "white"
          },
          "hoverlabel": {
           "align": "left"
          },
          "hovermode": "closest",
          "mapbox": {
           "style": "light"
          },
          "paper_bgcolor": "white",
          "plot_bgcolor": "#E5ECF6",
          "polar": {
           "angularaxis": {
            "gridcolor": "white",
            "linecolor": "white",
            "ticks": ""
           },
           "bgcolor": "#E5ECF6",
           "radialaxis": {
            "gridcolor": "white",
            "linecolor": "white",
            "ticks": ""
           }
          },
          "scene": {
           "xaxis": {
            "backgroundcolor": "#E5ECF6",
            "gridcolor": "white",
            "gridwidth": 2,
            "linecolor": "white",
            "showbackground": true,
            "ticks": "",
            "zerolinecolor": "white"
           },
           "yaxis": {
            "backgroundcolor": "#E5ECF6",
            "gridcolor": "white",
            "gridwidth": 2,
            "linecolor": "white",
            "showbackground": true,
            "ticks": "",
            "zerolinecolor": "white"
           },
           "zaxis": {
            "backgroundcolor": "#E5ECF6",
            "gridcolor": "white",
            "gridwidth": 2,
            "linecolor": "white",
            "showbackground": true,
            "ticks": "",
            "zerolinecolor": "white"
           }
          },
          "shapedefaults": {
           "line": {
            "color": "#2a3f5f"
           }
          },
          "ternary": {
           "aaxis": {
            "gridcolor": "white",
            "linecolor": "white",
            "ticks": ""
           },
           "baxis": {
            "gridcolor": "white",
            "linecolor": "white",
            "ticks": ""
           },
           "bgcolor": "#E5ECF6",
           "caxis": {
            "gridcolor": "white",
            "linecolor": "white",
            "ticks": ""
           }
          },
          "title": {
           "x": 0.05
          },
          "xaxis": {
           "automargin": true,
           "gridcolor": "white",
           "linecolor": "white",
           "ticks": "",
           "title": {
            "standoff": 15
           },
           "zerolinecolor": "white",
           "zerolinewidth": 2
          },
          "yaxis": {
           "automargin": true,
           "gridcolor": "white",
           "linecolor": "white",
           "ticks": "",
           "title": {
            "standoff": 15
           },
           "zerolinecolor": "white",
           "zerolinewidth": 2
          }
         }
        },
        "title": {
         "font": {
          "color": "#333",
          "size": 16
         },
         "text": "Linear Regression: Student Outcomes - Region"
        },
        "width": 900,
        "xaxis": {
         "gridcolor": "#e0e0e0",
         "title": {
          "text": "Region (Alphabetical Order)"
         }
        },
        "yaxis": {
         "gridcolor": "#e0e0e0",
         "range": [
          0,
          0.6754
         ],
         "title": {
          "text": "Proportion"
         }
        }
       }
      }
     },
     "metadata": {},
     "output_type": "display_data"
    },
    {
     "name": "stdout",
     "output_type": "stream",
     "text": [
      "\n",
      "📋 COMPREHENSIVE ANALYSIS SUMMARY:\n",
      "============================================================\n",
      "📊 Overall Statistics:\n",
      "   • Total relationships analyzed: 18\n",
      "   • Average R²: 0.805\n",
      "   • Strongest relationship: R² = 1.000\n",
      "   • Strong relationships (R² > 0.5): 15\n",
      "\n",
      "🏆 Best Predictors by Variable:\n",
      "   • Age Band        → Withdrawn : R² = 1.000\n",
      "   • Disability      → Withdrawn : R² = 1.000\n",
      "   • Gender          → Withdrawn : R² = 1.000\n",
      "   • Highest Education → Fail      : R² = 0.984\n",
      "   • Imd Band        → Pass      : R² = 0.948\n",
      "   • Region          → Pass      : R² = 0.040\n",
      "\n",
      "🎯 Top 5 Strongest Relationships:\n",
      "   1. 📈 Gender → Withdrawn: R² = 1.000\n",
      "   2. 📈 Gender → Fail: R² = 1.000\n",
      "   3. 📉 Gender → Pass: R² = 1.000\n",
      "   4. 📉 Age Band → Withdrawn: R² = 1.000\n",
      "   5. 📈 Disability → Withdrawn: R² = 1.000\n",
      "\n",
      "📈 Trend Analysis:\n",
      "   • Positive trends: 9 (50.0%)\n",
      "   • Negative trends: 9 (50.0%)\n",
      "\n",
      "📋 Complete Results Table:\n",
      "--------------------------------------------------\n"
     ]
    },
    {
     "data": {
      "text/html": [
       "<div>\n",
       "<style scoped>\n",
       "    .dataframe tbody tr th:only-of-type {\n",
       "        vertical-align: middle;\n",
       "    }\n",
       "\n",
       "    .dataframe tbody tr th {\n",
       "        vertical-align: top;\n",
       "    }\n",
       "\n",
       "    .dataframe thead th {\n",
       "        text-align: right;\n",
       "    }\n",
       "</style>\n",
       "<table border=\"1\" class=\"dataframe\">\n",
       "  <thead>\n",
       "    <tr style=\"text-align: right;\">\n",
       "      <th></th>\n",
       "      <th>Variable</th>\n",
       "      <th>Outcome</th>\n",
       "      <th>R_Squared</th>\n",
       "      <th>Slope</th>\n",
       "      <th>Strength</th>\n",
       "      <th>Trend</th>\n",
       "    </tr>\n",
       "  </thead>\n",
       "  <tbody>\n",
       "    <tr>\n",
       "      <th>0</th>\n",
       "      <td>Gender</td>\n",
       "      <td>Withdrawn</td>\n",
       "      <td>1.0000</td>\n",
       "      <td>0.0200</td>\n",
       "      <td>Strong</td>\n",
       "      <td>Positive</td>\n",
       "    </tr>\n",
       "    <tr>\n",
       "      <th>2</th>\n",
       "      <td>Gender</td>\n",
       "      <td>Pass</td>\n",
       "      <td>1.0000</td>\n",
       "      <td>-0.0300</td>\n",
       "      <td>Strong</td>\n",
       "      <td>Negative</td>\n",
       "    </tr>\n",
       "    <tr>\n",
       "      <th>3</th>\n",
       "      <td>Age Band</td>\n",
       "      <td>Withdrawn</td>\n",
       "      <td>1.0000</td>\n",
       "      <td>-0.0130</td>\n",
       "      <td>Strong</td>\n",
       "      <td>Negative</td>\n",
       "    </tr>\n",
       "    <tr>\n",
       "      <th>6</th>\n",
       "      <td>Disability</td>\n",
       "      <td>Withdrawn</td>\n",
       "      <td>1.0000</td>\n",
       "      <td>0.0910</td>\n",
       "      <td>Strong</td>\n",
       "      <td>Positive</td>\n",
       "    </tr>\n",
       "    <tr>\n",
       "      <th>7</th>\n",
       "      <td>Disability</td>\n",
       "      <td>Fail</td>\n",
       "      <td>1.0000</td>\n",
       "      <td>0.0180</td>\n",
       "      <td>Strong</td>\n",
       "      <td>Positive</td>\n",
       "    </tr>\n",
       "    <tr>\n",
       "      <th>8</th>\n",
       "      <td>Disability</td>\n",
       "      <td>Pass</td>\n",
       "      <td>1.0000</td>\n",
       "      <td>-0.1070</td>\n",
       "      <td>Strong</td>\n",
       "      <td>Negative</td>\n",
       "    </tr>\n",
       "    <tr>\n",
       "      <th>1</th>\n",
       "      <td>Gender</td>\n",
       "      <td>Fail</td>\n",
       "      <td>1.0000</td>\n",
       "      <td>0.0110</td>\n",
       "      <td>Strong</td>\n",
       "      <td>Positive</td>\n",
       "    </tr>\n",
       "    <tr>\n",
       "      <th>5</th>\n",
       "      <td>Age Band</td>\n",
       "      <td>Pass</td>\n",
       "      <td>0.9956</td>\n",
       "      <td>0.0735</td>\n",
       "      <td>Strong</td>\n",
       "      <td>Positive</td>\n",
       "    </tr>\n",
       "    <tr>\n",
       "      <th>4</th>\n",
       "      <td>Age Band</td>\n",
       "      <td>Fail</td>\n",
       "      <td>0.9935</td>\n",
       "      <td>-0.0605</td>\n",
       "      <td>Strong</td>\n",
       "      <td>Negative</td>\n",
       "    </tr>\n",
       "    <tr>\n",
       "      <th>10</th>\n",
       "      <td>Highest Education</td>\n",
       "      <td>Fail</td>\n",
       "      <td>0.9844</td>\n",
       "      <td>-0.0603</td>\n",
       "      <td>Strong</td>\n",
       "      <td>Negative</td>\n",
       "    </tr>\n",
       "    <tr>\n",
       "      <th>11</th>\n",
       "      <td>Highest Education</td>\n",
       "      <td>Pass</td>\n",
       "      <td>0.9660</td>\n",
       "      <td>0.0813</td>\n",
       "      <td>Strong</td>\n",
       "      <td>Positive</td>\n",
       "    </tr>\n",
       "    <tr>\n",
       "      <th>14</th>\n",
       "      <td>Imd Band</td>\n",
       "      <td>Pass</td>\n",
       "      <td>0.9480</td>\n",
       "      <td>0.0022</td>\n",
       "      <td>Strong</td>\n",
       "      <td>Positive</td>\n",
       "    </tr>\n",
       "    <tr>\n",
       "      <th>13</th>\n",
       "      <td>Imd Band</td>\n",
       "      <td>Fail</td>\n",
       "      <td>0.9086</td>\n",
       "      <td>-0.0015</td>\n",
       "      <td>Strong</td>\n",
       "      <td>Negative</td>\n",
       "    </tr>\n",
       "    <tr>\n",
       "      <th>12</th>\n",
       "      <td>Imd Band</td>\n",
       "      <td>Withdrawn</td>\n",
       "      <td>0.8186</td>\n",
       "      <td>-0.0006</td>\n",
       "      <td>Strong</td>\n",
       "      <td>Negative</td>\n",
       "    </tr>\n",
       "    <tr>\n",
       "      <th>9</th>\n",
       "      <td>Highest Education</td>\n",
       "      <td>Withdrawn</td>\n",
       "      <td>0.7876</td>\n",
       "      <td>-0.0210</td>\n",
       "      <td>Strong</td>\n",
       "      <td>Negative</td>\n",
       "    </tr>\n",
       "    <tr>\n",
       "      <th>17</th>\n",
       "      <td>Region</td>\n",
       "      <td>Pass</td>\n",
       "      <td>0.0399</td>\n",
       "      <td>-0.0021</td>\n",
       "      <td>Very</td>\n",
       "      <td>Negative</td>\n",
       "    </tr>\n",
       "    <tr>\n",
       "      <th>16</th>\n",
       "      <td>Region</td>\n",
       "      <td>Fail</td>\n",
       "      <td>0.0361</td>\n",
       "      <td>0.0018</td>\n",
       "      <td>Very</td>\n",
       "      <td>Positive</td>\n",
       "    </tr>\n",
       "    <tr>\n",
       "      <th>15</th>\n",
       "      <td>Region</td>\n",
       "      <td>Withdrawn</td>\n",
       "      <td>0.0101</td>\n",
       "      <td>0.0003</td>\n",
       "      <td>Very</td>\n",
       "      <td>Positive</td>\n",
       "    </tr>\n",
       "  </tbody>\n",
       "</table>\n",
       "</div>"
      ],
      "text/plain": [
       "             Variable    Outcome  R_Squared   Slope Strength     Trend\n",
       "0              Gender  Withdrawn     1.0000  0.0200   Strong  Positive\n",
       "2              Gender       Pass     1.0000 -0.0300   Strong  Negative\n",
       "3            Age Band  Withdrawn     1.0000 -0.0130   Strong  Negative\n",
       "6          Disability  Withdrawn     1.0000  0.0910   Strong  Positive\n",
       "7          Disability       Fail     1.0000  0.0180   Strong  Positive\n",
       "8          Disability       Pass     1.0000 -0.1070   Strong  Negative\n",
       "1              Gender       Fail     1.0000  0.0110   Strong  Positive\n",
       "5            Age Band       Pass     0.9956  0.0735   Strong  Positive\n",
       "4            Age Band       Fail     0.9935 -0.0605   Strong  Negative\n",
       "10  Highest Education       Fail     0.9844 -0.0603   Strong  Negative\n",
       "11  Highest Education       Pass     0.9660  0.0813   Strong  Positive\n",
       "14           Imd Band       Pass     0.9480  0.0022   Strong  Positive\n",
       "13           Imd Band       Fail     0.9086 -0.0015   Strong  Negative\n",
       "12           Imd Band  Withdrawn     0.8186 -0.0006   Strong  Negative\n",
       "9   Highest Education  Withdrawn     0.7876 -0.0210   Strong  Negative\n",
       "17             Region       Pass     0.0399 -0.0021     Very  Negative\n",
       "16             Region       Fail     0.0361  0.0018     Very  Positive\n",
       "15             Region  Withdrawn     0.0101  0.0003     Very  Positive"
      ]
     },
     "metadata": {},
     "output_type": "display_data"
    },
    {
     "name": "stdout",
     "output_type": "stream",
     "text": [
      "\n",
      "🎉 Complete analysis finished!\n",
      "💡 All plots are interactive - hover, zoom, and explore the data!\n",
      "📊 Use the regression lines to understand trends and relationships.\n"
     ]
    }
   ],
   "source": [
    "## Complete Linear Regression Analysis - All Variables\n",
    "\n",
    "# Enhanced version with detailed analysis and organized display\n",
    "print(\"🔬 COMPREHENSIVE LINEAR REGRESSION ANALYSIS\")\n",
    "print(\"=\" * 70)\n",
    "print(\"This analysis examines linear relationships between all demographic\")\n",
    "print(\"variables and student outcomes (Withdrawn=0, Fail=1, Pass=2).\\n\")\n",
    "\n",
    "# Ensure we have the required data\n",
    "if 'cross_tables' not in locals():\n",
    "    print(\"🔄 Creating cross-tabulation tables...\")\n",
    "    cross_tables = create_cross_tables(processed_data)\n",
    "\n",
    "# Create all plots with enhanced statistics\n",
    "from analysis_engine import calculate_linear_regression\n",
    "import pandas as pd\n",
    "\n",
    "print(\"📊 CREATING PLOTS WITH STATISTICAL ANALYSIS:\")\n",
    "print(\"-\" * 60)\n",
    "\n",
    "# Store all results for summary\n",
    "all_results = []\n",
    "plot_order = ['gender', 'age_band', 'disability', 'highest_education', 'imd_band', 'region']\n",
    "\n",
    "for i, var_name in enumerate(plot_order, 1):\n",
    "    if var_name in cross_tables:\n",
    "        print(f\"\\n{i}. 📈 {var_name.replace('_', ' ').title()}:\")\n",
    "        print(\"   \" + \"-\" * 45)\n",
    "        \n",
    "        cross_table = cross_tables[var_name]\n",
    "        config = VARIABLE_CONFIGS[var_name].copy()\n",
    "        \n",
    "        # Handle special cases for x-values\n",
    "        if var_name == 'region':\n",
    "            sorted_regions = sorted(cross_table.index.tolist())\n",
    "            cross_table = cross_table.reindex(sorted_regions)\n",
    "            x_values = list(range(len(sorted_regions)))\n",
    "            categories = sorted_regions\n",
    "        elif var_name == 'highest_education' and 'order' in config:\n",
    "            cross_table = cross_table.reindex(config['order'])\n",
    "            x_values = config['x_values']\n",
    "            categories = config['categories']\n",
    "        else:\n",
    "            x_values = config['x_values']\n",
    "            categories = config['categories']\n",
    "        \n",
    "        # Calculate and display regression statistics\n",
    "        print(\"   📊 Regression Statistics:\")\n",
    "        var_results = []\n",
    "        for col in cross_table.columns:\n",
    "            y_values = cross_table[col].values\n",
    "            regression = calculate_linear_regression(x_values, y_values)\n",
    "            result_name = RESULT_CODE_MAPPING.get(col, f'Code {col}')\n",
    "            \n",
    "            # Classify relationship strength\n",
    "            r2 = regression['r_squared']\n",
    "            if r2 > 0.7:\n",
    "                strength = \"💪 Strong\"\n",
    "            elif r2 > 0.4:\n",
    "                strength = \"🔸 Moderate\" \n",
    "            elif r2 > 0.2:\n",
    "                strength = \"🔹 Weak\"\n",
    "            else:\n",
    "                strength = \"⚪ Very Weak\"\n",
    "            \n",
    "            trend = \"📈 Positive\" if regression['slope'] > 0 else \"📉 Negative\"\n",
    "            \n",
    "            print(f\"      {result_name:>11}: R² = {r2:.3f} | Slope = {regression['slope']:+.4f} | {strength} {trend}\")\n",
    "            \n",
    "            # Store for summary\n",
    "            var_results.append({\n",
    "                'Variable': var_name.replace('_', ' ').title(),\n",
    "                'Outcome': result_name,\n",
    "                'R_Squared': r2,\n",
    "                'Slope': regression['slope'],\n",
    "                'Strength': strength.split()[1],  # Remove emoji\n",
    "                'Trend': trend.split()[1]  # Remove emoji\n",
    "            })\n",
    "        \n",
    "        all_results.extend(var_results)\n",
    "        \n",
    "        # Create and show the plot\n",
    "        try:\n",
    "            fig = create_plotly_regression_plot(\n",
    "                cross_table,\n",
    "                var_name.replace('_', ' ').title(),\n",
    "                x_values,\n",
    "                config['x_label'],\n",
    "                categories\n",
    "            )\n",
    "            \n",
    "            print(\"   ✅ Plot created successfully\")\n",
    "            fig.show()\n",
    "            \n",
    "        except Exception as e:\n",
    "            print(f\"   ❌ Error creating plot: {e}\")\n",
    "\n",
    "# Create comprehensive summary\n",
    "print(f\"\\n📋 COMPREHENSIVE ANALYSIS SUMMARY:\")\n",
    "print(\"=\" * 60)\n",
    "\n",
    "if all_results:\n",
    "    results_df = pd.DataFrame(all_results)\n",
    "    \n",
    "    # Overall statistics\n",
    "    avg_r2 = results_df['R_Squared'].mean()\n",
    "    max_r2 = results_df['R_Squared'].max()\n",
    "    strong_count = len(results_df[results_df['R_Squared'] > 0.5])\n",
    "    \n",
    "    print(f\"📊 Overall Statistics:\")\n",
    "    print(f\"   • Total relationships analyzed: {len(results_df)}\")\n",
    "    print(f\"   • Average R²: {avg_r2:.3f}\")\n",
    "    print(f\"   • Strongest relationship: R² = {max_r2:.3f}\")\n",
    "    print(f\"   • Strong relationships (R² > 0.5): {strong_count}\")\n",
    "    \n",
    "    # Best predictors by variable\n",
    "    print(f\"\\n🏆 Best Predictors by Variable:\")\n",
    "    best_by_var = results_df.loc[results_df.groupby('Variable')['R_Squared'].idxmax()]\n",
    "    for _, row in best_by_var.iterrows():\n",
    "        print(f\"   • {row['Variable']:15} → {row['Outcome']:10}: R² = {row['R_Squared']:.3f}\")\n",
    "    \n",
    "    # Strongest overall relationships\n",
    "    print(f\"\\n🎯 Top 5 Strongest Relationships:\")\n",
    "    top_5 = results_df.nlargest(5, 'R_Squared')\n",
    "    for i, (_, row) in enumerate(top_5.iterrows(), 1):\n",
    "        trend_emoji = \"📈\" if row['Trend'] == 'Positive' else \"📉\"\n",
    "        print(f\"   {i}. {trend_emoji} {row['Variable']} → {row['Outcome']}: R² = {row['R_Squared']:.3f}\")\n",
    "    \n",
    "    # Trend analysis\n",
    "    print(f\"\\n📈 Trend Analysis:\")\n",
    "    positive_trends = len(results_df[results_df['Trend'] == 'Positive'])\n",
    "    negative_trends = len(results_df[results_df['Trend'] == 'Negative'])\n",
    "    print(f\"   • Positive trends: {positive_trends} ({positive_trends/len(results_df)*100:.1f}%)\")\n",
    "    print(f\"   • Negative trends: {negative_trends} ({negative_trends/len(results_df)*100:.1f}%)\")\n",
    "    \n",
    "    # Display full results table\n",
    "    print(f\"\\n📋 Complete Results Table:\")\n",
    "    print(\"-\" * 50)\n",
    "    display(results_df.sort_values('R_Squared', ascending=False).round(4))\n",
    "\n",
    "else:\n",
    "    print(\"❌ No results to summarize - check if plots were created successfully\")\n",
    "\n",
    "print(f\"\\n🎉 Complete analysis finished!\")\n",
    "print(f\"💡 All plots are interactive - hover, zoom, and explore the data!\")\n",
    "print(f\"📊 Use the regression lines to understand trends and relationships.\")"
   ]
  },
  {
   "cell_type": "code",
   "execution_count": 7,
   "id": "10c5c5b6",
   "metadata": {},
   "outputs": [
    {
     "name": "stdout",
     "output_type": "stream",
     "text": [
      "🔄 Running complete analysis...\n",
      "\n",
      "============================================================\n",
      "STARTING STATISTICAL ANALYSIS\n",
      "============================================================\n",
      "Creating cross-tabulation tables...\n",
      "  Creating cross table for: gender\n",
      "    Categories: 2, Outcomes: 3\n",
      "  Creating cross table for: region\n",
      "    Categories: 13, Outcomes: 3\n",
      "  Creating cross table for: highest_education\n",
      "    Categories: 5, Outcomes: 3\n",
      "  Creating cross table for: imd_band\n",
      "    Categories: 10, Outcomes: 3\n",
      "  Creating cross table for: age_band\n",
      "    Categories: 3, Outcomes: 3\n",
      "  Creating cross table for: disability\n",
      "    Categories: 2, Outcomes: 3\n",
      "✓ Created 6 cross-tabulation tables\n",
      "Analyzing cross-table trends...\n",
      "✓ Analyzed trends for 18 variable-outcome combinations\n",
      "Analyzing student segments...\n",
      "✓ Analyzed 5 student segments\n",
      "\n",
      "============================================================\n",
      "STATISTICAL ANALYSIS COMPLETED\n",
      "============================================================\n",
      "\n",
      "KEY INSIGHTS:\n",
      "  • Strongest correlation: Gender with Withdrawn (R² = 1.000, Positive trend)\n",
      "  • Strong relationships (R² > 0.5): 15 out of 18 combinations\n",
      "  • Best predictor variable: Disability (avg R² = 1.000)\n",
      "\n",
      "STUDENT SEGMENTS:\n",
      "  • High Performers: 16,687 students (60.2%)\n",
      "  • High Engagement: 9,870 students (35.6%)\n",
      "  • Overall Engaged: 19,176 students (69.2%)\n",
      "  • No Vle: 981 students (3.5%)\n",
      "  • Low Performers: 7,013 students (25.3%)\n",
      "\n",
      "📊 REGRESSION SUMMARY TABLE:\n",
      "============================================================\n"
     ]
    },
    {
     "data": {
      "text/html": [
       "<div>\n",
       "<style scoped>\n",
       "    .dataframe tbody tr th:only-of-type {\n",
       "        vertical-align: middle;\n",
       "    }\n",
       "\n",
       "    .dataframe tbody tr th {\n",
       "        vertical-align: top;\n",
       "    }\n",
       "\n",
       "    .dataframe thead th {\n",
       "        text-align: right;\n",
       "    }\n",
       "</style>\n",
       "<table border=\"1\" class=\"dataframe\">\n",
       "  <thead>\n",
       "    <tr style=\"text-align: right;\">\n",
       "      <th></th>\n",
       "      <th>Variable</th>\n",
       "      <th>Outcome</th>\n",
       "      <th>R_Squared</th>\n",
       "      <th>Slope</th>\n",
       "      <th>Intercept</th>\n",
       "      <th>Trend</th>\n",
       "      <th>Strength</th>\n",
       "    </tr>\n",
       "  </thead>\n",
       "  <tbody>\n",
       "    <tr>\n",
       "      <th>0</th>\n",
       "      <td>Gender</td>\n",
       "      <td>Withdrawn</td>\n",
       "      <td>1.0000</td>\n",
       "      <td>0.0200</td>\n",
       "      <td>0.1800</td>\n",
       "      <td>Positive</td>\n",
       "      <td>Strong</td>\n",
       "    </tr>\n",
       "    <tr>\n",
       "      <th>1</th>\n",
       "      <td>Gender</td>\n",
       "      <td>Fail</td>\n",
       "      <td>1.0000</td>\n",
       "      <td>0.0110</td>\n",
       "      <td>0.2480</td>\n",
       "      <td>Positive</td>\n",
       "      <td>Strong</td>\n",
       "    </tr>\n",
       "    <tr>\n",
       "      <th>2</th>\n",
       "      <td>Gender</td>\n",
       "      <td>Pass</td>\n",
       "      <td>1.0000</td>\n",
       "      <td>-0.0300</td>\n",
       "      <td>0.5710</td>\n",
       "      <td>Negative</td>\n",
       "      <td>Strong</td>\n",
       "    </tr>\n",
       "    <tr>\n",
       "      <th>3</th>\n",
       "      <td>Region</td>\n",
       "      <td>Withdrawn</td>\n",
       "      <td>0.0101</td>\n",
       "      <td>0.0003</td>\n",
       "      <td>0.1893</td>\n",
       "      <td>Positive</td>\n",
       "      <td>Weak</td>\n",
       "    </tr>\n",
       "    <tr>\n",
       "      <th>4</th>\n",
       "      <td>Region</td>\n",
       "      <td>Fail</td>\n",
       "      <td>0.0361</td>\n",
       "      <td>0.0018</td>\n",
       "      <td>0.2414</td>\n",
       "      <td>Positive</td>\n",
       "      <td>Weak</td>\n",
       "    </tr>\n",
       "    <tr>\n",
       "      <th>5</th>\n",
       "      <td>Region</td>\n",
       "      <td>Pass</td>\n",
       "      <td>0.0399</td>\n",
       "      <td>-0.0021</td>\n",
       "      <td>0.5697</td>\n",
       "      <td>Negative</td>\n",
       "      <td>Weak</td>\n",
       "    </tr>\n",
       "    <tr>\n",
       "      <th>6</th>\n",
       "      <td>Highest Education</td>\n",
       "      <td>Withdrawn</td>\n",
       "      <td>0.7876</td>\n",
       "      <td>-0.0210</td>\n",
       "      <td>0.2404</td>\n",
       "      <td>Negative</td>\n",
       "      <td>Strong</td>\n",
       "    </tr>\n",
       "    <tr>\n",
       "      <th>7</th>\n",
       "      <td>Highest Education</td>\n",
       "      <td>Fail</td>\n",
       "      <td>0.9844</td>\n",
       "      <td>-0.0603</td>\n",
       "      <td>0.3608</td>\n",
       "      <td>Negative</td>\n",
       "      <td>Strong</td>\n",
       "    </tr>\n",
       "    <tr>\n",
       "      <th>8</th>\n",
       "      <td>Highest Education</td>\n",
       "      <td>Pass</td>\n",
       "      <td>0.9660</td>\n",
       "      <td>0.0813</td>\n",
       "      <td>0.3988</td>\n",
       "      <td>Positive</td>\n",
       "      <td>Strong</td>\n",
       "    </tr>\n",
       "    <tr>\n",
       "      <th>9</th>\n",
       "      <td>Imd Band</td>\n",
       "      <td>Withdrawn</td>\n",
       "      <td>0.8186</td>\n",
       "      <td>-0.0006</td>\n",
       "      <td>0.2220</td>\n",
       "      <td>Negative</td>\n",
       "      <td>Strong</td>\n",
       "    </tr>\n",
       "    <tr>\n",
       "      <th>10</th>\n",
       "      <td>Imd Band</td>\n",
       "      <td>Fail</td>\n",
       "      <td>0.9086</td>\n",
       "      <td>-0.0015</td>\n",
       "      <td>0.3324</td>\n",
       "      <td>Negative</td>\n",
       "      <td>Strong</td>\n",
       "    </tr>\n",
       "    <tr>\n",
       "      <th>11</th>\n",
       "      <td>Imd Band</td>\n",
       "      <td>Pass</td>\n",
       "      <td>0.9480</td>\n",
       "      <td>0.0022</td>\n",
       "      <td>0.4450</td>\n",
       "      <td>Positive</td>\n",
       "      <td>Strong</td>\n",
       "    </tr>\n",
       "    <tr>\n",
       "      <th>12</th>\n",
       "      <td>Age Band</td>\n",
       "      <td>Withdrawn</td>\n",
       "      <td>1.0000</td>\n",
       "      <td>-0.0130</td>\n",
       "      <td>0.1950</td>\n",
       "      <td>Negative</td>\n",
       "      <td>Strong</td>\n",
       "    </tr>\n",
       "    <tr>\n",
       "      <th>13</th>\n",
       "      <td>Age Band</td>\n",
       "      <td>Fail</td>\n",
       "      <td>0.9935</td>\n",
       "      <td>-0.0605</td>\n",
       "      <td>0.2728</td>\n",
       "      <td>Negative</td>\n",
       "      <td>Strong</td>\n",
       "    </tr>\n",
       "    <tr>\n",
       "      <th>14</th>\n",
       "      <td>Age Band</td>\n",
       "      <td>Pass</td>\n",
       "      <td>0.9956</td>\n",
       "      <td>0.0735</td>\n",
       "      <td>0.5322</td>\n",
       "      <td>Positive</td>\n",
       "      <td>Strong</td>\n",
       "    </tr>\n",
       "    <tr>\n",
       "      <th>15</th>\n",
       "      <td>Disability</td>\n",
       "      <td>Withdrawn</td>\n",
       "      <td>1.0000</td>\n",
       "      <td>0.0910</td>\n",
       "      <td>0.1820</td>\n",
       "      <td>Positive</td>\n",
       "      <td>Strong</td>\n",
       "    </tr>\n",
       "    <tr>\n",
       "      <th>16</th>\n",
       "      <td>Disability</td>\n",
       "      <td>Fail</td>\n",
       "      <td>1.0000</td>\n",
       "      <td>0.0180</td>\n",
       "      <td>0.2520</td>\n",
       "      <td>Positive</td>\n",
       "      <td>Strong</td>\n",
       "    </tr>\n",
       "    <tr>\n",
       "      <th>17</th>\n",
       "      <td>Disability</td>\n",
       "      <td>Pass</td>\n",
       "      <td>1.0000</td>\n",
       "      <td>-0.1070</td>\n",
       "      <td>0.5650</td>\n",
       "      <td>Negative</td>\n",
       "      <td>Strong</td>\n",
       "    </tr>\n",
       "  </tbody>\n",
       "</table>\n",
       "</div>"
      ],
      "text/plain": [
       "             Variable    Outcome  R_Squared   Slope  Intercept     Trend  \\\n",
       "0              Gender  Withdrawn     1.0000  0.0200     0.1800  Positive   \n",
       "1              Gender       Fail     1.0000  0.0110     0.2480  Positive   \n",
       "2              Gender       Pass     1.0000 -0.0300     0.5710  Negative   \n",
       "3              Region  Withdrawn     0.0101  0.0003     0.1893  Positive   \n",
       "4              Region       Fail     0.0361  0.0018     0.2414  Positive   \n",
       "5              Region       Pass     0.0399 -0.0021     0.5697  Negative   \n",
       "6   Highest Education  Withdrawn     0.7876 -0.0210     0.2404  Negative   \n",
       "7   Highest Education       Fail     0.9844 -0.0603     0.3608  Negative   \n",
       "8   Highest Education       Pass     0.9660  0.0813     0.3988  Positive   \n",
       "9            Imd Band  Withdrawn     0.8186 -0.0006     0.2220  Negative   \n",
       "10           Imd Band       Fail     0.9086 -0.0015     0.3324  Negative   \n",
       "11           Imd Band       Pass     0.9480  0.0022     0.4450  Positive   \n",
       "12           Age Band  Withdrawn     1.0000 -0.0130     0.1950  Negative   \n",
       "13           Age Band       Fail     0.9935 -0.0605     0.2728  Negative   \n",
       "14           Age Band       Pass     0.9956  0.0735     0.5322  Positive   \n",
       "15         Disability  Withdrawn     1.0000  0.0910     0.1820  Positive   \n",
       "16         Disability       Fail     1.0000  0.0180     0.2520  Positive   \n",
       "17         Disability       Pass     1.0000 -0.1070     0.5650  Negative   \n",
       "\n",
       "   Strength  \n",
       "0    Strong  \n",
       "1    Strong  \n",
       "2    Strong  \n",
       "3      Weak  \n",
       "4      Weak  \n",
       "5      Weak  \n",
       "6    Strong  \n",
       "7    Strong  \n",
       "8    Strong  \n",
       "9    Strong  \n",
       "10   Strong  \n",
       "11   Strong  \n",
       "12   Strong  \n",
       "13   Strong  \n",
       "14   Strong  \n",
       "15   Strong  \n",
       "16   Strong  \n",
       "17   Strong  "
      ]
     },
     "metadata": {},
     "output_type": "display_data"
    },
    {
     "name": "stdout",
     "output_type": "stream",
     "text": [
      "\n",
      "🎯 KEY INSIGHTS:\n",
      "========================================\n",
      "1. Strongest correlation: Gender with Withdrawn (R² = 1.000, Positive trend)\n",
      "2. Strong relationships (R² > 0.5): 15 out of 18 combinations\n",
      "3. Best predictor variable: Disability (avg R² = 1.000)\n",
      "\n",
      "👥 STUDENT SEGMENTS:\n",
      "========================================\n",
      "\n",
      "🌟 High Performers:\n",
      "   Count: 16,687 students (60.2% of total)\n",
      "   Success Rate: 70.0%\n",
      "\n",
      "🎯 High Engagement:\n",
      "   Count: 9,870 students (35.6% of total)\n",
      "   Success Rate: 72.5%\n",
      "\n",
      "💪 Overall Engaged:\n",
      "   Count: 19,176 students (69.2% of total)\n",
      "   Success Rate: 67.9%\n",
      "\n",
      "😴 No Vle:\n",
      "   Count: 981 students (3.5% of total)\n",
      "   Withdrawal Rate: 30.0%\n",
      "\n",
      "📉 Low Performers:\n",
      "   Count: 7,013 students (25.3% of total)\n",
      "   Withdrawal Rate: 34.5%\n"
     ]
    }
   ],
   "source": [
    "# =============================================================================\n",
    "# CELL 7: Full Analysis with All Plots\n",
    "# =============================================================================\n",
    "\n",
    "# Run complete analysis and create all visualizations\n",
    "print(\"🔄 Running complete analysis...\")\n",
    "cross_tables, summary_stats, insights, segments = run_complete_analysis(processed_data)\n",
    "\n",
    "print(\"\\n📊 REGRESSION SUMMARY TABLE:\")\n",
    "print(\"=\" * 60)\n",
    "display(summary_stats.round(4))\n",
    "\n",
    "print(\"\\n🎯 KEY INSIGHTS:\")\n",
    "print(\"=\" * 40)\n",
    "for i, insight in enumerate(insights.values(), 1):\n",
    "    print(f\"{i}. {insight}\")\n",
    "\n",
    "print(\"\\n👥 STUDENT SEGMENTS:\")\n",
    "print(\"=\" * 40)\n",
    "for segment_name, stats in segments.items():\n",
    "    name = segment_name.replace('_', ' ').title()\n",
    "    emoji = {'High Performers': '🌟', 'High Engagement': '🎯', 'Overall Engaged': '💪', \n",
    "             'No Vle': '😴', 'Low Performers': '📉'}.get(name, '📊')\n",
    "    print(f\"\\n{emoji} {name}:\")\n",
    "    print(f\"   Count: {stats['count']:,} students ({stats['percentage']:.1f}% of total)\")\n",
    "    if 'completion_rate' in stats:\n",
    "        print(f\"   Success Rate: {stats['completion_rate']:.1f}%\")\n",
    "    if 'withdrawal_rate' in stats:\n",
    "        print(f\"   Withdrawal Rate: {stats['withdrawal_rate']:.1f}%\")"
   ]
  },
  {
   "cell_type": "code",
   "execution_count": 8,
   "id": "f7cc10c1",
   "metadata": {},
   "outputs": [
    {
     "name": "stdout",
     "output_type": "stream",
     "text": [
      "📊 Creating student segments visualization...\n"
     ]
    },
    {
     "data": {
      "application/vnd.plotly.v1+json": {
       "config": {
        "plotlyServerURL": "https://plot.ly"
       },
       "data": [
        {
         "marker": {
          "color": "lightblue"
         },
         "name": "Percentage of Students",
         "showlegend": false,
         "text": [
          "60.2%",
          "35.6%",
          "69.2%",
          "3.5%",
          "25.3%"
         ],
         "textposition": "auto",
         "type": "bar",
         "x": [
          "High Performers",
          "High Engagement",
          "Overall Engaged",
          "No Vle",
          "Low Performers"
         ],
         "xaxis": "x",
         "y": [
          60.187556357078456,
          35.59963931469793,
          69.16501352569882,
          3.5383228133453564,
          25.294860234445448
         ],
         "yaxis": "y"
        },
        {
         "marker": {
          "color": "lightcoral"
         },
         "name": "Completion Rate",
         "showlegend": false,
         "text": [
          "70.0%",
          "72.5%",
          "67.9%",
          "0.0%",
          "0.0%"
         ],
         "textposition": "auto",
         "type": "bar",
         "x": [
          "High Performers",
          "High Engagement",
          "Overall Engaged",
          "No Vle",
          "Low Performers"
         ],
         "xaxis": "x2",
         "y": [
          69.98861389105292,
          72.45187436676798,
          67.93387567793074,
          0,
          0
         ],
         "yaxis": "y2"
        }
       ],
       "layout": {
        "annotations": [
         {
          "font": {
           "size": 16
          },
          "showarrow": false,
          "text": "Student Segment Sizes (%)",
          "x": 0.225,
          "xanchor": "center",
          "xref": "paper",
          "y": 1,
          "yanchor": "bottom",
          "yref": "paper"
         },
         {
          "font": {
           "size": 16
          },
          "showarrow": false,
          "text": "Completion Rates by Segment (%)",
          "x": 0.775,
          "xanchor": "center",
          "xref": "paper",
          "y": 1,
          "yanchor": "bottom",
          "yref": "paper"
         }
        ],
        "height": 500,
        "showlegend": false,
        "template": {
         "data": {
          "bar": [
           {
            "error_x": {
             "color": "#2a3f5f"
            },
            "error_y": {
             "color": "#2a3f5f"
            },
            "marker": {
             "line": {
              "color": "#E5ECF6",
              "width": 0.5
             },
             "pattern": {
              "fillmode": "overlay",
              "size": 10,
              "solidity": 0.2
             }
            },
            "type": "bar"
           }
          ],
          "barpolar": [
           {
            "marker": {
             "line": {
              "color": "#E5ECF6",
              "width": 0.5
             },
             "pattern": {
              "fillmode": "overlay",
              "size": 10,
              "solidity": 0.2
             }
            },
            "type": "barpolar"
           }
          ],
          "carpet": [
           {
            "aaxis": {
             "endlinecolor": "#2a3f5f",
             "gridcolor": "white",
             "linecolor": "white",
             "minorgridcolor": "white",
             "startlinecolor": "#2a3f5f"
            },
            "baxis": {
             "endlinecolor": "#2a3f5f",
             "gridcolor": "white",
             "linecolor": "white",
             "minorgridcolor": "white",
             "startlinecolor": "#2a3f5f"
            },
            "type": "carpet"
           }
          ],
          "choropleth": [
           {
            "colorbar": {
             "outlinewidth": 0,
             "ticks": ""
            },
            "type": "choropleth"
           }
          ],
          "contour": [
           {
            "colorbar": {
             "outlinewidth": 0,
             "ticks": ""
            },
            "colorscale": [
             [
              0,
              "#0d0887"
             ],
             [
              0.1111111111111111,
              "#46039f"
             ],
             [
              0.2222222222222222,
              "#7201a8"
             ],
             [
              0.3333333333333333,
              "#9c179e"
             ],
             [
              0.4444444444444444,
              "#bd3786"
             ],
             [
              0.5555555555555556,
              "#d8576b"
             ],
             [
              0.6666666666666666,
              "#ed7953"
             ],
             [
              0.7777777777777778,
              "#fb9f3a"
             ],
             [
              0.8888888888888888,
              "#fdca26"
             ],
             [
              1,
              "#f0f921"
             ]
            ],
            "type": "contour"
           }
          ],
          "contourcarpet": [
           {
            "colorbar": {
             "outlinewidth": 0,
             "ticks": ""
            },
            "type": "contourcarpet"
           }
          ],
          "heatmap": [
           {
            "colorbar": {
             "outlinewidth": 0,
             "ticks": ""
            },
            "colorscale": [
             [
              0,
              "#0d0887"
             ],
             [
              0.1111111111111111,
              "#46039f"
             ],
             [
              0.2222222222222222,
              "#7201a8"
             ],
             [
              0.3333333333333333,
              "#9c179e"
             ],
             [
              0.4444444444444444,
              "#bd3786"
             ],
             [
              0.5555555555555556,
              "#d8576b"
             ],
             [
              0.6666666666666666,
              "#ed7953"
             ],
             [
              0.7777777777777778,
              "#fb9f3a"
             ],
             [
              0.8888888888888888,
              "#fdca26"
             ],
             [
              1,
              "#f0f921"
             ]
            ],
            "type": "heatmap"
           }
          ],
          "histogram": [
           {
            "marker": {
             "pattern": {
              "fillmode": "overlay",
              "size": 10,
              "solidity": 0.2
             }
            },
            "type": "histogram"
           }
          ],
          "histogram2d": [
           {
            "colorbar": {
             "outlinewidth": 0,
             "ticks": ""
            },
            "colorscale": [
             [
              0,
              "#0d0887"
             ],
             [
              0.1111111111111111,
              "#46039f"
             ],
             [
              0.2222222222222222,
              "#7201a8"
             ],
             [
              0.3333333333333333,
              "#9c179e"
             ],
             [
              0.4444444444444444,
              "#bd3786"
             ],
             [
              0.5555555555555556,
              "#d8576b"
             ],
             [
              0.6666666666666666,
              "#ed7953"
             ],
             [
              0.7777777777777778,
              "#fb9f3a"
             ],
             [
              0.8888888888888888,
              "#fdca26"
             ],
             [
              1,
              "#f0f921"
             ]
            ],
            "type": "histogram2d"
           }
          ],
          "histogram2dcontour": [
           {
            "colorbar": {
             "outlinewidth": 0,
             "ticks": ""
            },
            "colorscale": [
             [
              0,
              "#0d0887"
             ],
             [
              0.1111111111111111,
              "#46039f"
             ],
             [
              0.2222222222222222,
              "#7201a8"
             ],
             [
              0.3333333333333333,
              "#9c179e"
             ],
             [
              0.4444444444444444,
              "#bd3786"
             ],
             [
              0.5555555555555556,
              "#d8576b"
             ],
             [
              0.6666666666666666,
              "#ed7953"
             ],
             [
              0.7777777777777778,
              "#fb9f3a"
             ],
             [
              0.8888888888888888,
              "#fdca26"
             ],
             [
              1,
              "#f0f921"
             ]
            ],
            "type": "histogram2dcontour"
           }
          ],
          "mesh3d": [
           {
            "colorbar": {
             "outlinewidth": 0,
             "ticks": ""
            },
            "type": "mesh3d"
           }
          ],
          "parcoords": [
           {
            "line": {
             "colorbar": {
              "outlinewidth": 0,
              "ticks": ""
             }
            },
            "type": "parcoords"
           }
          ],
          "pie": [
           {
            "automargin": true,
            "type": "pie"
           }
          ],
          "scatter": [
           {
            "fillpattern": {
             "fillmode": "overlay",
             "size": 10,
             "solidity": 0.2
            },
            "type": "scatter"
           }
          ],
          "scatter3d": [
           {
            "line": {
             "colorbar": {
              "outlinewidth": 0,
              "ticks": ""
             }
            },
            "marker": {
             "colorbar": {
              "outlinewidth": 0,
              "ticks": ""
             }
            },
            "type": "scatter3d"
           }
          ],
          "scattercarpet": [
           {
            "marker": {
             "colorbar": {
              "outlinewidth": 0,
              "ticks": ""
             }
            },
            "type": "scattercarpet"
           }
          ],
          "scattergeo": [
           {
            "marker": {
             "colorbar": {
              "outlinewidth": 0,
              "ticks": ""
             }
            },
            "type": "scattergeo"
           }
          ],
          "scattergl": [
           {
            "marker": {
             "colorbar": {
              "outlinewidth": 0,
              "ticks": ""
             }
            },
            "type": "scattergl"
           }
          ],
          "scattermap": [
           {
            "marker": {
             "colorbar": {
              "outlinewidth": 0,
              "ticks": ""
             }
            },
            "type": "scattermap"
           }
          ],
          "scattermapbox": [
           {
            "marker": {
             "colorbar": {
              "outlinewidth": 0,
              "ticks": ""
             }
            },
            "type": "scattermapbox"
           }
          ],
          "scatterpolar": [
           {
            "marker": {
             "colorbar": {
              "outlinewidth": 0,
              "ticks": ""
             }
            },
            "type": "scatterpolar"
           }
          ],
          "scatterpolargl": [
           {
            "marker": {
             "colorbar": {
              "outlinewidth": 0,
              "ticks": ""
             }
            },
            "type": "scatterpolargl"
           }
          ],
          "scatterternary": [
           {
            "marker": {
             "colorbar": {
              "outlinewidth": 0,
              "ticks": ""
             }
            },
            "type": "scatterternary"
           }
          ],
          "surface": [
           {
            "colorbar": {
             "outlinewidth": 0,
             "ticks": ""
            },
            "colorscale": [
             [
              0,
              "#0d0887"
             ],
             [
              0.1111111111111111,
              "#46039f"
             ],
             [
              0.2222222222222222,
              "#7201a8"
             ],
             [
              0.3333333333333333,
              "#9c179e"
             ],
             [
              0.4444444444444444,
              "#bd3786"
             ],
             [
              0.5555555555555556,
              "#d8576b"
             ],
             [
              0.6666666666666666,
              "#ed7953"
             ],
             [
              0.7777777777777778,
              "#fb9f3a"
             ],
             [
              0.8888888888888888,
              "#fdca26"
             ],
             [
              1,
              "#f0f921"
             ]
            ],
            "type": "surface"
           }
          ],
          "table": [
           {
            "cells": {
             "fill": {
              "color": "#EBF0F8"
             },
             "line": {
              "color": "white"
             }
            },
            "header": {
             "fill": {
              "color": "#C8D4E3"
             },
             "line": {
              "color": "white"
             }
            },
            "type": "table"
           }
          ]
         },
         "layout": {
          "annotationdefaults": {
           "arrowcolor": "#2a3f5f",
           "arrowhead": 0,
           "arrowwidth": 1
          },
          "autotypenumbers": "strict",
          "coloraxis": {
           "colorbar": {
            "outlinewidth": 0,
            "ticks": ""
           }
          },
          "colorscale": {
           "diverging": [
            [
             0,
             "#8e0152"
            ],
            [
             0.1,
             "#c51b7d"
            ],
            [
             0.2,
             "#de77ae"
            ],
            [
             0.3,
             "#f1b6da"
            ],
            [
             0.4,
             "#fde0ef"
            ],
            [
             0.5,
             "#f7f7f7"
            ],
            [
             0.6,
             "#e6f5d0"
            ],
            [
             0.7,
             "#b8e186"
            ],
            [
             0.8,
             "#7fbc41"
            ],
            [
             0.9,
             "#4d9221"
            ],
            [
             1,
             "#276419"
            ]
           ],
           "sequential": [
            [
             0,
             "#0d0887"
            ],
            [
             0.1111111111111111,
             "#46039f"
            ],
            [
             0.2222222222222222,
             "#7201a8"
            ],
            [
             0.3333333333333333,
             "#9c179e"
            ],
            [
             0.4444444444444444,
             "#bd3786"
            ],
            [
             0.5555555555555556,
             "#d8576b"
            ],
            [
             0.6666666666666666,
             "#ed7953"
            ],
            [
             0.7777777777777778,
             "#fb9f3a"
            ],
            [
             0.8888888888888888,
             "#fdca26"
            ],
            [
             1,
             "#f0f921"
            ]
           ],
           "sequentialminus": [
            [
             0,
             "#0d0887"
            ],
            [
             0.1111111111111111,
             "#46039f"
            ],
            [
             0.2222222222222222,
             "#7201a8"
            ],
            [
             0.3333333333333333,
             "#9c179e"
            ],
            [
             0.4444444444444444,
             "#bd3786"
            ],
            [
             0.5555555555555556,
             "#d8576b"
            ],
            [
             0.6666666666666666,
             "#ed7953"
            ],
            [
             0.7777777777777778,
             "#fb9f3a"
            ],
            [
             0.8888888888888888,
             "#fdca26"
            ],
            [
             1,
             "#f0f921"
            ]
           ]
          },
          "colorway": [
           "#636efa",
           "#EF553B",
           "#00cc96",
           "#ab63fa",
           "#FFA15A",
           "#19d3f3",
           "#FF6692",
           "#B6E880",
           "#FF97FF",
           "#FECB52"
          ],
          "font": {
           "color": "#2a3f5f"
          },
          "geo": {
           "bgcolor": "white",
           "lakecolor": "white",
           "landcolor": "#E5ECF6",
           "showlakes": true,
           "showland": true,
           "subunitcolor": "white"
          },
          "hoverlabel": {
           "align": "left"
          },
          "hovermode": "closest",
          "mapbox": {
           "style": "light"
          },
          "paper_bgcolor": "white",
          "plot_bgcolor": "#E5ECF6",
          "polar": {
           "angularaxis": {
            "gridcolor": "white",
            "linecolor": "white",
            "ticks": ""
           },
           "bgcolor": "#E5ECF6",
           "radialaxis": {
            "gridcolor": "white",
            "linecolor": "white",
            "ticks": ""
           }
          },
          "scene": {
           "xaxis": {
            "backgroundcolor": "#E5ECF6",
            "gridcolor": "white",
            "gridwidth": 2,
            "linecolor": "white",
            "showbackground": true,
            "ticks": "",
            "zerolinecolor": "white"
           },
           "yaxis": {
            "backgroundcolor": "#E5ECF6",
            "gridcolor": "white",
            "gridwidth": 2,
            "linecolor": "white",
            "showbackground": true,
            "ticks": "",
            "zerolinecolor": "white"
           },
           "zaxis": {
            "backgroundcolor": "#E5ECF6",
            "gridcolor": "white",
            "gridwidth": 2,
            "linecolor": "white",
            "showbackground": true,
            "ticks": "",
            "zerolinecolor": "white"
           }
          },
          "shapedefaults": {
           "line": {
            "color": "#2a3f5f"
           }
          },
          "ternary": {
           "aaxis": {
            "gridcolor": "white",
            "linecolor": "white",
            "ticks": ""
           },
           "baxis": {
            "gridcolor": "white",
            "linecolor": "white",
            "ticks": ""
           },
           "bgcolor": "#E5ECF6",
           "caxis": {
            "gridcolor": "white",
            "linecolor": "white",
            "ticks": ""
           }
          },
          "title": {
           "x": 0.05
          },
          "xaxis": {
           "automargin": true,
           "gridcolor": "white",
           "linecolor": "white",
           "ticks": "",
           "title": {
            "standoff": 15
           },
           "zerolinecolor": "white",
           "zerolinewidth": 2
          },
          "yaxis": {
           "automargin": true,
           "gridcolor": "white",
           "linecolor": "white",
           "ticks": "",
           "title": {
            "standoff": 15
           },
           "zerolinecolor": "white",
           "zerolinewidth": 2
          }
         }
        },
        "title": {
         "text": "Student Segment Analysis"
        },
        "xaxis": {
         "anchor": "y",
         "domain": [
          0,
          0.45
         ],
         "title": {
          "text": "Student Segments"
         }
        },
        "xaxis2": {
         "anchor": "y2",
         "domain": [
          0.55,
          1
         ],
         "title": {
          "text": "Student Segments"
         }
        },
        "yaxis": {
         "anchor": "x",
         "domain": [
          0,
          1
         ],
         "title": {
          "text": "Percentage (%)"
         }
        },
        "yaxis2": {
         "anchor": "x2",
         "domain": [
          0,
          1
         ],
         "title": {
          "text": "Completion Rate (%)"
         }
        }
       }
      }
     },
     "metadata": {},
     "output_type": "display_data"
    },
    {
     "name": "stdout",
     "output_type": "stream",
     "text": [
      "\n",
      "📋 SEGMENT COMPARISON:\n"
     ]
    },
    {
     "data": {
      "text/html": [
       "<div>\n",
       "<style scoped>\n",
       "    .dataframe tbody tr th:only-of-type {\n",
       "        vertical-align: middle;\n",
       "    }\n",
       "\n",
       "    .dataframe tbody tr th {\n",
       "        vertical-align: top;\n",
       "    }\n",
       "\n",
       "    .dataframe thead th {\n",
       "        text-align: right;\n",
       "    }\n",
       "</style>\n",
       "<table border=\"1\" class=\"dataframe\">\n",
       "  <thead>\n",
       "    <tr style=\"text-align: right;\">\n",
       "      <th></th>\n",
       "      <th>count</th>\n",
       "      <th>percentage</th>\n",
       "      <th>avg_vle_clicks</th>\n",
       "      <th>completion_rate</th>\n",
       "      <th>avg_score</th>\n",
       "      <th>withdrawal_rate</th>\n",
       "    </tr>\n",
       "  </thead>\n",
       "  <tbody>\n",
       "    <tr>\n",
       "      <th>high_performers</th>\n",
       "      <td>16687.0</td>\n",
       "      <td>60.2</td>\n",
       "      <td>413.4</td>\n",
       "      <td>70.0</td>\n",
       "      <td>NaN</td>\n",
       "      <td>NaN</td>\n",
       "    </tr>\n",
       "    <tr>\n",
       "      <th>high_engagement</th>\n",
       "      <td>9870.0</td>\n",
       "      <td>35.6</td>\n",
       "      <td>NaN</td>\n",
       "      <td>72.5</td>\n",
       "      <td>74.8</td>\n",
       "      <td>NaN</td>\n",
       "    </tr>\n",
       "    <tr>\n",
       "      <th>overall_engaged</th>\n",
       "      <td>19176.0</td>\n",
       "      <td>69.2</td>\n",
       "      <td>NaN</td>\n",
       "      <td>67.9</td>\n",
       "      <td>79.1</td>\n",
       "      <td>NaN</td>\n",
       "    </tr>\n",
       "    <tr>\n",
       "      <th>no_vle</th>\n",
       "      <td>981.0</td>\n",
       "      <td>3.5</td>\n",
       "      <td>NaN</td>\n",
       "      <td>NaN</td>\n",
       "      <td>19.8</td>\n",
       "      <td>30.0</td>\n",
       "    </tr>\n",
       "    <tr>\n",
       "      <th>low_performers</th>\n",
       "      <td>7013.0</td>\n",
       "      <td>25.3</td>\n",
       "      <td>170.9</td>\n",
       "      <td>NaN</td>\n",
       "      <td>NaN</td>\n",
       "      <td>34.5</td>\n",
       "    </tr>\n",
       "  </tbody>\n",
       "</table>\n",
       "</div>"
      ],
      "text/plain": [
       "                   count  percentage  avg_vle_clicks  completion_rate  \\\n",
       "high_performers  16687.0        60.2           413.4             70.0   \n",
       "high_engagement   9870.0        35.6             NaN             72.5   \n",
       "overall_engaged  19176.0        69.2             NaN             67.9   \n",
       "no_vle             981.0         3.5             NaN              NaN   \n",
       "low_performers    7013.0        25.3           170.9              NaN   \n",
       "\n",
       "                 avg_score  withdrawal_rate  \n",
       "high_performers        NaN              NaN  \n",
       "high_engagement       74.8              NaN  \n",
       "overall_engaged       79.1              NaN  \n",
       "no_vle                19.8             30.0  \n",
       "low_performers         NaN             34.5  "
      ]
     },
     "metadata": {},
     "output_type": "display_data"
    }
   ],
   "source": [
    "# =============================================================================\n",
    "# CELL 8: Student Segments Visualization\n",
    "# =============================================================================\n",
    "\n",
    "# Create and display student segments chart\n",
    "print(\"📊 Creating student segments visualization...\")\n",
    "segments_fig = create_student_segments_plot(segments)\n",
    "segments_fig.show()\n",
    "\n",
    "# Show detailed segment comparison\n",
    "print(\"\\n📋 SEGMENT COMPARISON:\")\n",
    "segments_df = pd.DataFrame(segments).T\n",
    "segments_df = segments_df.round(1)\n",
    "display(segments_df)"
   ]
  },
  {
   "cell_type": "code",
   "execution_count": 9,
   "id": "3ee1c555",
   "metadata": {},
   "outputs": [
    {
     "name": "stdout",
     "output_type": "stream",
     "text": [
      "🔍 CUSTOM DATA EXPLORATION:\n",
      "==================================================\n",
      "\n",
      "1️⃣  Average score by gender:\n"
     ]
    },
    {
     "data": {
      "text/html": [
       "<div>\n",
       "<style scoped>\n",
       "    .dataframe tbody tr th:only-of-type {\n",
       "        vertical-align: middle;\n",
       "    }\n",
       "\n",
       "    .dataframe tbody tr th {\n",
       "        vertical-align: top;\n",
       "    }\n",
       "\n",
       "    .dataframe thead th {\n",
       "        text-align: right;\n",
       "    }\n",
       "</style>\n",
       "<table border=\"1\" class=\"dataframe\">\n",
       "  <thead>\n",
       "    <tr style=\"text-align: right;\">\n",
       "      <th></th>\n",
       "      <th>Average Score</th>\n",
       "      <th>Std Dev</th>\n",
       "      <th>Count</th>\n",
       "    </tr>\n",
       "    <tr>\n",
       "      <th>gender</th>\n",
       "      <th></th>\n",
       "      <th></th>\n",
       "      <th></th>\n",
       "    </tr>\n",
       "  </thead>\n",
       "  <tbody>\n",
       "    <tr>\n",
       "      <th>F</th>\n",
       "      <td>62.28</td>\n",
       "      <td>31.43</td>\n",
       "      <td>12478</td>\n",
       "    </tr>\n",
       "    <tr>\n",
       "      <th>M</th>\n",
       "      <td>66.56</td>\n",
       "      <td>30.83</td>\n",
       "      <td>15247</td>\n",
       "    </tr>\n",
       "  </tbody>\n",
       "</table>\n",
       "</div>"
      ],
      "text/plain": [
       "        Average Score  Std Dev  Count\n",
       "gender                               \n",
       "F               62.28    31.43  12478\n",
       "M               66.56    30.83  15247"
      ]
     },
     "metadata": {},
     "output_type": "display_data"
    },
    {
     "name": "stdout",
     "output_type": "stream",
     "text": [
      "\n",
      "2️⃣  VLE engagement by final result:\n"
     ]
    },
    {
     "data": {
      "text/html": [
       "<div>\n",
       "<style scoped>\n",
       "    .dataframe tbody tr th:only-of-type {\n",
       "        vertical-align: middle;\n",
       "    }\n",
       "\n",
       "    .dataframe tbody tr th {\n",
       "        vertical-align: top;\n",
       "    }\n",
       "\n",
       "    .dataframe thead th {\n",
       "        text-align: right;\n",
       "    }\n",
       "</style>\n",
       "<table border=\"1\" class=\"dataframe\">\n",
       "  <thead>\n",
       "    <tr style=\"text-align: right;\">\n",
       "      <th></th>\n",
       "      <th>Mean Clicks</th>\n",
       "      <th>Median Clicks</th>\n",
       "      <th>Std Dev</th>\n",
       "    </tr>\n",
       "    <tr>\n",
       "      <th>final_result</th>\n",
       "      <th></th>\n",
       "      <th></th>\n",
       "      <th></th>\n",
       "    </tr>\n",
       "  </thead>\n",
       "  <tbody>\n",
       "    <tr>\n",
       "      <th>Distinction</th>\n",
       "      <td>533.5</td>\n",
       "      <td>381.5</td>\n",
       "      <td>549.7</td>\n",
       "    </tr>\n",
       "    <tr>\n",
       "      <th>Fail</th>\n",
       "      <td>211.3</td>\n",
       "      <td>125.0</td>\n",
       "      <td>273.0</td>\n",
       "    </tr>\n",
       "    <tr>\n",
       "      <th>Pass</th>\n",
       "      <td>376.8</td>\n",
       "      <td>268.0</td>\n",
       "      <td>395.1</td>\n",
       "    </tr>\n",
       "    <tr>\n",
       "      <th>Withdrawn</th>\n",
       "      <td>259.2</td>\n",
       "      <td>169.5</td>\n",
       "      <td>317.2</td>\n",
       "    </tr>\n",
       "  </tbody>\n",
       "</table>\n",
       "</div>"
      ],
      "text/plain": [
       "              Mean Clicks  Median Clicks  Std Dev\n",
       "final_result                                     \n",
       "Distinction         533.5          381.5    549.7\n",
       "Fail                211.3          125.0    273.0\n",
       "Pass                376.8          268.0    395.1\n",
       "Withdrawn           259.2          169.5    317.2"
      ]
     },
     "metadata": {},
     "output_type": "display_data"
    },
    {
     "name": "stdout",
     "output_type": "stream",
     "text": [
      "\n",
      "3️⃣  Pass rates by key demographics:\n",
      "\n",
      "📊 Gender:\n"
     ]
    },
    {
     "data": {
      "text/html": [
       "<div>\n",
       "<style scoped>\n",
       "    .dataframe tbody tr th:only-of-type {\n",
       "        vertical-align: middle;\n",
       "    }\n",
       "\n",
       "    .dataframe tbody tr th {\n",
       "        vertical-align: top;\n",
       "    }\n",
       "\n",
       "    .dataframe thead th {\n",
       "        text-align: right;\n",
       "    }\n",
       "</style>\n",
       "<table border=\"1\" class=\"dataframe\">\n",
       "  <thead>\n",
       "    <tr style=\"text-align: right;\">\n",
       "      <th></th>\n",
       "      <th>Total</th>\n",
       "      <th>Passed</th>\n",
       "      <th>Pass_Rate_%</th>\n",
       "    </tr>\n",
       "    <tr>\n",
       "      <th>gender</th>\n",
       "      <th></th>\n",
       "      <th></th>\n",
       "      <th></th>\n",
       "    </tr>\n",
       "  </thead>\n",
       "  <tbody>\n",
       "    <tr>\n",
       "      <th>F</th>\n",
       "      <td>12478</td>\n",
       "      <td>7129</td>\n",
       "      <td>57.1</td>\n",
       "    </tr>\n",
       "    <tr>\n",
       "      <th>M</th>\n",
       "      <td>15247</td>\n",
       "      <td>8256</td>\n",
       "      <td>54.1</td>\n",
       "    </tr>\n",
       "  </tbody>\n",
       "</table>\n",
       "</div>"
      ],
      "text/plain": [
       "        Total  Passed  Pass_Rate_%\n",
       "gender                            \n",
       "F       12478    7129         57.1\n",
       "M       15247    8256         54.1"
      ]
     },
     "metadata": {},
     "output_type": "display_data"
    },
    {
     "name": "stdout",
     "output_type": "stream",
     "text": [
      "\n",
      "📊 Age Band:\n"
     ]
    },
    {
     "data": {
      "text/html": [
       "<div>\n",
       "<style scoped>\n",
       "    .dataframe tbody tr th:only-of-type {\n",
       "        vertical-align: middle;\n",
       "    }\n",
       "\n",
       "    .dataframe tbody tr th {\n",
       "        vertical-align: top;\n",
       "    }\n",
       "\n",
       "    .dataframe thead th {\n",
       "        text-align: right;\n",
       "    }\n",
       "</style>\n",
       "<table border=\"1\" class=\"dataframe\">\n",
       "  <thead>\n",
       "    <tr style=\"text-align: right;\">\n",
       "      <th></th>\n",
       "      <th>Total</th>\n",
       "      <th>Passed</th>\n",
       "      <th>Pass_Rate_%</th>\n",
       "    </tr>\n",
       "    <tr>\n",
       "      <th>age_band</th>\n",
       "      <th></th>\n",
       "      <th></th>\n",
       "      <th></th>\n",
       "    </tr>\n",
       "  </thead>\n",
       "  <tbody>\n",
       "    <tr>\n",
       "      <th>0-35</th>\n",
       "      <td>19327</td>\n",
       "      <td>10332</td>\n",
       "      <td>53.5</td>\n",
       "    </tr>\n",
       "    <tr>\n",
       "      <th>35-55</th>\n",
       "      <td>8203</td>\n",
       "      <td>4920</td>\n",
       "      <td>60.0</td>\n",
       "    </tr>\n",
       "    <tr>\n",
       "      <th>55&lt;=</th>\n",
       "      <td>195</td>\n",
       "      <td>133</td>\n",
       "      <td>68.2</td>\n",
       "    </tr>\n",
       "  </tbody>\n",
       "</table>\n",
       "</div>"
      ],
      "text/plain": [
       "          Total  Passed  Pass_Rate_%\n",
       "age_band                            \n",
       "0-35      19327   10332         53.5\n",
       "35-55      8203    4920         60.0\n",
       "55<=        195     133         68.2"
      ]
     },
     "metadata": {},
     "output_type": "display_data"
    },
    {
     "name": "stdout",
     "output_type": "stream",
     "text": [
      "\n",
      "📊 Disability:\n"
     ]
    },
    {
     "data": {
      "text/html": [
       "<div>\n",
       "<style scoped>\n",
       "    .dataframe tbody tr th:only-of-type {\n",
       "        vertical-align: middle;\n",
       "    }\n",
       "\n",
       "    .dataframe tbody tr th {\n",
       "        vertical-align: top;\n",
       "    }\n",
       "\n",
       "    .dataframe thead th {\n",
       "        text-align: right;\n",
       "    }\n",
       "</style>\n",
       "<table border=\"1\" class=\"dataframe\">\n",
       "  <thead>\n",
       "    <tr style=\"text-align: right;\">\n",
       "      <th></th>\n",
       "      <th>Total</th>\n",
       "      <th>Passed</th>\n",
       "      <th>Pass_Rate_%</th>\n",
       "    </tr>\n",
       "    <tr>\n",
       "      <th>disability</th>\n",
       "      <th></th>\n",
       "      <th></th>\n",
       "      <th></th>\n",
       "    </tr>\n",
       "  </thead>\n",
       "  <tbody>\n",
       "    <tr>\n",
       "      <th>N</th>\n",
       "      <td>25087</td>\n",
       "      <td>14178</td>\n",
       "      <td>56.5</td>\n",
       "    </tr>\n",
       "    <tr>\n",
       "      <th>Y</th>\n",
       "      <td>2638</td>\n",
       "      <td>1207</td>\n",
       "      <td>45.8</td>\n",
       "    </tr>\n",
       "  </tbody>\n",
       "</table>\n",
       "</div>"
      ],
      "text/plain": [
       "            Total  Passed  Pass_Rate_%\n",
       "disability                            \n",
       "N           25087   14178         56.5\n",
       "Y            2638    1207         45.8"
      ]
     },
     "metadata": {},
     "output_type": "display_data"
    },
    {
     "name": "stdout",
     "output_type": "stream",
     "text": [
      "\n",
      "4️⃣  Correlations between key variables:\n"
     ]
    },
    {
     "data": {
      "text/html": [
       "<div>\n",
       "<style scoped>\n",
       "    .dataframe tbody tr th:only-of-type {\n",
       "        vertical-align: middle;\n",
       "    }\n",
       "\n",
       "    .dataframe tbody tr th {\n",
       "        vertical-align: top;\n",
       "    }\n",
       "\n",
       "    .dataframe thead th {\n",
       "        text-align: right;\n",
       "    }\n",
       "</style>\n",
       "<table border=\"1\" class=\"dataframe\">\n",
       "  <thead>\n",
       "    <tr style=\"text-align: right;\">\n",
       "      <th></th>\n",
       "      <th>score</th>\n",
       "      <th>total_click_vle</th>\n",
       "      <th>excellent_Score</th>\n",
       "      <th>active_in_VLE</th>\n",
       "      <th>final_result_code</th>\n",
       "    </tr>\n",
       "  </thead>\n",
       "  <tbody>\n",
       "    <tr>\n",
       "      <th>score</th>\n",
       "      <td>1.000</td>\n",
       "      <td>0.279</td>\n",
       "      <td>0.779</td>\n",
       "      <td>0.243</td>\n",
       "      <td>0.374</td>\n",
       "    </tr>\n",
       "    <tr>\n",
       "      <th>total_click_vle</th>\n",
       "      <td>0.279</td>\n",
       "      <td>1.000</td>\n",
       "      <td>0.266</td>\n",
       "      <td>0.605</td>\n",
       "      <td>0.187</td>\n",
       "    </tr>\n",
       "    <tr>\n",
       "      <th>excellent_Score</th>\n",
       "      <td>0.779</td>\n",
       "      <td>0.266</td>\n",
       "      <td>1.000</td>\n",
       "      <td>0.222</td>\n",
       "      <td>0.330</td>\n",
       "    </tr>\n",
       "    <tr>\n",
       "      <th>active_in_VLE</th>\n",
       "      <td>0.243</td>\n",
       "      <td>0.605</td>\n",
       "      <td>0.222</td>\n",
       "      <td>1.000</td>\n",
       "      <td>0.220</td>\n",
       "    </tr>\n",
       "    <tr>\n",
       "      <th>final_result_code</th>\n",
       "      <td>0.374</td>\n",
       "      <td>0.187</td>\n",
       "      <td>0.330</td>\n",
       "      <td>0.220</td>\n",
       "      <td>1.000</td>\n",
       "    </tr>\n",
       "  </tbody>\n",
       "</table>\n",
       "</div>"
      ],
      "text/plain": [
       "                   score  total_click_vle  excellent_Score  active_in_VLE  \\\n",
       "score              1.000            0.279            0.779          0.243   \n",
       "total_click_vle    0.279            1.000            0.266          0.605   \n",
       "excellent_Score    0.779            0.266            1.000          0.222   \n",
       "active_in_VLE      0.243            0.605            0.222          1.000   \n",
       "final_result_code  0.374            0.187            0.330          0.220   \n",
       "\n",
       "                   final_result_code  \n",
       "score                          0.374  \n",
       "total_click_vle                0.187  \n",
       "excellent_Score                0.330  \n",
       "active_in_VLE                  0.220  \n",
       "final_result_code              1.000  "
      ]
     },
     "metadata": {},
     "output_type": "display_data"
    },
    {
     "name": "stdout",
     "output_type": "stream",
     "text": [
      "\n",
      "✅ Custom exploration complete!\n"
     ]
    }
   ],
   "source": [
    "# =============================================================================\n",
    "# CELL 9: Custom Data Exploration\n",
    "# =============================================================================\n",
    "\n",
    "# Custom exploration of specific aspects\n",
    "print(\"🔍 CUSTOM DATA EXPLORATION:\")\n",
    "print(\"=\" * 50)\n",
    "\n",
    "# 1. Score distribution by gender\n",
    "print(\"\\n1️⃣  Average score by gender:\")\n",
    "gender_scores = processed_data.groupby('gender')['score'].agg(['mean', 'std', 'count'])\n",
    "gender_scores.columns = ['Average Score', 'Std Dev', 'Count']\n",
    "display(gender_scores.round(2))\n",
    "\n",
    "# 2. VLE engagement by final result\n",
    "print(\"\\n2️⃣  VLE engagement by final result:\")\n",
    "vle_by_result = processed_data.groupby('final_result')['total_click_vle'].agg(['mean', 'median', 'std'])\n",
    "vle_by_result.columns = ['Mean Clicks', 'Median Clicks', 'Std Dev']\n",
    "display(vle_by_result.round(1))\n",
    "\n",
    "# 3. Pass rates by demographic factors\n",
    "print(\"\\n3️⃣  Pass rates by key demographics:\")\n",
    "pass_rates = {}\n",
    "for var in ['gender', 'age_band', 'disability']:\n",
    "    if var in processed_data.columns:\n",
    "        rates = processed_data.groupby(var).agg({\n",
    "            'final_result_code': ['count', lambda x: (x >= 2).sum()]\n",
    "        })\n",
    "        rates.columns = ['Total', 'Passed']\n",
    "        rates['Pass_Rate_%'] = (rates['Passed'] / rates['Total'] * 100).round(1)\n",
    "        pass_rates[var] = rates\n",
    "\n",
    "for var, rates in pass_rates.items():\n",
    "    print(f\"\\n📊 {var.replace('_', ' ').title()}:\")\n",
    "    display(rates)\n",
    "\n",
    "# 4. Correlation matrix for key numeric variables\n",
    "print(\"\\n4️⃣  Correlations between key variables:\")\n",
    "numeric_vars = ['score', 'total_click_vle', 'excellent_Score', 'active_in_VLE', 'final_result_code']\n",
    "corr_matrix = processed_data[numeric_vars].corr().round(3)\n",
    "display(corr_matrix)\n",
    "\n",
    "print(\"\\n✅ Custom exploration complete!\")"
   ]
  }
 ],
 "metadata": {
  "kernelspec": {
   "display_name": "text_analytics",
   "language": "python",
   "name": "python3"
  },
  "language_info": {
   "codemirror_mode": {
    "name": "ipython",
    "version": 3
   },
   "file_extension": ".py",
   "mimetype": "text/x-python",
   "name": "python",
   "nbconvert_exporter": "python",
   "pygments_lexer": "ipython3",
   "version": "3.11.11"
  }
 },
 "nbformat": 4,
 "nbformat_minor": 5
}
